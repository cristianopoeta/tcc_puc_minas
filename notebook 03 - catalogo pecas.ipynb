{
 "cells": [
  {
   "cell_type": "markdown",
   "id": "9c2894af",
   "metadata": {},
   "source": [
    "<h1 style=\"background-color:black; color:white; padding:10px;\">\n",
    "    Notebook 03 - Dataset do catálogo de peças\n",
    "</h1>"
   ]
  },
  {
   "cell_type": "markdown",
   "id": "ee78d353",
   "metadata": {},
   "source": [
    "<hr style=\"background-color:transparent;height:4px;border:none;border-top:2px solid #c0c0c0;border-bottom:2px solid #c0c0c0;\">\n",
    "\n",
    "### Definições iniciais"
   ]
  },
  {
   "cell_type": "markdown",
   "id": "ab58ecb2",
   "metadata": {},
   "source": [
    "<hr style=\"height:0px;border:none;border-top:1px solid #c0c0c0;\">\n",
    "\n",
    "- Habilitação de recarga de módulo editado."
   ]
  },
  {
   "cell_type": "code",
   "execution_count": 1,
   "id": "ec0b0314",
   "metadata": {},
   "outputs": [],
   "source": [
    "%load_ext autoreload\n",
    "%autoreload 2"
   ]
  },
  {
   "cell_type": "markdown",
   "id": "612f292e",
   "metadata": {
    "executionInfo": {
     "elapsed": 250,
     "status": "ok",
     "timestamp": 1623709700289,
     "user": {
      "displayName": "Cristiano Poeta Faria",
      "photoUrl": "https://lh3.googleusercontent.com/a-/AOh14GjEcGJ0o6euRypOR-m-qrENp4--CxGFq3-g75o8qQ=s64",
      "userId": "01408965004610225019"
     },
     "user_tz": 180
    },
    "id": "Gmv3PXbEQYqx"
   },
   "source": [
    "<hr style=\"height:0px;border:none;border-top:1px solid #c0c0c0;\">\n",
    "\n",
    "- Pacotes de uso geral."
   ]
  },
  {
   "cell_type": "code",
   "execution_count": 2,
   "id": "9d0e4106",
   "metadata": {
    "executionInfo": {
     "elapsed": 250,
     "status": "ok",
     "timestamp": 1623709700289,
     "user": {
      "displayName": "Cristiano Poeta Faria",
      "photoUrl": "https://lh3.googleusercontent.com/a-/AOh14GjEcGJ0o6euRypOR-m-qrENp4--CxGFq3-g75o8qQ=s64",
      "userId": "01408965004610225019"
     },
     "user_tz": 180
    },
    "id": "Gmv3PXbEQYqx"
   },
   "outputs": [],
   "source": [
    "import sys\n",
    "import dtale    # instalado com: conda install dtale -c conda-forge\n",
    "import numpy as np\n",
    "import pandas as pd\n",
    "from html import unescape\n",
    "from tqdm.notebook import tqdm\n",
    "from pprint import pprint #, pformat , PrettyPrinter"
   ]
  },
  {
   "cell_type": "markdown",
   "id": "7961ecf1",
   "metadata": {
    "executionInfo": {
     "elapsed": 250,
     "status": "ok",
     "timestamp": 1623709700289,
     "user": {
      "displayName": "Cristiano Poeta Faria",
      "photoUrl": "https://lh3.googleusercontent.com/a-/AOh14GjEcGJ0o6euRypOR-m-qrENp4--CxGFq3-g75o8qQ=s64",
      "userId": "01408965004610225019"
     },
     "user_tz": 180
    },
    "id": "Gmv3PXbEQYqx"
   },
   "source": [
    "<hr style=\"height:0px;border:none;border-top:1px solid #c0c0c0;\">\n",
    "\n",
    "- Funções do pacote `bricklink_api`.\n",
    "- Pacote `bricklinp_api`: https://github.com/BrickBytes/bricklink_api .\n",
    "- Referência da API do Bricklink: https://www.bricklink.com/v3/api.page ."
   ]
  },
  {
   "cell_type": "code",
   "execution_count": 3,
   "id": "59362be5",
   "metadata": {
    "executionInfo": {
     "elapsed": 250,
     "status": "ok",
     "timestamp": 1623709700289,
     "user": {
      "displayName": "Cristiano Poeta Faria",
      "photoUrl": "https://lh3.googleusercontent.com/a-/AOh14GjEcGJ0o6euRypOR-m-qrENp4--CxGFq3-g75o8qQ=s64",
      "userId": "01408965004610225019"
     },
     "user_tz": 180
    },
    "id": "Gmv3PXbEQYqx"
   },
   "outputs": [],
   "source": [
    "from bricklink_api.auth import DefaultOAuth\n",
    "from bricklink_api.catalog_item import get_item, Type"
   ]
  },
  {
   "cell_type": "markdown",
   "id": "4435d3e8",
   "metadata": {
    "executionInfo": {
     "elapsed": 250,
     "status": "ok",
     "timestamp": 1623709700289,
     "user": {
      "displayName": "Cristiano Poeta Faria",
      "photoUrl": "https://lh3.googleusercontent.com/a-/AOh14GjEcGJ0o6euRypOR-m-qrENp4--CxGFq3-g75o8qQ=s64",
      "userId": "01408965004610225019"
     },
     "user_tz": 180
    },
    "id": "Gmv3PXbEQYqx"
   },
   "source": [
    "<hr style=\"height:0px;border:none;border-top:1px solid #c0c0c0;\">\n",
    "\n",
    "- Módulos em diretórios fora de `sys.path` ."
   ]
  },
  {
   "cell_type": "code",
   "execution_count": 4,
   "id": "349bcb2d",
   "metadata": {},
   "outputs": [],
   "source": [
    "# diretório com módulos utilitários\n",
    "sys.path.append('d:/py_utils')"
   ]
  },
  {
   "cell_type": "code",
   "execution_count": 5,
   "id": "fed26460",
   "metadata": {},
   "outputs": [],
   "source": [
    "from pd_utils import (\n",
    "    d_pd, exemplo_linha, resumo_tipos, resumo_categ, resumo_serie,\n",
    "    DisplayPandas, ExemploLinha, ResumoTipos, ResumoCateg, ResumoSerie\n",
    ")"
   ]
  },
  {
   "cell_type": "markdown",
   "id": "304ce75b",
   "metadata": {
    "executionInfo": {
     "elapsed": 250,
     "status": "ok",
     "timestamp": 1623709700289,
     "user": {
      "displayName": "Cristiano Poeta Faria",
      "photoUrl": "https://lh3.googleusercontent.com/a-/AOh14GjEcGJ0o6euRypOR-m-qrENp4--CxGFq3-g75o8qQ=s64",
      "userId": "01408965004610225019"
     },
     "user_tz": 180
    },
    "id": "Gmv3PXbEQYqx"
   },
   "source": [
    "<hr style=\"height:0px;border:none;border-top:1px solid #c0c0c0;\">\n",
    "\n",
    "- Módulos no diretório do notebook."
   ]
  },
  {
   "cell_type": "code",
   "execution_count": 6,
   "id": "6f38b8b9",
   "metadata": {},
   "outputs": [],
   "source": [
    "from tcc import (\n",
    "    ofuscar_params, frame2pickle, pickle2frame, object2pickle, pickle2object, coletar_dict)"
   ]
  },
  {
   "cell_type": "markdown",
   "id": "800caed6",
   "metadata": {
    "executionInfo": {
     "elapsed": 250,
     "status": "ok",
     "timestamp": 1623709700289,
     "user": {
      "displayName": "Cristiano Poeta Faria",
      "photoUrl": "https://lh3.googleusercontent.com/a-/AOh14GjEcGJ0o6euRypOR-m-qrENp4--CxGFq3-g75o8qQ=s64",
      "userId": "01408965004610225019"
     },
     "user_tz": 180
    },
    "id": "Gmv3PXbEQYqx"
   },
   "source": [
    "<hr style=\"height:0px;border:none;border-top:1px solid #c0c0c0;\">\n",
    "\n",
    "- Utilidades de exibição e resumo de objetos `pandas`."
   ]
  },
  {
   "cell_type": "code",
   "execution_count": 7,
   "id": "5a1ab55b",
   "metadata": {},
   "outputs": [],
   "source": [
    "# primeiro item, 4 items intermediárias, item final e dimensões de objeto pandas\n",
    "h1s4t1 = DisplayPandas(head=1, sample=4, tail=1)"
   ]
  },
  {
   "cell_type": "markdown",
   "id": "8133b7ce",
   "metadata": {
    "executionInfo": {
     "elapsed": 250,
     "status": "ok",
     "timestamp": 1623709700289,
     "user": {
      "displayName": "Cristiano Poeta Faria",
      "photoUrl": "https://lh3.googleusercontent.com/a-/AOh14GjEcGJ0o6euRypOR-m-qrENp4--CxGFq3-g75o8qQ=s64",
      "userId": "01408965004610225019"
     },
     "user_tz": 180
    },
    "id": "Gmv3PXbEQYqx"
   },
   "source": [
    "<hr style=\"height:0px;border:none;border-top:1px solid #c0c0c0;\">\n",
    "\n",
    "- Outras definições."
   ]
  },
  {
   "cell_type": "code",
   "execution_count": 8,
   "id": "f5b2285b",
   "metadata": {
    "scrolled": true
   },
   "outputs": [],
   "source": [
    "d = display\n",
    "pdod = pd.options.display\n",
    "pdoc = pd.option_context"
   ]
  },
  {
   "cell_type": "markdown",
   "id": "e3a206b8",
   "metadata": {},
   "source": [
    "<hr style=\"background-color:transparent;height:4px;border:none;border-top:2px solid #c0c0c0;border-bottom:2px solid #c0c0c0;\">\n",
    "\n",
    "### Módulo `tcc`: variáveis comuns a mais de um notebook"
   ]
  },
  {
   "cell_type": "code",
   "execution_count": 9,
   "id": "d50a6de2",
   "metadata": {},
   "outputs": [],
   "source": [
    "# módulo `tcc.py` na pasta do notebok com variáveis comuns aos notebooks\n",
    "import tcc"
   ]
  },
  {
   "cell_type": "code",
   "execution_count": 10,
   "id": "2f8a25b0",
   "metadata": {
    "colab": {
     "base_uri": "https://localhost:8080/"
    },
    "executionInfo": {
     "elapsed": 8,
     "status": "ok",
     "timestamp": 1623709718009,
     "user": {
      "displayName": "Cristiano Poeta Faria",
      "photoUrl": "https://lh3.googleusercontent.com/a-/AOh14GjEcGJ0o6euRypOR-m-qrENp4--CxGFq3-g75o8qQ=s64",
      "userId": "01408965004610225019"
     },
     "user_tz": 180
    },
    "id": "OhuNTJaZhmxE",
    "outputId": "768ff264-d56d-41eb-98dd-5de29edc69a0",
    "scrolled": true
   },
   "outputs": [
    {
     "data": {
      "text/plain": [
       "WindowsPath('d:/jup_ws/tcc')"
      ]
     },
     "metadata": {},
     "output_type": "display_data"
    },
    {
     "data": {
      "text/plain": [
       "WindowsPath('d:/jup_ws/tcc/bricklink')"
      ]
     },
     "metadata": {},
     "output_type": "display_data"
    },
    {
     "data": {
      "text/plain": [
       "WindowsPath('d:/jup_ws/tcc/bricklink/params_autent.json')"
      ]
     },
     "metadata": {},
     "output_type": "display_data"
    },
    {
     "data": {
      "text/plain": [
       "WindowsPath('d:/jup_ws/tcc/bricklink/df_catal_bricks.pickle')"
      ]
     },
     "metadata": {},
     "output_type": "display_data"
    }
   ],
   "source": [
    "# caminhos\n",
    "d(\n",
    "      tcc.p_dir_tcc    # diretório inicial TCC\n",
    "    , tcc.p_dir_bricklink    # diretório dados Bricklink\n",
    "    , tcc.p_arq_autent    # parâmetros autenticação API Bricklink\n",
    "    , tcc.pckl_df_catal_bricks    # arquivo pickle dataframe\n",
    ")"
   ]
  },
  {
   "cell_type": "code",
   "execution_count": 11,
   "id": "d5777390",
   "metadata": {
    "executionInfo": {
     "elapsed": 248,
     "status": "ok",
     "timestamp": 1623709730970,
     "user": {
      "displayName": "Cristiano Poeta Faria",
      "photoUrl": "https://lh3.googleusercontent.com/a-/AOh14GjEcGJ0o6euRypOR-m-qrENp4--CxGFq3-g75o8qQ=s64",
      "userId": "01408965004610225019"
     },
     "user_tz": 180
    },
    "id": "TnJqwWpI0yMO"
   },
   "outputs": [
    {
     "data": {
      "text/plain": [
       "{'consumer_key': '********************************',\n",
       " 'consumer_secret': '********************************',\n",
       " 'token_secret': '********************************',\n",
       " 'token_value': '********************************'}"
      ]
     },
     "execution_count": 11,
     "metadata": {},
     "output_type": "execute_result"
    }
   ],
   "source": [
    "# conteúdo ofuscado dos parâmetros de autenticação\n",
    "ofuscar_params(tcc.params_autent)"
   ]
  },
  {
   "cell_type": "code",
   "execution_count": 12,
   "id": "55844d95",
   "metadata": {
    "scrolled": false
   },
   "outputs": [
    {
     "data": {
      "text/plain": [
       "'14716 22886 2356 2357 2453 2453a 2453b 2454 2456 2465 3001 3001f1 3001old 3001oldb 3001oldf1 3001special 3002 3002f1 3002old 3003 3003f1 3003old 3004 3004f1 3004f2 3005 3005f1 3005f2 3005f3 3006 3007 30072 3008 3008f1 3008f2 3009 3009f1 3009f2 3009f3 3010 3010f1 3010f2 3010f3 30144 30145 30400 3065 3066 3067 3245b 3245c 3622 3622f1 3754 3755 4201 4202 4204 46212 49311 6111 6112 6212 6213 700 700e 700eD 700eD2 700eX 702 702old 733 733eX 772 bhol01 bhol02 bhol03 bhol04 bhol05 bhol06 crssprt01 crssprt02 crssprt03 crssprt04 x1214'"
      ]
     },
     "execution_count": 12,
     "metadata": {},
     "output_type": "execute_result"
    }
   ],
   "source": [
    "# string com números de partes que comporão o dataset\n",
    "tcc.txt_nos_bricks"
   ]
  },
  {
   "cell_type": "markdown",
   "id": "0e6a4fd5",
   "metadata": {},
   "source": [
    "<hr style=\"background-color:transparent;height:4px;border:none;border-top:2px solid #c0c0c0;border-bottom:2px solid #c0c0c0;\">\n",
    "\n",
    "### Autenticação para API do Bricklink"
   ]
  },
  {
   "cell_type": "markdown",
   "id": "9418fef9",
   "metadata": {},
   "source": [
    "- Referência API: https://www.bricklink.com/v3/api.page?page=auth"
   ]
  },
  {
   "cell_type": "code",
   "execution_count": 13,
   "id": "1d2b70dd",
   "metadata": {
    "executionInfo": {
     "elapsed": 248,
     "status": "ok",
     "timestamp": 1623709730970,
     "user": {
      "displayName": "Cristiano Poeta Faria",
      "photoUrl": "https://lh3.googleusercontent.com/a-/AOh14GjEcGJ0o6euRypOR-m-qrENp4--CxGFq3-g75o8qQ=s64",
      "userId": "01408965004610225019"
     },
     "user_tz": 180
    },
    "id": "TnJqwWpI0yMO"
   },
   "outputs": [],
   "source": [
    "default_oauth = DefaultOAuth()\n",
    "default_oauth.set(**tcc.params_autent)"
   ]
  },
  {
   "cell_type": "markdown",
   "id": "8f613d8f",
   "metadata": {},
   "source": [
    "<hr style=\"background-color:transparent;height:4px;border:none;border-top:2px solid #c0c0c0;border-bottom:2px solid #c0c0c0;\">\n",
    "\n",
    "### Catálogo das peças de interesse"
   ]
  },
  {
   "cell_type": "markdown",
   "id": "26db893c",
   "metadata": {},
   "source": [
    "- Peças de interesse: https://www.bricklink.com/catalogList.asp?catType=P&catString=5\n",
    "- Referência API: https://www.bricklink.com/v3/api.page?page=get-item"
   ]
  },
  {
   "cell_type": "markdown",
   "id": "6443c5ae",
   "metadata": {},
   "source": [
    "<hr style=\"height:0px;border:none;border-top:1px solid #c0c0c0;\">\n",
    "\n",
    "- Exemplo de resultado da função `get_item` ."
   ]
  },
  {
   "cell_type": "code",
   "execution_count": 14,
   "id": "33b8dd0f",
   "metadata": {},
   "outputs": [
    {
     "name": "stdout",
     "output_type": "stream",
     "text": [
      "{'meta': {'description': 'OK', 'message': 'OK', 'code': 200},\n",
      " 'data': {'no': '2453',\n",
      "          'name': 'Brick 1 x 1 x 5 &#40;Undetermined Type&#41;',\n",
      "          'type': 'PART',\n",
      "          'category_id': 5,\n",
      "          'image_url': '//img.bricklink.com/PL/2453.gif',\n",
      "          'thumbnail_url': '//img.bricklink.com/P/3/2453.gif',\n",
      "          'weight': '2.13',\n",
      "          'dim_x': '1.00',\n",
      "          'dim_y': '1.00',\n",
      "          'dim_z': '5.00',\n",
      "          'year_released': 2009,\n",
      "          'description': '',\n",
      "          'is_obsolete': False}}\n"
     ]
    }
   ],
   "source": [
    "pprint(\n",
    "    get_item(type_=Type.PART, no='2453')\n",
    ", sort_dicts=False)"
   ]
  },
  {
   "cell_type": "markdown",
   "id": "0331f8d2",
   "metadata": {},
   "source": [
    "<hr style=\"height:0px;border:none;border-top:1px solid #c0c0c0;\">\n",
    "\n",
    "- Lista dos códigos das peças de interesse.\n",
    "- Quantidade de peças de interesse.\n",
    "- Peças de interesse são da categoria *brick*: https://www.bricklink.com/catalogList.asp?catType=P&catString=5"
   ]
  },
  {
   "cell_type": "code",
   "execution_count": 15,
   "id": "e5208e13",
   "metadata": {
    "executionInfo": {
     "elapsed": 298,
     "status": "ok",
     "timestamp": 1623709735492,
     "user": {
      "displayName": "Cristiano Poeta Faria",
      "photoUrl": "https://lh3.googleusercontent.com/a-/AOh14GjEcGJ0o6euRypOR-m-qrENp4--CxGFq3-g75o8qQ=s64",
      "userId": "01408965004610225019"
     },
     "user_tz": 180
    },
    "id": "EYm4d_V58SP3",
    "scrolled": true
   },
   "outputs": [
    {
     "name": "stdout",
     "output_type": "stream",
     "text": [
      "['14716', '22886', '2356', '2357', '2453', '2453a', '2453b', '2454', '2456', '2465', '3001', '3001f1', '3001old', '3001oldb', '3001oldf1', '3001special', '3002', '3002f1', '3002old', '3003', '3003f1', '3003old', '3004', '3004f1', '3004f2', '3005', '3005f1', '3005f2', '3005f3', '3006', '3007', '30072', '3008', '3008f1', '3008f2', '3009', '3009f1', '3009f2', '3009f3', '3010', '3010f1', '3010f2', '3010f3', '30144', '30145', '30400', '3065', '3066', '3067', '3245b', '3245c', '3622', '3622f1', '3754', '3755', '4201', '4202', '4204', '46212', '49311', '6111', '6112', '6212', '6213', '700', '700e', '700eD', '700eD2', '700eX', '702', '702old', '733', '733eX', '772', 'bhol01', 'bhol02', 'bhol03', 'bhol04', 'bhol05', 'bhol06', 'crssprt01', 'crssprt02', 'crssprt03', 'crssprt04', 'x1214']\n"
     ]
    },
    {
     "data": {
      "text/plain": [
       "85"
      ]
     },
     "execution_count": 15,
     "metadata": {},
     "output_type": "execute_result"
    }
   ],
   "source": [
    "nos_bricks = tcc.txt_nos_bricks.split(' ') \n",
    "print(nos_bricks)\n",
    "len(nos_bricks)"
   ]
  },
  {
   "cell_type": "markdown",
   "id": "d7303641",
   "metadata": {},
   "source": [
    "<hr style=\"height:0px;border:none;border-top:1px solid #c0c0c0;\">\n",
    "\n",
    "- Coleta dos dados do catálogo para as peças de interesse, em um dicionário, permitindo retomada das consultas somente para códigos de peças ainda não coletados."
   ]
  },
  {
   "cell_type": "code",
   "execution_count": 16,
   "id": "ae1ffdbd",
   "metadata": {},
   "outputs": [],
   "source": [
    "# dicionário `dct_guia_precos` armazena resultados de todas consultas realizadas \n",
    "# com `get_item` para os códigos de peças em `nos_bricks`\n",
    "dct_catal_bricks = {}"
   ]
  },
  {
   "cell_type": "code",
   "execution_count": 17,
   "id": "068c0b63",
   "metadata": {
    "scrolled": false
   },
   "outputs": [],
   "source": [
    "# função `coletar_dict` só consulta parâmetros ainda não coletados e exibe barra de progresso.\n",
    "# coletar_dict(dct_coleta=dct_catal_bricks, \n",
    "#     iter_tqdm=nos_bricks, desc_tqdm='Importando bricks', unit_tqdm='brick',\n",
    "#     fn_postfix=lambda no: dict(no=no), fn_chave=lambda no: no, \n",
    "#     fn_coleta=lambda no: get_item(type_=Type.PART, no=no)['data']\n",
    "# )"
   ]
  },
  {
   "cell_type": "markdown",
   "id": "7d212559",
   "metadata": {},
   "source": [
    "<img style=\"float:left;\" src=\"data:image/png;base64, \n",
    "iVBORw0KGgoAAAANSUhEUgAAAmgAAAA0CAIAAACxXlO7AAARaUlEQVR4nO2dP4jj3nbHzw15qd6v\n",
    "l8FTKGyTYnjgIliGbQwb0gSy0rNhpBBYhlTTmemscWFLnZluqzBM8niSYYw0gdeELLhZ8DUJuJni\n",
    "NUNU2CD1v1flFTfF1ZWubMlj7/x2Z7x7PtWufP+ceyWdc8/3XnsIYwwQBEEQBNmPv3hpAxAEQRDk\n",
    "mMDAiSAIgiAHgIETQRAEQQ7gL1/agB+I//zf//rdH3//859/fmlDEORgfvrVT//8N//093/9dy9t\n",
    "CIK8PJhxfjswaiLHy89//vl3f/z9S1uBIK8CDJzfDoyayFGDDzCCcDBwIgiCIMgBbAXOhUuIS1/C\n",
    "lEOgLiHuYo+CewyHjggZVRQ5jtlAkJchmRiE0/WT7YuEyK9PMjGMSQIAsPZFCcNfi48XrlRLul74\n",
    "NL1OR6L1LSdARyTtpdrasgKJ362s+EQL2XCkSXh+rVILy51ePnWFectmKfNvu3xdbtXW5MsNllXP\n",
    "7+xrYOFWPY1bs1cxpTsngfMSGeceZiEI8tpZuDWzMWeMsdgDqyZcavQY6n7MUvqaKB49hg1VAaDu\n",
    "idWgjDEW+2CdpJE1iZYwnItagVnf6q7jxfz6wm0NnDljjDq2VljX0hFpDSqsXfsXJngrxlYemBcb\n",
    "/ieZXFjTp8Zb3kLi9yzwYz4JF9vx48tqbZL43Vq5hWvf0Jbeams+J0brwYsZY2zuDFpfNbCJO/sK\n",
    "WLhEs+X/ikeUPy1y3Kma0sTvWeFT/aBUC9oVY1fa0+UQBJFIoiV0VBUAQGm/1+EhSvjlByhzo3Q2\n",
    "cNpNgHW0BF2tAwAobw0dltEagIfbN+o+/dJPNgzbGgA0z72OPUszBuoS0npwnE6FtZ+DsGO06wB1\n",
    "83IYBp/lQEJvTNArKsLC5WlWeQvrWTDVjbcKgGL2nPB+thGgvqxWgbVvkJp16jiln9bNQKwzNuYT\n",
    "Tvlt0NpDCB+jHT2UtrY34s6+NHREiLZ0hnp+qdnPl27NtgMhn5xdU7q4sUDXt68XqQ6cPC+cuJnI\n",
    "sCk4bBUoDKAgESR+l7gjlxBCRv/qnlghhNYJD/6J391UdeiIkJEr1IcyMWc0k6cr0ymqxNtIWJ4W\n",
    "WPsGcd1RekXWH7bFDUHid4WoUiKMUBdzaOQHQ1EbMI0iAIBkdh/q79sKAEAUTdO4WGAxs3m0q6sN\n",
    "4b/yoFIZbrdJogeQQ+wySj1PmzJ2d16MvfmLKQUSACgEEjpqAf1obHfF3/RPbb6wLm9hHYXQyMcr\n",
    "JiTTAA+pVYV6uWLsqr2rCAAU5hPUN9lShs4G4LzLM3/hckWyvnBJ13W7hBDD/x9ZDqx2rWvfyHx+\n",
    "dmdzBX73Plrid4kxckXhgphPivJ1UfYXnnnhSl1QN7Pk3Zyx4PzNk/ME1VNKXQ3m1yXPwga7M87Q\n",
    "emzzJDc0axfwkTEW+3po3tCswL0aM65C1PhIqiQC+0GNGWNX/9JfeTro3iow65BMLqxTnknHXsce\n",
    "Z9F3sFRXjDE2H4ZWj08idTXb4QrPm6XIxhO/21pyXWgzE8+wrcfLrQL28k3MGOtLCyXJ8th7kMWN\n",
    "xO/WgvcxuzMVoK4QRhhtCNu0/sHLNAQ5cpp9tlLHhBBSi3osOFMAeEIZWiebDjSJliLaaX0Wq9eE\n",
    "EFJ7vGR3pgi3YGtiQfqUrihCrKKeZtc0rSTpKbyYWbhV30gZxdofP3jnG3WzkMkKclR5C2naDVBX\n",
    "xVXFvMt9y961Kqhr2pO+Ze0bhNTM0OmZ6dScBawX1QghZKyuJEc3sKIed612K9sLnNrQY4wFZi1r\n",
    "UXKtK28pu9a1b5wExiq94+LOJn4vVeDZyltqTxwNCQdwKdx+i2cpZcq/chawDa40aPYzlZ6OWvZw\n",
    "zi3RmruEw2QytkFkxhVTmkzGS/98H/lxd+DUvQ8aAL+1XFgARW3IJdL7VDcvh2B/osW1p3bu65kK\n",
    "IS4WUM4C8VxGkSw3Dy/NbN3EWcyyYStnl2mKnSseXLfZUGCKoygUELVyZMsV8044AliOu7XgfSz+\n",
    "CwChdUsBAJp98dojyA9HMjHISXTJGGOs/UmINOsoBF2sLLOlajK7h/SNW/sGqXHfzd7N0oRjHS0B\n",
    "HOF2s1X4NxiE3wuM68JbnEwMcs1X+cezg1M3gzRipYsVOiLpKNhH6ElrkU66StA+ePo0mKXhcEtr\n",
    "lV2rrN8+jI2TwFhlyxHpzgLY136Slu/vnjs9jU/50idX4EExew4MZrtCb7M/H9otQloDZ77PbVq4\n",
    "NTN06E6r1v7FvfHxbC+P/sw9zlyTEREuiqZ7Si4AIMue42XVHgMAFDZUAEBVeeENxaOcrIC8Pt2m\n",
    "yvIQQE6ytT6bO4NWhaKLID8Iyew+FO4PtA+ePhj7a76rJLxqvlSNomn6Giafg1D4br5JOZ4k3O+n\n",
    "WVG+Cq9EyLNJ9HCAxZk8Gz2Kwx+LG+v0ckMrynO1rbe7pAWQhNZ1VHqo5MtqfQn51NHZQGQ1fBs1\n",
    "82CZblwv5kAbVLnWKUBHZA4A0p1VzLvYA6tW1Fr3ZlOBT6+WSrUAwB85gCdiIWfhEs12aEFf3Ibe\n",
    "Wo3evonQMwOn2GvNnwlV7eS7Dk+R+Ne2OIBXtscgIW2oQJ6e1tVsM3yf7na+ZlWWO5d3wXwo9AQA\n",
    "AK3P0qWxPmh9q6UxghwlDVXJt8H2pvqg0Obyd89lekEmFe3TTzaki+CaNYXQrKV+udkXCXHuqUtb\n",
    "2BRa88X9rn6frPWllIefctbRcsenVa51eBnczZ3M7xXurGLecc84d6b7HBWWUdTTkhNM5VItQHos\n",
    "uaPbT2nCsHCJtvRWT0RNvtRINwvSUzi7dmqfe6o2XRiu/XG6/6y032fyLL0xw1KFViadrMXNE8fB\n",
    "m20HxCboYpbucdbbRqa+Lm6s6bYAC5DXqirAkS3f/MaSdiWeFfm7NHW1AWXnIBDk+0dpv8+VGHpr\n",
    "8WMpycSQTnZcWFOn3QT6yc4OpyhvDX1q3aRuV7yS8hemF25rsOM9Be2dyJ8WN7z9vcx9a6Q58dof\n",
    "i/a1q8wfx14HdD8uyLNZ+OT7bWUtQL1tpIczEv/a3nZ3X1brAGSPlLs4rT0Uwikk/nWmggJwY6Rb\n",
    "Vo7sWje/N6/1sy3G/M7KZVS1c4juyBt9l8mzRYPLSCYXFngfN1OaLda+odkO3ecAikiHeEYE+u5Y\n",
    "+8wfedcdGBMSAoDux/10AzKYP5IasQAAhnN2pgAUlx71ttGxrBMSUdbvOZbWIgOA4Xw+hNZjBFA1\n",
    "3Vp/5RknNWICdLJD54p5N49IjZgAAA5lZRPkGHDBjUwLVGSoBcs7XnynwSI7vqud+3pNc9usH9CI\n",
    "nPBCoPtxvw4A1CVjdYXng5AfCP6+tIgNwN8XUwGAsyAGoybeD2/V1yDxH3T1g6hWNwMaEY1XSw8J\n",
    "Qr3PqEsI4UUqXmRBsz8fpv06lO1MZKUXs25+9IPaCbEAdD8+4FVt9pnQkMtaUMxrL0j9khenO2SJ\n",
    "361FPdZvfmmtJ1m45FqN70yFz6fwSNnUaVex163lfjhbEAwN6BEyBQBnznYokwXXqvtx0AT6KZuT\n",
    "c69Ta41+4+V3lvtncQuHc9Y8cETNfuwbNd5Ax4urdy6TiVEzwVuZCoByNXdIy3gjn0GRSn4OQoAw\n",
    "fdjEQPbbxRSU+3bCGDukFYn0bBVGi335h/94/9ImIMiz+MM/3r9Mx1mceJnuvxUL14X+XmHmWDj+\n",
    "ESUTd/a2vxHm8AcQEARBXgX0E7yGXxL4BTn+ESWzR3Vb0MbAiSDIMTC1at/7z4xoV3ucET0qjn9E\n",
    "inlVonM8Q6pFDgSlWuTYeTGpFkFeE5hxfjt++tVPL20Cgnw5+AAjCOeZp2qRA/jtif5v//3vf/q/\n",
    "P720IQhyML/+q1//9m+f/O1rBPkhQKkWQRAEQQ4ApVoEQRAEOQAMnAiCIAhyABg4EQRBEOQAMHAi\n",
    "CIIgyAFg4EQQBEGQA8DAiSAIgiAHgIETQRAEQQ4AAyeCIAiCHAAGTgRBEAQ5AAycCIIgCHIAGDgR\n",
    "BEEQ5AAqAycdEWOS5P9f+wYhhBDS9aWr1OUXiUu3SubV174hF0AQ5Ltk7Ru/+J/M5P6k6ydA3a/r\n",
    "RhK/W3R6r4inbaOjDef8VC3hqN3FL2fmD0N54KQj0hrIFxK/Z4EfMxZ7YF2IO0FHLXs4Z4zNh3Zr\n",
    "RLOSDcoYmzfMC/4K0VurQY/9z5kiCLI/1P2FPDK9tRqUsV5UIy172H5BN5JMjK3I9GpY++MHL74r\n",
    "+ZPLldTNgMVe5+vZ9D2zHTipS0jrwXHkCV3PgqluvFUAFLPnhPezBACAzgbgvNMAQPvg6YOZWAzq\n",
    "al2u648fvPPmVxsBgiCvhLoZsMCsP11wf7Qr1m8CNPuMMXaFy+8K6mZwUNREnkdJxtmmjN2dq/Kl\n",
    "dRRCIw+H0ygCgHW0LMTIZZRKNKH4R0OtA721Gj28owjy3ZFt32TJZSrVJn63ZQPYGnEXQEeEpHJU\n",
    "MWlbiH0eeVsn3/3JE1Y6ygvmOnDeu7goNUiK+0rJxNi4UtqRTN4pN37h1swQplaNtyCNPRvdRgPb\n",
    "7W+bQUeEjFxRcufoRBuy+prP7cLNh5Zvq91ExYqZRbhx9ky2A6emlWaHHTUNpXVV+mu2IprW1UZ6\n",
    "RTGvvaVGCGkt/XMN000E+T7JNmUYW3lLTfbFink3dwAcyvqV7z51taW3YowxRp3QvKG8zW5r6cei\n",
    "TcNfAyzc1oMXM8YYmw9D65am1U/S3mMfrBOXgshKZXgStnBrZmPOWzi1aiNa6Ig6tra5L5tMDNFp\n",
    "7D20jEkCzX7s69Dhcmhh7PpgvLWtWz4QYUbsATcDAAAGS3UlRtfjwS8fHaONdHSH3BfgXffAnmYj\n",
    "urBO+RzEXscev9Kt3KPhK5yqrZsBY4yx4ExJ002xEsRdaAT5nrCv/QT4K3/oIQatL0TdJFqm1/It\n",
    "IUn1bfbT+AdJ9CBqL2Y2OO0mAIBydumAPav2LfSTDWJzVLti7EordNQ89zph8FkOJMnsPnRSnUze\n",
    "nMpQzDuxJlhH4XaXZQORzFDMngPZ3tbwks+D+kakJNLooNlnB83t5tCExWeBELqjaFpVGdmXvQMn\n",
    "l2dh40ER8uw6e/Yl0nQz8a+X3mp7WYogyPGimHexB1at5LD9PuTK4cW9uLaxJZRezETLiyCrHC1z\n",
    "DSyjXKpNogfQ3xTLlnaUE0VTsDXRiGbn3k+QC7nXS327gZL2y8yooHx0e1LoWlFPxfV8csZLPBD0\n",
    "bPYLnAV5Vsi2uTzL2XwQxe6mWODU1Ua+D4ogyLGjmHdcEp070/yw/V4sbqypw6XDoCccSV3Vt1wE\n",
    "vbXCYVrwUoQBRW1sB7MKqVZRTyF8LJYt60hCVTvgULmhYs639scDPdWZr42SBkraLzOjgvLR7Umh\n",
    "6yxHT/xrW+f6LftYZjFyGHsGzraRyuKJf23r79sKAIDWFlsO9NYKN06K57ubqsoXOOtouWuVhyDI\n",
    "ESF/4URVO9BQy48Aqm90IUsms3tZ1+T+PfGv7fRCvW3kqqnU/kPEz+OMs+/INduZPJtMxrmwWYb2\n",
    "LtdF09NJckeLGyvTNlOU9ns9VaHLvx8J2RFIemuVSLVlA5HMSPzrXD0uQRrd1ldjFfUU5O81lHad\n",
    "7gSvZ4GkyqZhe3FjoVT7fDbXaCmx1wGxQhF74LxCx5Ouzp20mXTxmH8wlJZsNC1VXMQhCHLMZD4B\n",
    "AHhSuPJ0SFOx+RAAuA/JvITu+Y5wINk3CHWP5rWkwsL/SJ5nzo/nbPae1a0k9jNLM0+VdyT8UsHp\n",
    "cfsLVdIenbn0qUPTY1BbbA1ENqOTHXcSU8c/LRkdb1yyLf/I8Xw9rU4dyTPnbtkZilrCCcNwLnUa\n",
    "e5u5NbIXhDFWHVURBEG+LWvfuFUD/MrmtyDxu7Wot+PwM1IO/lYtgiCviboZvJtVfDkSQV4FGDgR\n",
    "BHk9UJcQotn8J8mQr8jaN0gN9zu/DJRqEQRBEOQAMONEEARBkAPAwIkgCIIgB/D/ub8r+gux2M8A\n",
    "AAAASUVORK5CYII=\n",
    "\" />"
   ]
  },
  {
   "cell_type": "markdown",
   "id": "3eab2717",
   "metadata": {},
   "source": [
    "<hr style=\"height:0px;border:none;border-top:1px solid #c0c0c0;\">\n",
    "\n",
    "- Carga de `dct_catal_bricks` a partir de arquivo pickle, ao invés da coleta online."
   ]
  },
  {
   "cell_type": "code",
   "execution_count": 19,
   "id": "a1295297",
   "metadata": {},
   "outputs": [
    {
     "name": "stdout",
     "output_type": "stream",
     "text": [
      "Lido: d:\\jup_ws\\tcc\\bricklink\\dct_catal_bricks.pickle\n",
      "Tamanho: 28325 bytes\n",
      "Modifificado em: 31/08/2021 10:51:37\n"
     ]
    }
   ],
   "source": [
    "# depois da importação inicial, dicionário foi salvo em arquivo pickle e pode\n",
    "#  ser carregado desse arquivo a qualquer tempo sem necessidade de nova coleta.\n",
    "dct_catal_bricks = pickle2object(tcc.pckl_dct_catal_bricks)"
   ]
  },
  {
   "cell_type": "markdown",
   "id": "b57b1351",
   "metadata": {},
   "source": [
    "<hr style=\"height:0px;border:none;border-top:1px solid #c0c0c0;\">\n",
    "\n",
    "- Dataframe `df_catal_bricks` com informações do catálogo das peças de interesse."
   ]
  },
  {
   "cell_type": "code",
   "execution_count": 20,
   "id": "eeb834dc",
   "metadata": {
    "colab": {
     "base_uri": "https://localhost:8080/",
     "height": 131
    },
    "executionInfo": {
     "elapsed": 684,
     "status": "ok",
     "timestamp": 1623709738170,
     "user": {
      "displayName": "Cristiano Poeta Faria",
      "photoUrl": "https://lh3.googleusercontent.com/a-/AOh14GjEcGJ0o6euRypOR-m-qrENp4--CxGFq3-g75o8qQ=s64",
      "userId": "01408965004610225019"
     },
     "user_tz": 180
    },
    "id": "9a34QdUz9qHu",
    "outputId": "281654d9-2533-409f-91eb-7687d6dd7e4b"
   },
   "outputs": [],
   "source": [
    "df_catal_bricks = (\n",
    "    pd.DataFrame.from_records(list(dct_catal_bricks.values()))\n",
    "    .assign(name=lambda df: df.name.apply(unescape))    # substituir entidades html\n",
    "    .set_index('no')    # código da peça como índice\n",
    ")"
   ]
  },
  {
   "cell_type": "code",
   "execution_count": 21,
   "id": "436c60e9",
   "metadata": {},
   "outputs": [],
   "source": [
    "# criação de colunas derivadas do código da peça, para faciltar classificação:\n",
    "#     - `pfx_no`: números na parte inicial do código;\n",
    "#     - `sfx_no`: demais caracteres seguintes.\n",
    "pfx_sfx_no = ['no_pfx','no_sfx']\n",
    "df_catal_bricks = df_catal_bricks.drop(columns=pfx_sfx_no, errors='ignore').join(\n",
    "    df_catal_bricks\n",
    "    .index\n",
    "    .to_series()\n",
    "    .str.extract(r'^(\\d*)(.*)$')\n",
    "    .set_axis(pfx_sfx_no, axis=1)\n",
    "    .assign(no_pfx=lambda df: df.no_pfx.replace('',0))\n",
    "    .astype({'no_pfx':int})\n",
    ").sort_values(by=pfx_sfx_no)"
   ]
  },
  {
   "cell_type": "markdown",
   "id": "c9ef7b06",
   "metadata": {},
   "source": [
    "<hr style=\"height:0px;border:none;border-top:1px solid #c0c0c0;\">\n",
    "\n",
    "- Amostra e dimensões do dataframe."
   ]
  },
  {
   "cell_type": "code",
   "execution_count": 22,
   "id": "f8b9c6f0",
   "metadata": {
    "scrolled": false
   },
   "outputs": [
    {
     "data": {
      "text/html": [
       "<div>\n",
       "<style scoped>\n",
       "    .dataframe tbody tr th:only-of-type {\n",
       "        vertical-align: middle;\n",
       "    }\n",
       "\n",
       "    .dataframe tbody tr th {\n",
       "        vertical-align: top;\n",
       "    }\n",
       "\n",
       "    .dataframe thead th {\n",
       "        text-align: right;\n",
       "    }\n",
       "</style>\n",
       "<table border=\"1\" class=\"dataframe\">\n",
       "  <thead>\n",
       "    <tr style=\"text-align: right;\">\n",
       "      <th></th>\n",
       "      <th>name</th>\n",
       "      <th>type</th>\n",
       "      <th>category_id</th>\n",
       "      <th>image_url</th>\n",
       "      <th>thumbnail_url</th>\n",
       "      <th>weight</th>\n",
       "      <th>dim_x</th>\n",
       "      <th>dim_y</th>\n",
       "      <th>dim_z</th>\n",
       "      <th>year_released</th>\n",
       "      <th>is_obsolete</th>\n",
       "      <th>alternate_no</th>\n",
       "      <th>description</th>\n",
       "      <th>no_pfx</th>\n",
       "      <th>no_sfx</th>\n",
       "    </tr>\n",
       "    <tr>\n",
       "      <th>no</th>\n",
       "      <th></th>\n",
       "      <th></th>\n",
       "      <th></th>\n",
       "      <th></th>\n",
       "      <th></th>\n",
       "      <th></th>\n",
       "      <th></th>\n",
       "      <th></th>\n",
       "      <th></th>\n",
       "      <th></th>\n",
       "      <th></th>\n",
       "      <th></th>\n",
       "      <th></th>\n",
       "      <th></th>\n",
       "      <th></th>\n",
       "    </tr>\n",
       "  </thead>\n",
       "  <tbody>\n",
       "    <tr>\n",
       "      <th>bhol01</th>\n",
       "      <td>Brick 4 x 4 Corn...</td>\n",
       "      <td>PART</td>\n",
       "      <td>5</td>\n",
       "      <td>//img.bricklink....</td>\n",
       "      <td>//img.bricklink....</td>\n",
       "      <td>3.50</td>\n",
       "      <td>4.00</td>\n",
       "      <td>4.00</td>\n",
       "      <td>1.00</td>\n",
       "      <td>0</td>\n",
       "      <td>False</td>\n",
       "      <td>NaN</td>\n",
       "      <td>Earlier versions...</td>\n",
       "      <td>0</td>\n",
       "      <td>bhol01</td>\n",
       "    </tr>\n",
       "    <tr>\n",
       "      <th>crssprt02</th>\n",
       "      <td>Brick 1 x 6 with...</td>\n",
       "      <td>PART</td>\n",
       "      <td>5</td>\n",
       "      <td>//img.bricklink....</td>\n",
       "      <td>//img.bricklink....</td>\n",
       "      <td>2.52</td>\n",
       "      <td>1.00</td>\n",
       "      <td>6.00</td>\n",
       "      <td>1.00</td>\n",
       "      <td>1955</td>\n",
       "      <td>False</td>\n",
       "      <td>NaN</td>\n",
       "      <td>NaN</td>\n",
       "      <td>0</td>\n",
       "      <td>crssprt02</td>\n",
       "    </tr>\n",
       "    <tr>\n",
       "      <th>3004</th>\n",
       "      <td>Brick 1 x 2</td>\n",
       "      <td>PART</td>\n",
       "      <td>5</td>\n",
       "      <td>//img.bricklink....</td>\n",
       "      <td>//img.bricklink....</td>\n",
       "      <td>0.83</td>\n",
       "      <td>1.00</td>\n",
       "      <td>2.00</td>\n",
       "      <td>1.00</td>\n",
       "      <td>1959</td>\n",
       "      <td>False</td>\n",
       "      <td>93792</td>\n",
       "      <td>This part has at...</td>\n",
       "      <td>3004</td>\n",
       "      <td></td>\n",
       "    </tr>\n",
       "    <tr>\n",
       "      <th>3008f1</th>\n",
       "      <td>Brick 1 x 8 Tran...</td>\n",
       "      <td>PART</td>\n",
       "      <td>5</td>\n",
       "      <td>//img.bricklink....</td>\n",
       "      <td>//img.bricklink....</td>\n",
       "      <td>3.21</td>\n",
       "      <td>1.00</td>\n",
       "      <td>8.00</td>\n",
       "      <td>1.00</td>\n",
       "      <td>0</td>\n",
       "      <td>False</td>\n",
       "      <td>NaN</td>\n",
       "      <td>NaN</td>\n",
       "      <td>3008</td>\n",
       "      <td>f1</td>\n",
       "    </tr>\n",
       "    <tr>\n",
       "      <th>3066</th>\n",
       "      <td>Brick 1 x 4 with...</td>\n",
       "      <td>PART</td>\n",
       "      <td>5</td>\n",
       "      <td>//img.bricklink....</td>\n",
       "      <td>//img.bricklink....</td>\n",
       "      <td>1.71</td>\n",
       "      <td>1.00</td>\n",
       "      <td>4.00</td>\n",
       "      <td>1.00</td>\n",
       "      <td>1979</td>\n",
       "      <td>False</td>\n",
       "      <td>35256</td>\n",
       "      <td>NaN</td>\n",
       "      <td>3066</td>\n",
       "      <td></td>\n",
       "    </tr>\n",
       "    <tr>\n",
       "      <th>49311</th>\n",
       "      <td>Brick 1 x 4 x 3</td>\n",
       "      <td>PART</td>\n",
       "      <td>5</td>\n",
       "      <td>//img.bricklink....</td>\n",
       "      <td>//img.bricklink....</td>\n",
       "      <td>3.97</td>\n",
       "      <td>1.00</td>\n",
       "      <td>4.00</td>\n",
       "      <td>3.00</td>\n",
       "      <td>2019</td>\n",
       "      <td>False</td>\n",
       "      <td>NaN</td>\n",
       "      <td>NaN</td>\n",
       "      <td>49311</td>\n",
       "      <td></td>\n",
       "    </tr>\n",
       "  </tbody>\n",
       "</table>\n",
       "</div>"
      ],
      "text/plain": [
       "                          name  type  category_id            image_url  \\\n",
       "no                                                                       \n",
       "bhol01     Brick 4 x 4 Corn...  PART            5  //img.bricklink....   \n",
       "crssprt02  Brick 1 x 6 with...  PART            5  //img.bricklink....   \n",
       "3004               Brick 1 x 2  PART            5  //img.bricklink....   \n",
       "3008f1     Brick 1 x 8 Tran...  PART            5  //img.bricklink....   \n",
       "3066       Brick 1 x 4 with...  PART            5  //img.bricklink....   \n",
       "49311          Brick 1 x 4 x 3  PART            5  //img.bricklink....   \n",
       "\n",
       "                 thumbnail_url weight dim_x dim_y dim_z  year_released  \\\n",
       "no                                                                       \n",
       "bhol01     //img.bricklink....   3.50  4.00  4.00  1.00              0   \n",
       "crssprt02  //img.bricklink....   2.52  1.00  6.00  1.00           1955   \n",
       "3004       //img.bricklink....   0.83  1.00  2.00  1.00           1959   \n",
       "3008f1     //img.bricklink....   3.21  1.00  8.00  1.00              0   \n",
       "3066       //img.bricklink....   1.71  1.00  4.00  1.00           1979   \n",
       "49311      //img.bricklink....   3.97  1.00  4.00  3.00           2019   \n",
       "\n",
       "           is_obsolete alternate_no          description  no_pfx     no_sfx  \n",
       "no                                                                           \n",
       "bhol01           False          NaN  Earlier versions...       0     bhol01  \n",
       "crssprt02        False          NaN                  NaN       0  crssprt02  \n",
       "3004             False        93792  This part has at...    3004             \n",
       "3008f1           False          NaN                  NaN    3008         f1  \n",
       "3066             False        35256                  NaN    3066             \n",
       "49311            False          NaN                  NaN   49311             "
      ]
     },
     "metadata": {},
     "output_type": "display_data"
    },
    {
     "data": {
      "text/plain": [
       "(85, 15)"
      ]
     },
     "metadata": {},
     "output_type": "display_data"
    }
   ],
   "source": [
    "with pdoc('max_colwidth', 20):\n",
    "    h1s4t1(df_catal_bricks)"
   ]
  },
  {
   "cell_type": "markdown",
   "id": "4d63fceb",
   "metadata": {},
   "source": [
    "<hr style=\"height:0px;border:none;border-top:1px solid #c0c0c0;\">\n",
    "\n",
    "- Salvamento e teste da carga do dataframe em formato pickle."
   ]
  },
  {
   "cell_type": "code",
   "execution_count": 23,
   "id": "2234cedb",
   "metadata": {
    "scrolled": true
   },
   "outputs": [
    {
     "name": "stdout",
     "output_type": "stream",
     "text": [
      "Salvo: d:\\jup_ws\\tcc\\bricklink\\df_catal_bricks.pickle\n",
      "Tamanho: 20308 bytes\n",
      "Modifificado em: 27/10/2021 13:33:11\n"
     ]
    }
   ],
   "source": [
    "frame2pickle(frame=df_catal_bricks, p_pickle=tcc.pckl_df_catal_bricks)"
   ]
  },
  {
   "cell_type": "code",
   "execution_count": 24,
   "id": "3d443d20",
   "metadata": {
    "scrolled": true
   },
   "outputs": [
    {
     "name": "stdout",
     "output_type": "stream",
     "text": [
      "Lido: d:\\jup_ws\\tcc\\bricklink\\df_catal_bricks.pickle\n",
      "Tamanho: 20308 bytes\n",
      "Modifificado em: 27/10/2021 13:33:11\n"
     ]
    }
   ],
   "source": [
    "_ = pickle2frame(p_pickle=tcc.pckl_df_catal_bricks)\n",
    "del _"
   ]
  }
 ],
 "metadata": {
  "kernelspec": {
   "display_name": "Python [conda env:tcc]",
   "language": "python",
   "name": "conda-env-tcc-py"
  },
  "language_info": {
   "codemirror_mode": {
    "name": "ipython",
    "version": 3
   },
   "file_extension": ".py",
   "mimetype": "text/x-python",
   "name": "python",
   "nbconvert_exporter": "python",
   "pygments_lexer": "ipython3",
   "version": "3.8.10"
  }
 },
 "nbformat": 4,
 "nbformat_minor": 5
}
