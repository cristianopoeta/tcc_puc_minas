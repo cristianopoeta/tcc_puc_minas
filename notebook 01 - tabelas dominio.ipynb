{
 "cells": [
  {
   "cell_type": "markdown",
   "id": "db3e9330",
   "metadata": {},
   "source": [
    "<h1 style=\"background-color:black; color:white; padding:10px;\">\n",
    "    Notebook 01 - Coleta de tabelas de domínio\n",
    "</h1>"
   ]
  },
  {
   "cell_type": "markdown",
   "id": "03fa6153",
   "metadata": {},
   "source": [
    "<hr style=\"background-color:transparent;height:4px;border:none;border-top:2px solid #c0c0c0;border-bottom:2px solid #c0c0c0;\">\n",
    "\n",
    "### Definições iniciais"
   ]
  },
  {
   "cell_type": "markdown",
   "id": "55723d09",
   "metadata": {},
   "source": [
    "<hr style=\"height:0px;border:none;border-top:1px solid #c0c0c0;\">\n",
    "\n",
    "- Habilitação de recarga de módulo editado."
   ]
  },
  {
   "cell_type": "code",
   "execution_count": 1,
   "id": "a2aac610",
   "metadata": {},
   "outputs": [],
   "source": [
    "%load_ext autoreload\n",
    "%autoreload 2"
   ]
  },
  {
   "cell_type": "markdown",
   "id": "991599a7",
   "metadata": {
    "executionInfo": {
     "elapsed": 250,
     "status": "ok",
     "timestamp": 1623709700289,
     "user": {
      "displayName": "Cristiano Poeta Faria",
      "photoUrl": "https://lh3.googleusercontent.com/a-/AOh14GjEcGJ0o6euRypOR-m-qrENp4--CxGFq3-g75o8qQ=s64",
      "userId": "01408965004610225019"
     },
     "user_tz": 180
    },
    "id": "Gmv3PXbEQYqx"
   },
   "source": [
    "<hr style=\"height:0px;border:none;border-top:1px solid #c0c0c0;\">\n",
    "\n",
    "- Pacotes de uso geral."
   ]
  },
  {
   "cell_type": "code",
   "execution_count": 2,
   "id": "3c2ab137",
   "metadata": {
    "executionInfo": {
     "elapsed": 250,
     "status": "ok",
     "timestamp": 1623709700289,
     "user": {
      "displayName": "Cristiano Poeta Faria",
      "photoUrl": "https://lh3.googleusercontent.com/a-/AOh14GjEcGJ0o6euRypOR-m-qrENp4--CxGFq3-g75o8qQ=s64",
      "userId": "01408965004610225019"
     },
     "user_tz": 180
    },
    "id": "Gmv3PXbEQYqx"
   },
   "outputs": [],
   "source": [
    "import sys\n",
    "import dtale    # instalado com: conda install dtale -c conda-forge\n",
    "import numpy as np\n",
    "import pandas as pd\n",
    "from html import unescape\n",
    "from pprint import pformat # , pprint, PrettyPrinter"
   ]
  },
  {
   "cell_type": "markdown",
   "id": "d4fa1c33",
   "metadata": {
    "executionInfo": {
     "elapsed": 250,
     "status": "ok",
     "timestamp": 1623709700289,
     "user": {
      "displayName": "Cristiano Poeta Faria",
      "photoUrl": "https://lh3.googleusercontent.com/a-/AOh14GjEcGJ0o6euRypOR-m-qrENp4--CxGFq3-g75o8qQ=s64",
      "userId": "01408965004610225019"
     },
     "user_tz": 180
    },
    "id": "Gmv3PXbEQYqx"
   },
   "source": [
    "<hr style=\"height:0px;border:none;border-top:1px solid #c0c0c0;\">\n",
    "\n",
    "- Funções do pacote `bricklink_api`.\n",
    "- Pacote `bricklinp_api`: https://github.com/BrickBytes/bricklink_api .\n",
    "- Referência da API do Bricklink: https://www.bricklink.com/v3/api.page ."
   ]
  },
  {
   "cell_type": "code",
   "execution_count": 3,
   "id": "36fd63bf",
   "metadata": {
    "executionInfo": {
     "elapsed": 250,
     "status": "ok",
     "timestamp": 1623709700289,
     "user": {
      "displayName": "Cristiano Poeta Faria",
      "photoUrl": "https://lh3.googleusercontent.com/a-/AOh14GjEcGJ0o6euRypOR-m-qrENp4--CxGFq3-g75o8qQ=s64",
      "userId": "01408965004610225019"
     },
     "user_tz": 180
    },
    "id": "Gmv3PXbEQYqx"
   },
   "outputs": [],
   "source": [
    "from bricklink_api.auth import DefaultOAuth\n",
    "from bricklink_api.color import get_color, get_color_list\n",
    "from bricklink_api.category import get_category, get_category_list"
   ]
  },
  {
   "cell_type": "markdown",
   "id": "a429a5cb",
   "metadata": {
    "executionInfo": {
     "elapsed": 250,
     "status": "ok",
     "timestamp": 1623709700289,
     "user": {
      "displayName": "Cristiano Poeta Faria",
      "photoUrl": "https://lh3.googleusercontent.com/a-/AOh14GjEcGJ0o6euRypOR-m-qrENp4--CxGFq3-g75o8qQ=s64",
      "userId": "01408965004610225019"
     },
     "user_tz": 180
    },
    "id": "Gmv3PXbEQYqx"
   },
   "source": [
    "<hr style=\"height:0px;border:none;border-top:1px solid #c0c0c0;\">\n",
    "\n",
    "- Módulos em diretórios fora de `sys.path` ."
   ]
  },
  {
   "cell_type": "code",
   "execution_count": 4,
   "id": "deccfc3c",
   "metadata": {},
   "outputs": [],
   "source": [
    "# diretório com módulos utilitários\n",
    "sys.path.append('d:/py_utils')"
   ]
  },
  {
   "cell_type": "code",
   "execution_count": 5,
   "id": "2ca81011",
   "metadata": {},
   "outputs": [],
   "source": [
    "from pd_utils import (\n",
    "    d_pd, exemplo_linha, resumo_tipos, resumo_categ, resumo_serie,\n",
    "    DisplayPandas, ExemploLinha, ResumoTipos, ResumoCateg, ResumoSerie\n",
    ")"
   ]
  },
  {
   "cell_type": "markdown",
   "id": "78934107",
   "metadata": {
    "executionInfo": {
     "elapsed": 250,
     "status": "ok",
     "timestamp": 1623709700289,
     "user": {
      "displayName": "Cristiano Poeta Faria",
      "photoUrl": "https://lh3.googleusercontent.com/a-/AOh14GjEcGJ0o6euRypOR-m-qrENp4--CxGFq3-g75o8qQ=s64",
      "userId": "01408965004610225019"
     },
     "user_tz": 180
    },
    "id": "Gmv3PXbEQYqx"
   },
   "source": [
    "<hr style=\"height:0px;border:none;border-top:1px solid #c0c0c0;\">\n",
    "\n",
    "- Módulos no diretório do notebook."
   ]
  },
  {
   "cell_type": "code",
   "execution_count": 6,
   "id": "31519f3a",
   "metadata": {},
   "outputs": [],
   "source": [
    "from tcc import (\n",
    "    ofuscar_params, frame2pickle, pickle2frame, object2pickle, pickle2object)"
   ]
  },
  {
   "cell_type": "markdown",
   "id": "cc59eb3d",
   "metadata": {
    "executionInfo": {
     "elapsed": 250,
     "status": "ok",
     "timestamp": 1623709700289,
     "user": {
      "displayName": "Cristiano Poeta Faria",
      "photoUrl": "https://lh3.googleusercontent.com/a-/AOh14GjEcGJ0o6euRypOR-m-qrENp4--CxGFq3-g75o8qQ=s64",
      "userId": "01408965004610225019"
     },
     "user_tz": 180
    },
    "id": "Gmv3PXbEQYqx"
   },
   "source": [
    "<hr style=\"height:0px;border:none;border-top:1px solid #c0c0c0;\">\n",
    "\n",
    "- Utilidades de exibição e resumo de objetos `pandas`."
   ]
  },
  {
   "cell_type": "code",
   "execution_count": 7,
   "id": "de4c8c09",
   "metadata": {},
   "outputs": [],
   "source": [
    "# índice do primeiro elemento True de uma série boleana\n",
    "prim_true = lambda sr: sr[lambda s: s].index[0]"
   ]
  },
  {
   "cell_type": "code",
   "execution_count": 8,
   "id": "4a714029",
   "metadata": {},
   "outputs": [],
   "source": [
    "# índice do último elemento True de uma série boleana\n",
    "ulti_true = lambda sr: sr[lambda s: s].index[-1]"
   ]
  },
  {
   "cell_type": "code",
   "execution_count": 9,
   "id": "847e04b3",
   "metadata": {},
   "outputs": [],
   "source": [
    "# primeiro item, 4 items intermediárias, item final e dimensões de objeto pandas\n",
    "h1s4t1 = DisplayPandas(head=1, sample=4, tail=1)"
   ]
  },
  {
   "cell_type": "code",
   "execution_count": 10,
   "id": "3ce9af58",
   "metadata": {},
   "outputs": [],
   "source": [
    "# exemplo de linha do dataframe com detalhes dos tipos de dados do índice e das colunas\n",
    "ex_linha = ExemploLinha(reset_index=True, cor_tipo=True)"
   ]
  },
  {
   "cell_type": "code",
   "execution_count": 11,
   "id": "fedd462d",
   "metadata": {},
   "outputs": [],
   "source": [
    "# resumo de todas colunas como se fossem categóricas, incluindo índice do objeto\n",
    "resu_cat = ResumoCateg(reset_index=True)"
   ]
  },
  {
   "cell_type": "markdown",
   "id": "5660a07b",
   "metadata": {
    "executionInfo": {
     "elapsed": 250,
     "status": "ok",
     "timestamp": 1623709700289,
     "user": {
      "displayName": "Cristiano Poeta Faria",
      "photoUrl": "https://lh3.googleusercontent.com/a-/AOh14GjEcGJ0o6euRypOR-m-qrENp4--CxGFq3-g75o8qQ=s64",
      "userId": "01408965004610225019"
     },
     "user_tz": 180
    },
    "id": "Gmv3PXbEQYqx"
   },
   "source": [
    "<hr style=\"height:0px;border:none;border-top:1px solid #c0c0c0;\">\n",
    "\n",
    "- Outras definições."
   ]
  },
  {
   "cell_type": "code",
   "execution_count": 12,
   "id": "7a56176c",
   "metadata": {
    "scrolled": true
   },
   "outputs": [],
   "source": [
    "d = display\n",
    "pdod = pd.options.display\n",
    "pdoc = pd.option_context"
   ]
  },
  {
   "cell_type": "markdown",
   "id": "56d488a2",
   "metadata": {},
   "source": [
    "<hr style=\"background-color:transparent;height:4px;border:none;border-top:2px solid #c0c0c0;border-bottom:2px solid #c0c0c0;\">\n",
    "\n",
    "### Módulo `tcc`: variáveis comuns a mais de um notebook"
   ]
  },
  {
   "cell_type": "code",
   "execution_count": 13,
   "id": "6bff5f4a",
   "metadata": {},
   "outputs": [],
   "source": [
    "# módulo `tcc.py` na pasta do notebok com variáveis comuns aos notebooks\n",
    "import tcc"
   ]
  },
  {
   "cell_type": "code",
   "execution_count": 14,
   "id": "ad415a6e",
   "metadata": {
    "colab": {
     "base_uri": "https://localhost:8080/"
    },
    "executionInfo": {
     "elapsed": 8,
     "status": "ok",
     "timestamp": 1623709718009,
     "user": {
      "displayName": "Cristiano Poeta Faria",
      "photoUrl": "https://lh3.googleusercontent.com/a-/AOh14GjEcGJ0o6euRypOR-m-qrENp4--CxGFq3-g75o8qQ=s64",
      "userId": "01408965004610225019"
     },
     "user_tz": 180
    },
    "id": "OhuNTJaZhmxE",
    "outputId": "768ff264-d56d-41eb-98dd-5de29edc69a0",
    "scrolled": true
   },
   "outputs": [
    {
     "data": {
      "text/plain": [
       "WindowsPath('d:/jup_ws/tcc')"
      ]
     },
     "metadata": {},
     "output_type": "display_data"
    },
    {
     "data": {
      "text/plain": [
       "WindowsPath('d:/jup_ws/tcc/bricklink')"
      ]
     },
     "metadata": {},
     "output_type": "display_data"
    },
    {
     "data": {
      "text/plain": [
       "WindowsPath('d:/jup_ws/tcc/bricklink/params_autent.json')"
      ]
     },
     "metadata": {},
     "output_type": "display_data"
    },
    {
     "data": {
      "text/plain": [
       "WindowsPath('d:/jup_ws/tcc/bricklink/df_lista_cores.pickle')"
      ]
     },
     "metadata": {},
     "output_type": "display_data"
    },
    {
     "data": {
      "text/plain": [
       "WindowsPath('d:/jup_ws/tcc/bricklink/df_lista_categs.pickle')"
      ]
     },
     "metadata": {},
     "output_type": "display_data"
    },
    {
     "data": {
      "text/plain": [
       "WindowsPath('d:/jup_ws/tcc/bricklink/df_paises.pickle')"
      ]
     },
     "metadata": {},
     "output_type": "display_data"
    },
    {
     "data": {
      "text/plain": [
       "WindowsPath('d:/jup_ws/tcc/bricklink/cat_paises.pickle')"
      ]
     },
     "metadata": {},
     "output_type": "display_data"
    }
   ],
   "source": [
    "# caminhos\n",
    "d(\n",
    "      tcc.p_dir_tcc    # diretório inicial TCC\n",
    "    , tcc.p_dir_bricklink    # diretório dados Bricklink\n",
    "    , tcc.p_arq_autent    # parâmetros autenticação API Bricklink\n",
    "    , tcc.pckl_df_lista_cores    # arquivo pickle dataframe\n",
    "    , tcc.pckl_df_lista_categs    # arquivo pickle dataframe\n",
    "    , tcc.pckl_df_paises    # arquivo pickle dataframe\n",
    "    , tcc.pckl_cat_paises    # arquivo pickle tipo de dados categórico\n",
    ")"
   ]
  },
  {
   "cell_type": "code",
   "execution_count": 15,
   "id": "5dbfe595",
   "metadata": {
    "executionInfo": {
     "elapsed": 248,
     "status": "ok",
     "timestamp": 1623709730970,
     "user": {
      "displayName": "Cristiano Poeta Faria",
      "photoUrl": "https://lh3.googleusercontent.com/a-/AOh14GjEcGJ0o6euRypOR-m-qrENp4--CxGFq3-g75o8qQ=s64",
      "userId": "01408965004610225019"
     },
     "user_tz": 180
    },
    "id": "TnJqwWpI0yMO"
   },
   "outputs": [
    {
     "data": {
      "text/plain": [
       "{'consumer_key': '********************************',\n",
       " 'consumer_secret': '********************************',\n",
       " 'token_secret': '********************************',\n",
       " 'token_value': '********************************'}"
      ]
     },
     "execution_count": 15,
     "metadata": {},
     "output_type": "execute_result"
    }
   ],
   "source": [
    "# conteúdo ofuscado dos parâmetros de autenticação\n",
    "ofuscar_params(tcc.params_autent)"
   ]
  },
  {
   "cell_type": "markdown",
   "id": "4ca9b9df",
   "metadata": {},
   "source": [
    "<hr style=\"background-color:transparent;height:4px;border:none;border-top:2px solid #c0c0c0;border-bottom:2px solid #c0c0c0;\">\n",
    "\n",
    "### Autenticação para API do Bricklink"
   ]
  },
  {
   "cell_type": "markdown",
   "id": "cd9cf921",
   "metadata": {},
   "source": [
    "- Referência API: https://www.bricklink.com/v3/api.page?page=auth"
   ]
  },
  {
   "cell_type": "code",
   "execution_count": 16,
   "id": "7a6c60e6",
   "metadata": {
    "executionInfo": {
     "elapsed": 248,
     "status": "ok",
     "timestamp": 1623709730970,
     "user": {
      "displayName": "Cristiano Poeta Faria",
      "photoUrl": "https://lh3.googleusercontent.com/a-/AOh14GjEcGJ0o6euRypOR-m-qrENp4--CxGFq3-g75o8qQ=s64",
      "userId": "01408965004610225019"
     },
     "user_tz": 180
    },
    "id": "TnJqwWpI0yMO"
   },
   "outputs": [],
   "source": [
    "default_oauth = DefaultOAuth()\n",
    "default_oauth.set(**tcc.params_autent)"
   ]
  },
  {
   "cell_type": "markdown",
   "id": "3cb588f3",
   "metadata": {},
   "source": [
    "<hr style=\"background-color:transparent;height:4px;border:none;border-top:2px solid #c0c0c0;border-bottom:2px solid #c0c0c0;\">\n",
    "\n",
    "### Lista de cores (tabela de domínio de cores de peças)"
   ]
  },
  {
   "cell_type": "markdown",
   "id": "4768a4bd",
   "metadata": {},
   "source": [
    "- Referência API: https://www.bricklink.com/v3/api.page?page=get-color-list"
   ]
  },
  {
   "cell_type": "markdown",
   "id": "78fe32d8",
   "metadata": {},
   "source": [
    "<hr style=\"background-color:transparent;height:3px;border:none;border-top:1px solid #c0c0c0;border-bottom:1px solid #c0c0c0;\">\n",
    "\n",
    "#### Lista de cores (tabela de domínio de cores de peças)"
   ]
  },
  {
   "cell_type": "markdown",
   "id": "4362b60e",
   "metadata": {},
   "source": [
    "<hr style=\"height:0px;border:none;border-top:1px solid #c0c0c0;\">\n",
    "\n",
    "- Exemplo de resultado da função `get_color_list` ."
   ]
  },
  {
   "cell_type": "code",
   "execution_count": 17,
   "id": "0883ba6a",
   "metadata": {
    "scrolled": true
   },
   "outputs": [
    {
     "name": "stdout",
     "output_type": "stream",
     "text": [
      "{'meta': {'description': 'OK', 'message': 'OK', 'code': 200},\n",
      " 'data': [{'color_id': 1,\n",
      "           'color_name': 'White',\n",
      "           'color_code': 'FFFFFF',\n",
      "           'color_type': 'Solid'},\n",
      "          {'color_id': 49,\n",
      "           'color_name': 'Very Light Gray',\n",
      "           'color_code': 'E8E8E8',\n",
      "           'color_type': 'Solid'}, ... ] }\n"
     ]
    }
   ],
   "source": [
    "print(\n",
    "    '\\n'.join(pformat(\n",
    "        get_color_list()\n",
    "        , sort_dicts=False).split('\\n')[:9]),\n",
    "    '... ] }'\n",
    "    \n",
    ")"
   ]
  },
  {
   "cell_type": "markdown",
   "id": "43adfa0f",
   "metadata": {},
   "source": [
    "<hr style=\"height:0px;border:none;border-top:1px solid #c0c0c0;\">\n",
    "\n",
    "- Dataframe `df_lista_cores` com informações da da tabela de domínio de cores de peças."
   ]
  },
  {
   "cell_type": "code",
   "execution_count": 18,
   "id": "b8b6d2d7",
   "metadata": {
    "colab": {
     "base_uri": "https://localhost:8080/",
     "height": 203
    },
    "executionInfo": {
     "elapsed": 648,
     "status": "ok",
     "timestamp": 1623709733170,
     "user": {
      "displayName": "Cristiano Poeta Faria",
      "photoUrl": "https://lh3.googleusercontent.com/a-/AOh14GjEcGJ0o6euRypOR-m-qrENp4--CxGFq3-g75o8qQ=s64",
      "userId": "01408965004610225019"
     },
     "user_tz": 180
    },
    "id": "yykpeZXK7EUI",
    "outputId": "6e346e27-c471-4309-a1fd-cb564b1f18d3"
   },
   "outputs": [],
   "source": [
    "df_lista_cores = (\n",
    "    pd.DataFrame.from_records(get_color_list()['data'])\n",
    "    .set_index('color_id')    # coluna `color_id` como índice\n",
    "    .pipe(lambda df: \n",
    "        pd.concat(\n",
    "            [df[nm_col].str.lower() for nm_col in df.columns]\n",
    "            , axis=1\n",
    "        )\n",
    "    )    # valores de todas colunas em letras minúsculas\n",
    "    .sort_index()    # dataframe ordenado pelo índice\n",
    ")"
   ]
  },
  {
   "cell_type": "markdown",
   "id": "ea1e55e2",
   "metadata": {},
   "source": [
    "<hr style=\"height:0px;border:none;border-top:1px solid #c0c0c0;\">\n",
    "\n",
    "- Amostra e dimensões do dataframe."
   ]
  },
  {
   "cell_type": "code",
   "execution_count": 19,
   "id": "14960ff7",
   "metadata": {
    "scrolled": false
   },
   "outputs": [
    {
     "data": {
      "text/html": [
       "<div>\n",
       "<style scoped>\n",
       "    .dataframe tbody tr th:only-of-type {\n",
       "        vertical-align: middle;\n",
       "    }\n",
       "\n",
       "    .dataframe tbody tr th {\n",
       "        vertical-align: top;\n",
       "    }\n",
       "\n",
       "    .dataframe thead th {\n",
       "        text-align: right;\n",
       "    }\n",
       "</style>\n",
       "<table border=\"1\" class=\"dataframe\">\n",
       "  <thead>\n",
       "    <tr style=\"text-align: right;\">\n",
       "      <th></th>\n",
       "      <th>color_name</th>\n",
       "      <th>color_code</th>\n",
       "      <th>color_type</th>\n",
       "    </tr>\n",
       "    <tr>\n",
       "      <th>color_id</th>\n",
       "      <th></th>\n",
       "      <th></th>\n",
       "      <th></th>\n",
       "    </tr>\n",
       "  </thead>\n",
       "  <tbody>\n",
       "    <tr>\n",
       "      <th>1</th>\n",
       "      <td>white</td>\n",
       "      <td>ffffff</td>\n",
       "      <td>solid</td>\n",
       "    </tr>\n",
       "    <tr>\n",
       "      <th>35</th>\n",
       "      <td>light lime</td>\n",
       "      <td>ebee8f</td>\n",
       "      <td>solid</td>\n",
       "    </tr>\n",
       "    <tr>\n",
       "      <th>118</th>\n",
       "      <td>glow in dark trans</td>\n",
       "      <td>bdc6ad</td>\n",
       "      <td>milky</td>\n",
       "    </tr>\n",
       "    <tr>\n",
       "      <th>129</th>\n",
       "      <td>mx red</td>\n",
       "      <td>b52c20</td>\n",
       "      <td>modulex</td>\n",
       "    </tr>\n",
       "    <tr>\n",
       "      <th>148</th>\n",
       "      <td>mx pink</td>\n",
       "      <td>f785b1</td>\n",
       "      <td>modulex</td>\n",
       "    </tr>\n",
       "    <tr>\n",
       "      <th>233</th>\n",
       "      <td>satin trans-bright green</td>\n",
       "      <td>7fe15b</td>\n",
       "      <td>satin</td>\n",
       "    </tr>\n",
       "  </tbody>\n",
       "</table>\n",
       "</div>"
      ],
      "text/plain": [
       "                        color_name color_code color_type\n",
       "color_id                                                \n",
       "1                            white     ffffff      solid\n",
       "35                      light lime     ebee8f      solid\n",
       "118             glow in dark trans     bdc6ad      milky\n",
       "129                         mx red     b52c20    modulex\n",
       "148                        mx pink     f785b1    modulex\n",
       "233       satin trans-bright green     7fe15b      satin"
      ]
     },
     "metadata": {},
     "output_type": "display_data"
    },
    {
     "data": {
      "text/plain": [
       "(183, 3)"
      ]
     },
     "metadata": {},
     "output_type": "display_data"
    }
   ],
   "source": [
    "h1s4t1(df_lista_cores)"
   ]
  },
  {
   "cell_type": "markdown",
   "id": "290a0657",
   "metadata": {},
   "source": [
    "<hr style=\"height:0px;border:none;border-top:1px solid #c0c0c0;\">\n",
    "\n",
    "- Valores e tipos de dados de uma linha de exemplo."
   ]
  },
  {
   "cell_type": "code",
   "execution_count": 20,
   "id": "6e196f94",
   "metadata": {
    "scrolled": false
   },
   "outputs": [
    {
     "data": {
      "text/html": [
       "<style type=\"text/css\">\n",
       "#T_c2857_ th.row1 {\n",
       "  border-top: 1px solid black;\n",
       "}\n",
       "#T_c2857_  td.row1 {\n",
       "  border-top: 1px solid black;\n",
       "}\n",
       "#T_c2857_row0_col0, #T_c2857_row0_col1, #T_c2857_row0_col2 {\n",
       "  background-color: #ff9999;\n",
       "}\n",
       "#T_c2857_row1_col0, #T_c2857_row1_col1, #T_c2857_row1_col2, #T_c2857_row2_col0, #T_c2857_row2_col1, #T_c2857_row2_col2, #T_c2857_row3_col0, #T_c2857_row3_col1, #T_c2857_row3_col2 {\n",
       "  background-color: #ffcc99;\n",
       "}\n",
       "</style>\n",
       "<table id=\"T_c2857_\">\n",
       "  <thead>\n",
       "    <tr>\n",
       "      <th class=\"blank\" >&nbsp;</th>\n",
       "      <th class=\"blank\" >&nbsp;</th>\n",
       "      <th class=\"blank level0\" >&nbsp;</th>\n",
       "      <th class=\"col_heading level0 col0\" >valor_exemplo</th>\n",
       "      <th class=\"col_heading level0 col1\" >dtype_coluna</th>\n",
       "      <th class=\"col_heading level0 col2\" >classe_valor</th>\n",
       "    </tr>\n",
       "    <tr>\n",
       "      <th class=\"index_name level0\" >origem</th>\n",
       "      <th class=\"index_name level1\" >i</th>\n",
       "      <th class=\"index_name level2\" >nome_coluna</th>\n",
       "      <th class=\"blank col0\" >&nbsp;</th>\n",
       "      <th class=\"blank col1\" >&nbsp;</th>\n",
       "      <th class=\"blank col2\" >&nbsp;</th>\n",
       "    </tr>\n",
       "  </thead>\n",
       "  <tbody>\n",
       "    <tr>\n",
       "      <th id=\"T_c2857_level0_row0\" class=\"row_heading level0 row0\" >índice</th>\n",
       "      <th id=\"T_c2857_level1_row0\" class=\"row_heading level1 row0\" >0</th>\n",
       "      <th id=\"T_c2857_level2_row0\" class=\"row_heading level2 row0\" >color_id</th>\n",
       "      <td id=\"T_c2857_row0_col0\" class=\"data row0 col0\" >107</td>\n",
       "      <td id=\"T_c2857_row0_col1\" class=\"data row0 col1\" >int64</td>\n",
       "      <td id=\"T_c2857_row0_col2\" class=\"data row0 col2\" >int64</td>\n",
       "    </tr>\n",
       "    <tr>\n",
       "      <th id=\"T_c2857_level0_row1\" class=\"row_heading level0 row1\" rowspan=\"3\">dados</th>\n",
       "      <th id=\"T_c2857_level1_row1\" class=\"row_heading level1 row1\" >0</th>\n",
       "      <th id=\"T_c2857_level2_row1\" class=\"row_heading level2 row1\" >color_name</th>\n",
       "      <td id=\"T_c2857_row1_col0\" class=\"data row1 col0\" >trans-pink</td>\n",
       "      <td id=\"T_c2857_row1_col1\" class=\"data row1 col1\" >object</td>\n",
       "      <td id=\"T_c2857_row1_col2\" class=\"data row1 col2\" >str</td>\n",
       "    </tr>\n",
       "    <tr>\n",
       "      <th id=\"T_c2857_level1_row2\" class=\"row_heading level1 row2\" >1</th>\n",
       "      <th id=\"T_c2857_level2_row2\" class=\"row_heading level2 row2\" >color_code</th>\n",
       "      <td id=\"T_c2857_row2_col0\" class=\"data row2 col0\" >ff8298</td>\n",
       "      <td id=\"T_c2857_row2_col1\" class=\"data row2 col1\" >object</td>\n",
       "      <td id=\"T_c2857_row2_col2\" class=\"data row2 col2\" >str</td>\n",
       "    </tr>\n",
       "    <tr>\n",
       "      <th id=\"T_c2857_level1_row3\" class=\"row_heading level1 row3\" >2</th>\n",
       "      <th id=\"T_c2857_level2_row3\" class=\"row_heading level2 row3\" >color_type</th>\n",
       "      <td id=\"T_c2857_row3_col0\" class=\"data row3 col0\" >transparent</td>\n",
       "      <td id=\"T_c2857_row3_col1\" class=\"data row3 col1\" >object</td>\n",
       "      <td id=\"T_c2857_row3_col2\" class=\"data row3 col2\" >str</td>\n",
       "    </tr>\n",
       "  </tbody>\n",
       "</table>\n"
      ],
      "text/plain": [
       "<pandas.io.formats.style.Styler at 0x29dff1d2e20>"
      ]
     },
     "execution_count": 20,
     "metadata": {},
     "output_type": "execute_result"
    }
   ],
   "source": [
    "ex_linha(df_lista_cores)"
   ]
  },
  {
   "cell_type": "markdown",
   "id": "09e79848",
   "metadata": {},
   "source": [
    "<hr style=\"height:0px;border:none;border-top:1px solid #c0c0c0;\">\n",
    "\n",
    "- Resumos estatísticos."
   ]
  },
  {
   "cell_type": "code",
   "execution_count": 58,
   "id": "3aa021e9",
   "metadata": {
    "scrolled": false
   },
   "outputs": [
    {
     "data": {
      "text/html": [
       "<style type=\"text/css\">\n",
       "#T_3fc2a_ th.row1 {\n",
       "  border-top: 1px solid black;\n",
       "}\n",
       "#T_3fc2a_  td.row1 {\n",
       "  border-top: 1px solid black;\n",
       "}\n",
       "#T_3fc2a_row3_col1, #T_3fc2a_row3_col2, #T_3fc2a_row3_col7, #T_3fc2a_row3_col8, #T_3fc2a_row3_col9, #T_3fc2a_row3_col10 {\n",
       "  background-color: yellow;\n",
       "}\n",
       "</style>\n",
       "<table id=\"T_3fc2a_\">\n",
       "  <thead>\n",
       "    <tr>\n",
       "      <th class=\"blank\" >&nbsp;</th>\n",
       "      <th class=\"blank\" >&nbsp;</th>\n",
       "      <th class=\"index_name level0\" >estatística</th>\n",
       "      <th class=\"col_heading level0 col0\" >Tamanho</th>\n",
       "      <th class=\"col_heading level0 col1\" >Qtd. distintos</th>\n",
       "      <th class=\"col_heading level0 col2\" >Distintos</th>\n",
       "      <th class=\"col_heading level0 col3\" >F. não nulos</th>\n",
       "      <th class=\"col_heading level0 col4\" >P. não nulos</th>\n",
       "      <th class=\"col_heading level0 col5\" >F. nulos</th>\n",
       "      <th class=\"col_heading level0 col6\" >P. nulos</th>\n",
       "      <th class=\"col_heading level0 col7\" >Qtd. modas</th>\n",
       "      <th class=\"col_heading level0 col8\" >F. moda</th>\n",
       "      <th class=\"col_heading level0 col9\" >P. moda</th>\n",
       "      <th class=\"col_heading level0 col10\" >Moda</th>\n",
       "    </tr>\n",
       "    <tr>\n",
       "      <th class=\"index_name level0\" >origem</th>\n",
       "      <th class=\"index_name level1\" >i</th>\n",
       "      <th class=\"index_name level2\" >coluna</th>\n",
       "      <th class=\"blank col0\" >&nbsp;</th>\n",
       "      <th class=\"blank col1\" >&nbsp;</th>\n",
       "      <th class=\"blank col2\" >&nbsp;</th>\n",
       "      <th class=\"blank col3\" >&nbsp;</th>\n",
       "      <th class=\"blank col4\" >&nbsp;</th>\n",
       "      <th class=\"blank col5\" >&nbsp;</th>\n",
       "      <th class=\"blank col6\" >&nbsp;</th>\n",
       "      <th class=\"blank col7\" >&nbsp;</th>\n",
       "      <th class=\"blank col8\" >&nbsp;</th>\n",
       "      <th class=\"blank col9\" >&nbsp;</th>\n",
       "      <th class=\"blank col10\" >&nbsp;</th>\n",
       "    </tr>\n",
       "  </thead>\n",
       "  <tbody>\n",
       "    <tr>\n",
       "      <th id=\"T_3fc2a_level0_row0\" class=\"row_heading level0 row0\" >índice</th>\n",
       "      <th id=\"T_3fc2a_level1_row0\" class=\"row_heading level1 row0\" >0</th>\n",
       "      <th id=\"T_3fc2a_level2_row0\" class=\"row_heading level2 row0\" >color_id</th>\n",
       "      <td id=\"T_3fc2a_row0_col0\" class=\"data row0 col0\" >183</td>\n",
       "      <td id=\"T_3fc2a_row0_col1\" class=\"data row0 col1\" >183</td>\n",
       "      <td id=\"T_3fc2a_row0_col2\" class=\"data row0 col2\" >+++</td>\n",
       "      <td id=\"T_3fc2a_row0_col3\" class=\"data row0 col3\" >183</td>\n",
       "      <td id=\"T_3fc2a_row0_col4\" class=\"data row0 col4\" >100.00%</td>\n",
       "      <td id=\"T_3fc2a_row0_col5\" class=\"data row0 col5\" >0</td>\n",
       "      <td id=\"T_3fc2a_row0_col6\" class=\"data row0 col6\" >0.00%</td>\n",
       "      <td id=\"T_3fc2a_row0_col7\" class=\"data row0 col7\" >183</td>\n",
       "      <td id=\"T_3fc2a_row0_col8\" class=\"data row0 col8\" >1</td>\n",
       "      <td id=\"T_3fc2a_row0_col9\" class=\"data row0 col9\" >0.55%</td>\n",
       "      <td id=\"T_3fc2a_row0_col10\" class=\"data row0 col10\" >+++</td>\n",
       "    </tr>\n",
       "    <tr>\n",
       "      <th id=\"T_3fc2a_level0_row1\" class=\"row_heading level0 row1\" rowspan=\"3\">dados</th>\n",
       "      <th id=\"T_3fc2a_level1_row1\" class=\"row_heading level1 row1\" >0</th>\n",
       "      <th id=\"T_3fc2a_level2_row1\" class=\"row_heading level2 row1\" >color_name</th>\n",
       "      <td id=\"T_3fc2a_row1_col0\" class=\"data row1 col0\" >183</td>\n",
       "      <td id=\"T_3fc2a_row1_col1\" class=\"data row1 col1\" >183</td>\n",
       "      <td id=\"T_3fc2a_row1_col2\" class=\"data row1 col2\" >+++</td>\n",
       "      <td id=\"T_3fc2a_row1_col3\" class=\"data row1 col3\" >183</td>\n",
       "      <td id=\"T_3fc2a_row1_col4\" class=\"data row1 col4\" >100.00%</td>\n",
       "      <td id=\"T_3fc2a_row1_col5\" class=\"data row1 col5\" >0</td>\n",
       "      <td id=\"T_3fc2a_row1_col6\" class=\"data row1 col6\" >0.00%</td>\n",
       "      <td id=\"T_3fc2a_row1_col7\" class=\"data row1 col7\" >183</td>\n",
       "      <td id=\"T_3fc2a_row1_col8\" class=\"data row1 col8\" >1</td>\n",
       "      <td id=\"T_3fc2a_row1_col9\" class=\"data row1 col9\" >0.55%</td>\n",
       "      <td id=\"T_3fc2a_row1_col10\" class=\"data row1 col10\" >+++</td>\n",
       "    </tr>\n",
       "    <tr>\n",
       "      <th id=\"T_3fc2a_level1_row2\" class=\"row_heading level1 row2\" >1</th>\n",
       "      <th id=\"T_3fc2a_level2_row2\" class=\"row_heading level2 row2\" >color_code</th>\n",
       "      <td id=\"T_3fc2a_row2_col0\" class=\"data row2 col0\" >183</td>\n",
       "      <td id=\"T_3fc2a_row2_col1\" class=\"data row2 col1\" >150</td>\n",
       "      <td id=\"T_3fc2a_row2_col2\" class=\"data row2 col2\" >+++</td>\n",
       "      <td id=\"T_3fc2a_row2_col3\" class=\"data row2 col3\" >183</td>\n",
       "      <td id=\"T_3fc2a_row2_col4\" class=\"data row2 col4\" >100.00%</td>\n",
       "      <td id=\"T_3fc2a_row2_col5\" class=\"data row2 col5\" >0</td>\n",
       "      <td id=\"T_3fc2a_row2_col6\" class=\"data row2 col6\" >0.00%</td>\n",
       "      <td id=\"T_3fc2a_row2_col7\" class=\"data row2 col7\" >1</td>\n",
       "      <td id=\"T_3fc2a_row2_col8\" class=\"data row2 col8\" >5</td>\n",
       "      <td id=\"T_3fc2a_row2_col9\" class=\"data row2 col9\" >2.73%</td>\n",
       "      <td id=\"T_3fc2a_row2_col10\" class=\"data row2 col10\" >ffffff</td>\n",
       "    </tr>\n",
       "    <tr>\n",
       "      <th id=\"T_3fc2a_level1_row3\" class=\"row_heading level1 row3\" >2</th>\n",
       "      <th id=\"T_3fc2a_level2_row3\" class=\"row_heading level2 row3\" >color_type</th>\n",
       "      <td id=\"T_3fc2a_row3_col0\" class=\"data row3 col0\" >183</td>\n",
       "      <td id=\"T_3fc2a_row3_col1\" class=\"data row3 col1\" >10</td>\n",
       "      <td id=\"T_3fc2a_row3_col2\" class=\"data row3 col2\" >+++</td>\n",
       "      <td id=\"T_3fc2a_row3_col3\" class=\"data row3 col3\" >183</td>\n",
       "      <td id=\"T_3fc2a_row3_col4\" class=\"data row3 col4\" >100.00%</td>\n",
       "      <td id=\"T_3fc2a_row3_col5\" class=\"data row3 col5\" >0</td>\n",
       "      <td id=\"T_3fc2a_row3_col6\" class=\"data row3 col6\" >0.00%</td>\n",
       "      <td id=\"T_3fc2a_row3_col7\" class=\"data row3 col7\" >1</td>\n",
       "      <td id=\"T_3fc2a_row3_col8\" class=\"data row3 col8\" >84</td>\n",
       "      <td id=\"T_3fc2a_row3_col9\" class=\"data row3 col9\" >45.90%</td>\n",
       "      <td id=\"T_3fc2a_row3_col10\" class=\"data row3 col10\" >solid</td>\n",
       "    </tr>\n",
       "  </tbody>\n",
       "</table>\n"
      ],
      "text/plain": [
       "<pandas.io.formats.style.Styler at 0x29d816f77c0>"
      ]
     },
     "metadata": {},
     "output_type": "display_data"
    },
    {
     "data": {
      "text/html": [
       "<div>\n",
       "<style scoped>\n",
       "    .dataframe tbody tr th:only-of-type {\n",
       "        vertical-align: middle;\n",
       "    }\n",
       "\n",
       "    .dataframe tbody tr th {\n",
       "        vertical-align: top;\n",
       "    }\n",
       "\n",
       "    .dataframe thead th {\n",
       "        text-align: right;\n",
       "    }\n",
       "</style>\n",
       "<table border=\"1\" class=\"dataframe\">\n",
       "  <thead>\n",
       "    <tr style=\"text-align: right;\">\n",
       "      <th></th>\n",
       "      <th>color_id</th>\n",
       "    </tr>\n",
       "  </thead>\n",
       "  <tbody>\n",
       "    <tr>\n",
       "      <th>count</th>\n",
       "      <td>183.000000</td>\n",
       "    </tr>\n",
       "    <tr>\n",
       "      <th>mean</th>\n",
       "      <td>102.136612</td>\n",
       "    </tr>\n",
       "    <tr>\n",
       "      <th>std</th>\n",
       "      <td>65.026266</td>\n",
       "    </tr>\n",
       "    <tr>\n",
       "      <th>min</th>\n",
       "      <td>1.000000</td>\n",
       "    </tr>\n",
       "    <tr>\n",
       "      <th>25%</th>\n",
       "      <td>48.500000</td>\n",
       "    </tr>\n",
       "    <tr>\n",
       "      <th>50%</th>\n",
       "      <td>98.000000</td>\n",
       "    </tr>\n",
       "    <tr>\n",
       "      <th>75%</th>\n",
       "      <td>144.500000</td>\n",
       "    </tr>\n",
       "    <tr>\n",
       "      <th>max</th>\n",
       "      <td>233.000000</td>\n",
       "    </tr>\n",
       "  </tbody>\n",
       "</table>\n",
       "</div>"
      ],
      "text/plain": [
       "         color_id\n",
       "count  183.000000\n",
       "mean   102.136612\n",
       "std     65.026266\n",
       "min      1.000000\n",
       "25%     48.500000\n",
       "50%     98.000000\n",
       "75%    144.500000\n",
       "max    233.000000"
      ]
     },
     "metadata": {},
     "output_type": "display_data"
    }
   ],
   "source": [
    "dct_apply = {\n",
    "    ('Qtd. distintos', 'Distintos'): lambda sr: \n",
    "        2*['background-color:yellow;'] if sr.iloc[0] < 20 else 2*[None],\n",
    "    ('Qtd. modas','F. moda','P. moda','Moda'): lambda sr:\n",
    "        4*['background-color:yellow;']\n",
    "        if (sr['F. moda']>1 and sr['P. moda']<1 and (sr['Qtd. modas']*sr['P. moda'])>0.25)\n",
    "        else 4*[None]\n",
    "}\n",
    "d(resumo_categ(df_lista_cores, reset_index=True, dct_apply=dct_apply))\n",
    "d(df_lista_cores.reset_index().describe())"
   ]
  },
  {
   "cell_type": "markdown",
   "id": "b3fdc053",
   "metadata": {},
   "source": [
    "<hr style=\"height:0px;border:none;border-top:1px solid #c0c0c0;\">\n",
    "\n",
    "- Resumo de `color_type`, coluna com baixa cardinalidade."
   ]
  },
  {
   "cell_type": "code",
   "execution_count": 22,
   "id": "a7cf1f3d",
   "metadata": {},
   "outputs": [
    {
     "data": {
      "text/html": [
       "<style type=\"text/css\">\n",
       "#T_86c43_ th.row10 {\n",
       "  border-top: 1px solid black;\n",
       "}\n",
       "#T_86c43_ td.row10 {\n",
       "  border-top: 1px solid black;\n",
       "}\n",
       "</style>\n",
       "<table id=\"T_86c43_\">\n",
       "  <thead>\n",
       "    <tr>\n",
       "      <th class=\"index_name level0\" >color_type</th>\n",
       "      <th class=\"col_heading level0 col0\" >Freq. abs.</th>\n",
       "      <th class=\"col_heading level0 col1\" >Freq. rel.</th>\n",
       "    </tr>\n",
       "    <tr>\n",
       "      <th class=\"index_name level0\" >Valor</th>\n",
       "      <th class=\"blank col0\" >&nbsp;</th>\n",
       "      <th class=\"blank col1\" >&nbsp;</th>\n",
       "    </tr>\n",
       "  </thead>\n",
       "  <tbody>\n",
       "    <tr>\n",
       "      <th id=\"T_86c43_level0_row0\" class=\"row_heading level0 row0\" >solid</th>\n",
       "      <td id=\"T_86c43_row0_col0\" class=\"data row0 col0\" >84</td>\n",
       "      <td id=\"T_86c43_row0_col1\" class=\"data row0 col1\" >45.90%</td>\n",
       "    </tr>\n",
       "    <tr>\n",
       "      <th id=\"T_86c43_level0_row1\" class=\"row_heading level0 row1\" >modulex</th>\n",
       "      <td id=\"T_86c43_row1_col0\" class=\"data row1 col0\" >37</td>\n",
       "      <td id=\"T_86c43_row1_col1\" class=\"data row1 col1\" >20.22%</td>\n",
       "    </tr>\n",
       "    <tr>\n",
       "      <th id=\"T_86c43_level0_row2\" class=\"row_heading level0 row2\" >transparent</th>\n",
       "      <td id=\"T_86c43_row2_col0\" class=\"data row2 col0\" >21</td>\n",
       "      <td id=\"T_86c43_row2_col1\" class=\"data row2 col1\" >11.48%</td>\n",
       "    </tr>\n",
       "    <tr>\n",
       "      <th id=\"T_86c43_level0_row3\" class=\"row_heading level0 row3\" >pearl</th>\n",
       "      <td id=\"T_86c43_row3_col0\" class=\"data row3 col0\" >10</td>\n",
       "      <td id=\"T_86c43_row3_col1\" class=\"data row3 col1\" >5.46%</td>\n",
       "    </tr>\n",
       "    <tr>\n",
       "      <th id=\"T_86c43_level0_row4\" class=\"row_heading level0 row4\" >chrome</th>\n",
       "      <td id=\"T_86c43_row4_col0\" class=\"data row4 col0\" >7</td>\n",
       "      <td id=\"T_86c43_row4_col1\" class=\"data row4 col1\" >3.83%</td>\n",
       "    </tr>\n",
       "    <tr>\n",
       "      <th id=\"T_86c43_level0_row5\" class=\"row_heading level0 row5\" >satin</th>\n",
       "      <td id=\"T_86c43_row5_col0\" class=\"data row5 col0\" >7</td>\n",
       "      <td id=\"T_86c43_row5_col1\" class=\"data row5 col1\" >3.83%</td>\n",
       "    </tr>\n",
       "    <tr>\n",
       "      <th id=\"T_86c43_level0_row6\" class=\"row_heading level0 row6\" >glitter</th>\n",
       "      <td id=\"T_86c43_row6_col0\" class=\"data row6 col0\" >6</td>\n",
       "      <td id=\"T_86c43_row6_col1\" class=\"data row6 col1\" >3.28%</td>\n",
       "    </tr>\n",
       "    <tr>\n",
       "      <th id=\"T_86c43_level0_row7\" class=\"row_heading level0 row7\" >milky</th>\n",
       "      <td id=\"T_86c43_row7_col0\" class=\"data row7 col0\" >4</td>\n",
       "      <td id=\"T_86c43_row7_col1\" class=\"data row7 col1\" >2.19%</td>\n",
       "    </tr>\n",
       "    <tr>\n",
       "      <th id=\"T_86c43_level0_row8\" class=\"row_heading level0 row8\" >speckle</th>\n",
       "      <td id=\"T_86c43_row8_col0\" class=\"data row8 col0\" >4</td>\n",
       "      <td id=\"T_86c43_row8_col1\" class=\"data row8 col1\" >2.19%</td>\n",
       "    </tr>\n",
       "    <tr>\n",
       "      <th id=\"T_86c43_level0_row9\" class=\"row_heading level0 row9\" >metallic</th>\n",
       "      <td id=\"T_86c43_row9_col0\" class=\"data row9 col0\" >3</td>\n",
       "      <td id=\"T_86c43_row9_col1\" class=\"data row9 col1\" >1.64%</td>\n",
       "    </tr>\n",
       "    <tr>\n",
       "      <th id=\"T_86c43_level0_row10\" class=\"row_heading level0 row10\" >Total</th>\n",
       "      <td id=\"T_86c43_row10_col0\" class=\"data row10 col0\" >183</td>\n",
       "      <td id=\"T_86c43_row10_col1\" class=\"data row10 col1\" >100.00%</td>\n",
       "    </tr>\n",
       "  </tbody>\n",
       "</table>\n"
      ],
      "text/plain": [
       "<pandas.io.formats.style.Styler at 0x29dff2c4b50>"
      ]
     },
     "execution_count": 22,
     "metadata": {},
     "output_type": "execute_result"
    }
   ],
   "source": [
    "resumo_serie(df_lista_cores.color_type)"
   ]
  },
  {
   "cell_type": "markdown",
   "id": "34cca98c",
   "metadata": {},
   "source": [
    "<hr style=\"height:0px;border:none;border-top:1px solid #c0c0c0;\">\n",
    "\n",
    "- Resumo técnico."
   ]
  },
  {
   "cell_type": "code",
   "execution_count": 23,
   "id": "3993f695",
   "metadata": {},
   "outputs": [
    {
     "name": "stdout",
     "output_type": "stream",
     "text": [
      "<class 'pandas.core.frame.DataFrame'>\n",
      "Int64Index: 183 entries, 1 to 233\n",
      "Data columns (total 3 columns):\n",
      " #   Column      Non-Null Count  Dtype \n",
      "---  ------      --------------  ----- \n",
      " 0   color_name  183 non-null    object\n",
      " 1   color_code  183 non-null    object\n",
      " 2   color_type  183 non-null    object\n",
      "dtypes: object(3)\n",
      "memory usage: 5.7+ KB\n"
     ]
    }
   ],
   "source": [
    "df_lista_cores.info()"
   ]
  },
  {
   "cell_type": "markdown",
   "id": "a7b6f357",
   "metadata": {},
   "source": [
    "<hr style=\"height:0px;border:none;border-top:1px solid #c0c0c0;\">\n",
    "\n",
    "- Visualização do dataframe com D-Tale."
   ]
  },
  {
   "cell_type": "code",
   "execution_count": 24,
   "id": "5e0d7b20",
   "metadata": {},
   "outputs": [],
   "source": [
    "# dtl_lista_cores = dtale.show(df_lista_cores, name='lista cores', open_browser=True)"
   ]
  },
  {
   "cell_type": "markdown",
   "id": "295afaaf",
   "metadata": {},
   "source": [
    "<img style=\"float:left;\" src=\"data:image/png;base64, \n",
    "iVBORw0KGgoAAAANSUhEUgAAAhwAAAB1CAIAAACK+K+QAAAvlUlEQVR4nO3deVgTR/8A8G8IbAQi\n",
    "wQBKRIiIESXSNhTFqlhpUCEeUBQ8WvRtabUoCuIFrfctVoFCpdpiLWitWDC8WrxAFKoV9Ue0NrzF\n",
    "iBgOA5JEkAhkIfD7YzUih0YMBHA+j49P2Ozszswe352Z3Q2poKCgrq7ukxUxxtW3AUEQBEHegL76\n",
    "0+DBg3WXDQRBEKQ3eB5UDh8+rMN8IAiCIL2Anq4zgCAIgvQeKKggCIIgWtOjgopKnpMhUOg6F4g2\n",
    "lfGjUyS6zkSnwgVRcQJdZwJBukw3CiryjKSMipfNIDkVkSi3pGq2NMmppJyujj/ipM/d3PzihKrX\n",
    "SCOIcou+0Wk5emPy1CC3JfwXz/qieL8pW7NxSUpQ0BvHA8mVdBHxQRtL044b0S2KLIhye5q3Mn5Q\n",
    "y9popu1vhVmpOLGYaLfo9qPLy7/tAgrhkbD/eE9xc3NzmzJ93qp4YccOn5dXEfIW0GpQUYkEHW5I\n",
    "lPLXR8Sdz5G3+SVeKkqLmjkvqmyMM0OTheF58dv+BCrewbx00O20RDmbjaVl5b10tlpBtN/z0wcn\n",
    "JDPYudOz1mF0Vx4nj59d1GzS7XR+leuHzhjDJzbWR6PNoQntLq2zWHrHfu/d0VxygjODOa+bqIwf\n",
    "tKwrztF4dlRoKiPw4NnMzMzMsyd/3R3Abv/yTZL6whXAC3++URUhvYH+q2dpTYWL8wVCwVVRoTjn\n",
    "37JnU5WyUjlz8a8HOBq2JZ7CFRKxSJC2L06IA+yZO/2IWV8yAIClM2+MJcZwHCn7fWvcRQkOAM4B\n",
    "PJtnyUr5oV9GCzDu2h/Xci1eyJtCIUzceFhYAUFfpbEw/GmUow51dR05jOPuak/HyB0p9CsJMvj4\n",
    "xM0B2NawU9kBjq4YAAAo8vlR2+MyinCMxvbbsjPAKit05m4BAN+Nj/nGnl3MFkS5ZY3PDHYGUEky\n",
    "doRHZYsVOMbkBm8K5zHJAGX8oC2yj7ni+P3ZEqC6LD6w04sBoBD9tjUsIUdeizG5gd+EeLNer8pf\n",
    "B939Y+7u+CtiPxumupjgtdfVECQpQdvgm1gfBlRk714TkV6oABrbO3xzoAtdEDMl3urQ0yBxI9ot\n",
    "gZn8nTcdFKKUqG0J2eIqoDr67dz+wmnr2dLKot1C+c8nu649uZlrqBAkhK3/TajAMSZ39Y5wLqNz\n",
    "tuCrlfGDtsA333szVJKMHeERGWKwdF3t03drNiv5O286AIAsL2X9ihc2lpog2i1rQmYwB0BxOz5s\n",
    "XZKwCljzg11uRCu+OBvMAQBckhMXtylJVIsxfXfGLuZQb8dNWZaEA8xzi+asSN47jd55JZNVlOHO\n",
    "k1xar6Eobeu66Oc7sCNVuG9K0HEcYJ5bDGdV8l7mby/8ycOfVVHbu26bZe/C/RnpfK/bUsElghyB\n",
    "IOduzom4hPScf8WyUonk6T85DiDaN2/Kgt1pRa9urygKM+K/WTjPe8qU6fMWhu7m3yWaFbiiTCKp\n",
    "onPnrwqc7+fHZVzatCSaiCgATEc2nTibqMRJG6MFtQBV2SeuSEAhEV7hx+8J+4/3FDf3KdO9Q5OI\n",
    "brQKsUidvfzspNR/qpXVMkXntF9qs/84Da7vcziuPOzciXSixVUriF+T2HfR0czMzLM/8ETf8kV0\n",
    "3t6jwWzw3puZeXYxu/kChD8F7SP7H0jLzEw/5E+OD4oRPM1oHj/XIuTXs5lnv/Mui4rOqAKoSI/+\n",
    "zWz1UWLOLEHbrTttwVw+5Ep+SxM+LybGm/hCzgW/bRVPjj2bmZm8a4zokhAHANWLlawCJQBUZB27\n",
    "+8GOpLOZmWc3s/hhR4RtrY4TnPlU7BwGe2kglwqS1LAwwYTYk5mZ6UcDqfuCfmozYZcSHw+PeMg7\n",
    "kJ559nCALDv9aQGhrY3VWm121Mo0VnhyZubZvQ6itDwcnvaXpqUV8mJPZmYmrx6auj4xD8Ax8Oxu\n",
    "b3AI/jUzs1MjCgAwhrPppyPW/5YjkjfbdrWC6GXxxA58MnKCYM3WDDmwF5/d6wXspb9mZu7l0Vv+\n",
    "+YLWtdFm2bt0f0Y63eu2VDAGx4UBAM6uLpNzss7lihR4tTA9I/95FMGL0nYvSOd/snfvF+03oIv4\n",
    "YUuihbWtlj42YPNUNn0Ii2EIGAh2f76+2WHJdHd9erGsyE6MvwsAABa8AC4DqMAc1DerVI6xXb2t\n",
    "cMHxbDEAAEa1NOtLc+C6MhTAGGPLoA9hMagYlYq9ZpE1Ir94IgN4e8diABN4tKT0HDnPkw7/ZqVZ\n",
    "zD40lg4AYMnb+ctLFiBITzGbfZC4BmdwP/M/MfePnEUcVwCg8XiudADA7J04IKiuBSAD1CoVKgAy\n",
    "gxu+tzOK0xw29mPvPWFZtwPZjoDfuJRt5X/AoeU8ilocVwHV/tO9q9tfkAVv7bNvOR+4KxJEcmC3\n",
    "N6/iRvS2woDYRQwASU6GiPdFLBMDALqL72yzJVnCRex2U2pFXvQ8t+jmE9hLm/8lF1wRu3/ixyQD\n",
    "ANPvE/e4hGfftN5YtFYL/zc322b2IRcqAFBd/GYPVfduuXzsycTIAHSHkUMV4hqtl+qlHAJ/+WXY\n",
    "sf1xQfvFQGO7LwoO9GRRhVl8G//ksXQAwGz9/CfGnbih4E7WuB3RujbutVP2Ltyfkc7Woe4vAACg\n",
    "WrnwPnOBWkH0XD4xhb0oNtgifXcEX4TjoiPxWV57eRZtpcTlwns4xyf4YweG5SA2XRy3cH2aAgCA\n",
    "6T3H28WRCgCgkvCXr09rfqHn4M21BQCA2uyoHRnE1RTdk0d0tlFtuIF7uQAg3D+TyA02NviXzTx6\n",
    "F/WTSLJOCaheARwyALAneFKTjqeLPf2wQhGOMTVaQJlYhGNMdW4tmSxIlxHFt2K0vEa18P5mxT/h\n",
    "n0+JIDM50wKC57t0bncQmT1hMoRmCAIdWdl/ZLCmBbQoEuezva7rw6bzcDP2hE8XBfLs2z3pSK4c\n",
    "jv89Le+eTFKFg0Owsr35yvhhe2DVj1w6AECZOA/nh7rxn3/t3emDZQ7BvzYbGBBEucW/8LVYfBue\n",
    "d6KSm12mtN5YrUhe3Cuw56kZ9NYRqAtRbbgB27gBKlycE7dtU1AU9WRAhQhu82c2i6/sodUAGgeV\n",
    "VrXRdtm7eH9GOpl+RUWFUtnu0f1K4uPRfOLcR+POnsxm0dmrirIWJsgBBEkZYt6ctk6pGJ090Y89\n",
    "EQAAVOLDG4mIAthY/9lERAGFICYo+vYLpw7GOywzAAAQJkQ9DSk23qunsZ5+rcIVFWKRIC0u5Vnj\n",
    "WRA91303DkDn8CbYYmaj/T9to8NYS4qy+XmgyAtyO66elJiW5xdoy8JwzU6AlkwWhuPq28bKxCKw\n",
    "dKIBtNl/AsCYvPbQZMDlwqSNoQvxvScXde6FO3uaP+PLP7J9nf7I4fBWtxqFpbID9iYHqHDxxYjQ\n",
    "r7ZS+DubV7RCLgFgAoD8XNh/fqKu/vbAaisqJoh2+7mdlakk/O1J7HW/Phubs2Q6AG9+5ioXrRer\n",
    "w5hMRxCpN5bq9WIc48W9QsMdpOuQMebY4AAuP+z/hGvHs2DohF9/9NPWwHt7Ze/i/RnpVHomJiYm\n",
    "JiYdTF3G331ETHxk+/i70AFAUVT49LRON6wSnj68+5uF82ZOcXsqND47J+dKjuC2SCzHAQC/kphY\n",
    "CAAAGMvvE1fiZKS4GBWWKgcAqj2X6/Ds1GJBxctEgj+ivk1+uny2l5+LBQDgkuykuJjQBXMXhkbw\n",
    "Rc92U7yW2GMZDAxjTPTz67yIAiA8lSh2XpWcqZa8ylmRdlEIwyfwKo4lXZEDAJRlbF2wOwcHIAOA\n",
    "TK4ARVnz3muOu4/sWEKGRAWgkmT8nCj2mupi2M76SrMPnxbKVYDRmKxBndKb15KNC88q+4+YdOHk\n",
    "j91bVqRCmHI4pxQHMsZkDSPOPpY2bGFGtlgFoBKnnXp6p1t1WRHmOpVrQ8UAl5SK21mTQhCzIn3i\n",
    "nsDnPWwMFy47/chhURUAgDwvafcRka7Pw3SXiez0I0lEAZOOpL9eamKvyFEAgCIn6djdl85MBqxK\n",
    "plCBpKxThxpwQdS8hftyxESPdFnG+RuYqyML2BO8K47FZ0gAAHBJxr7obGK0kozJqxSgkkjkbf35\n",
    "Em2Wvev3Z6Qzdbz7CwDP/jlOSBzftn6BPkwMQHE7MTGb+Nb4zvfBQfUvpsBEGX9Kxvi4MO0ZVAAA\n",
    "Mf/np60OxrTA2Q4YAEApP+xZ7xZAWdHdp6M1gpj/TI/pZz3gcTGxTBrPfzJxBsMYY12d8rKyaRhU\n",
    "Eekw5lh31/edRtra2AxhMmidvJuqBOmpOHdt85MtnTffL27liezP1gbs8o/aPtftGxyjsf027HTB\n",
    "ACwmfOwat3X6FDoncO9eb3Ua9hexi3eEL+RtJe7+il3KaSPfxCSqJfX/ti2IEitwjOrot3NxF1zW\n",
    "Md3ncOJ3CFw372yVKyrdsjp+2fQwOQ6GTG74Di4NYHLgpxfDFrrHgQ1vra87nAMKAMNnFW9JmJsb\n",
    "jtHYfpPpQAYKQMs2ckV6fKpECPPcYoi/2cFHY729Nm8uWx/qF6/AMaqta8gWP52feBhe36zOC1/o\n",
    "Hgc23NXT3OFiWzO1l0tDTsAWXti6mW61GHtOIM8BWt3WQgF1/8877n6q0IU8PtNzbWyIS6fdFYVx\n",
    "5gS7xMQFeYcpcABDpssne9dyqQCcgF3+Udv/47YVB0M6x3fzZgsAAA7XD5YvnJLK5K2ODR5LfeHP\n",
    "Ie2tAQDaKbsO9mekE5Hy8vKUSuVn4fsFp+NeL2kZP2hutBAAAGMvPRTrw5Bk7F4RkUbcqkX9KGSj\n",
    "W9O101kCmYLOYrNsRzqx6HIx7jDZhaE+2PLj5311WAIAwPT7LjZwqEx4MT0xISmnrNWVKEZlOk/g\n",
    "MKqvJGc/BAAA9meH9s5nNj9shfumBx1XAABzTmzsopfcZI8g2oRf3Drl2qTM1R3rnhMf/nQbtuuA\n",
    "n5WWc9UTvM1l78063lIRpsY/u7WTwcLTwuY+DwaYvd/ar7zet4D3x3u/kMax+R94dkoSce8Hnes/\n",
    "20q4e0FY2rMn6jEaw2yIgyutKOmiCADAdfWBtez0Vc8G4YcGBH/yQkSBMn7cceKCz8X9PTE/Ju0f\n",
    "oaBIoZThDFfPj2d7cVmde0Mm8rZSSdLPZzMd/TuWWiFIS6+wCXgrd863uey9WweDCi4XCJ4/LSDm\n",
    "71d3kWMs39XfzOcyX9lSqMr+49zTrq8xkzh0Oj1wBS8rLE0BQJ+8+cfVrnQySFKCki4CAMZ2GAo3\n",
    "EuOevs4E4/hwmbUSkahIXquQ5N3HbcaY5akjXE58WE6z1cgzEoQZp094+0xgWbm6uzJ03nOC9AKK\n",
    "nOigHWniKhwAo3P8Nk/T7B6/p8T8VaFxN+Q4AEZjuq7Y4dre4Fkv9DaX/W3xekEFV4iFpxLjjme/\n",
    "8IQUAABgdI7rRKcPPHncoRpdeyhyzhPnfqpncKALHWoF8XvSFACY46drv3AlbgWWVxCxymyMtZx/\n",
    "Jv1Z1zOeEzFvSsTTPyj9LEwak+VVz595oVKpChyYzhNc33caOXwo28oMo1I76Sl65O1EdQk+xA/u\n",
    "aGqm9+5kby3mpid5m8v+ttA8qODiK9npf0QcvvJiODGkszi82Z/xXKwY1Ne46FDkXCBiCtN7GocK\n",
    "gBfJqa5sViEnIDyA8/TpFlxepgAAwCDrmyBRizF/wOgD+w2yHVJzL/+BpFYFABjDZTJ3zHtObDaL\n",
    "aYGiCIIgiA5oEFRUCvFdkfBGrigvO0fMdJnGZliyxhjmRsRkyB0+PbAroCMv6sEFfwlcuF5Mpw/d\n",
    "x9hjAIDZc2fXwMg5XJfnz0tiGBGl+pkoHkugHuBpe4jZ18ppAtuGPZRJRA5B1Mz1GbhLSOxaLuqg\n",
    "RRAE0SUNggqZyrTnMO05AAHqaYoMCcuZyZg9u4OvfquSUXz8A+az6IbPxzioHG6LG2hsbFkAIhjJ\n",
    "8ynJ/z4fAHNZ/ePOloGjNltkufOXw0x6Z986jCAIgrxKBwfqqVzemNt9XV7zhcTP0XnBn2HYq6IA\n",
    "wzfQe19ojs27HlO9b/xRbWbj79q6KYK5ePtiqLMLQRCkO+jo76mU5sF4Xsdf0UN+dUQBAABOcFKw\n",
    "AwCVE+xv23fMNGYbicgooiAIgnQXHX1OxYrr3TWPLFl4r/YFwIUiQ/eWL9ZGEARBupk3eU1LF8EM\n",
    "AYDt7aPrfCAIgiCv8jyo3Lt3T4f5QBAEQXqBF1oqQ4a09zY4rTl+/DgA+Pr6dvaKCBUVFa+eqYe4\n",
    "ePEiAEycOFHH+UAQBHmRhcXzZ0F6QPfXG2pe2t6h95UI6STERRXaYQBVRWdqce3e0bu/EARBEKSV\n",
    "XhJUKioqvvzyy8jISF1nBEEQ5K3WG4JKTU1NVFTU3bsv/wk9BEEQpNP1+KCiUqkOHToEaAQbQRCk\n",
    "G+jxQeXatWs3btxYunSpiYmJrvOCIAjytuvI3V+XL19OTEyMjIw0NNT9L+xcvXq1sLBw7ty56inL\n",
    "ly/XYX4QBEHeZh1sqezfv9/IyOi9997Lz8/XboZe1/LlyzMzMzMzM2fMmDFjxgwUURAEQXTojbq/\n",
    "bt26NXz4cBKJdPnyZW1lCEEQBOm53ujhx3fffffYsWP29vbays2bQG0UBEEQnetgS2XRokU1NTU3\n",
    "b97sJhGlC+A4vnnz5tTU1C5e7xw+kLbDHH4Xr7arNTU1/fTTTzExMbrOSI/XeTtMj9tG3eTY6XH1\n",
    "pomX1G1Hgsq4ceN++OGH7jBK35X+/fffy5cvq1SqN1yOQCCYNGlSSkpKi+mRkZELFix49OjRGy6/\n",
    "hyotLT1//nxDQ4OuM4K0S+fbKCUlxdvbu6CgQFcZ6Bgt1tuZM2fCw8Pr6urefFGdp/e/+0tblEol\n",
    "juNvvhwOh3P+/HnN5//NG37zBgA4fvzNV959KZVKpVKp61z0BuodRut63DbqvKp4LdqqtydPnpw+\n",
    "fbqbXM2/pG7f9qAiFApjY2Pv3LljYGAwadKkwMBAIyOj5hM/+uijhQsXmpqaNk9VWVl54MCBCxcu\n",
    "1NfXDxs2LCgoiM1m379/PzQ0dMCAATiOU6nU7du3Gxsbt15jbm7uqlWrli1b5uXlVVhYuGPHDpFI\n",
    "NGTIED29Hv/MUGstKmr16tW2trZt1l7zVEqlMjExkc/nP3nyxMrKKjAwcOzYsUT3Y35+vq2t7b//\n",
    "/hsRETFixIjWa1RvBZVKJRKJRowYsW7dOgaDoV6pUqm0srIKDQ11cnIiZjY3N6+pqSkvL589e7aR\n",
    "kVFCQgIAzJs3b968efr6+pWVlfv3709PTwcAJyen4ODggQMHdk3tdY2u30bQ1nFnaGh45cqVuLi4\n",
    "0tJSY2Njb29vf39/CoUik8kiIiJu3Lhhamo6ePDg5tnW7Xbp4nqrqqpauXIl8d6Q6dOnR0REGBkZ\n",
    "rVy5ct68eXPnzi0pKVmxYsX48eMB4Ny5c3Z2dkKhkEKh/Oc///H29tbX1xcKhdHR0SKRqHnddlLN\n",
    "9MITmebKysq2b99OpVJTU1OjoqLEYnFFRcXDhw937typnnjt2rXvvvuueRtFpVL9+OOPV65ciYqK\n",
    "Sk1N7dev3+bNm4uLi1UqVWNjY0lJSUhISHR0dJsRhUje2NioUqlwHP/555+fPHmSmJgYFhbW3lv6\n",
    "u0m/cAc0NDTs379fXVH9+/f/999/26u95glTUlKOHz++Zs2aM2fOuLi4bNmy5e+//25qalKpVDKZ\n",
    "zNHR8b///W97Zyuieh8/frx+/fqDBw8+fPjw2LFjTU1NOI5XV1fv378/NTXVzMzshx9+qKysJGaW\n",
    "y+UbNmwIDw8/cuRIenr6L7/8Mnfu3GPHjolEIiK3f/31V0xMzIkTJxobG7/99tuampouqb8Oeq0d\n",
    "RifbqM3j7s6dOzt37nR2diZ6eH7//ffExMTGxsbff/89Ly8vKioqLi5O3Tms4XbpvGOn6+uNRqNF\n",
    "RETY2Ni4uLicPHmSw+EMHDhw0KBB//zzj1KpfPDggVQqfeeddxoaGhQKhZOTU1pamru7+08//ZSf\n",
    "n0+c02g02smTJ7/99ttTp0617n5/XS+pW/3Hjx+rm2bHu6qH5e7du3Q6nU7X8e8D5+fnP3jwwM/P\n",
    "j0qlDh8+/LvvvgOAS5culZSUzJo1i0ql2tnZOTo63rx588GDB+pUUqlUIBCw2WxbW1sKhfLhhx/+\n",
    "9ddfubm5I0eOBAA2m81isTRZ+6NHj+7evWtra0u8jpvNZpeUlHROQXVDJpPdunVLXVGbNm0CgPLy\n",
    "8pfUHgA8efLk6tWrVlZWjo6OxAynTp3Kysoibgmh0Wjjxo0jkUgvX/XIkSMZDMbjx4+NjY3LysqU\n",
    "SmX//v23bNlCfDt48OBLly7JZDLiT0dHx8GDB1dWVgIAh8MZMGCAvb19TU3Nw4cP6XR689yOHj36\n",
    "0KFDYrG4vdNlj6OTbdTmcZeYmFhTUzNhwgQKhfLOO+/Y2tpeuXLF09MzLy/PwsLC2tra1NSUw+Fk\n",
    "ZGRAq2Ow67eLDvdttb59+3I4nIsXL1ZWVt68eXPAgAHDhw/Pzc01MjIaNWqUgYHBuHHjUlNTc3Nz\n",
    "bWxs1Oc0JpPJYrGuXr06Y8aM9i5835C+hYVF1w/75Ofnmz2jw9BCnFZatJqbTzQwMDAxMSEaFuoZ\n",
    "FApFTU2Nubk50X4k8q+eYcCAAX369NFk7S2WY25u3mZQ6bljKi0K2ObEFrUHADiOV1ZWMhgMohqN\n",
    "jY0NDQ3Vg5w0Gk2THaZPnz5kMrn5lKampqtXrx4/fjwvL0+pVNJoNPVXJiYmBgYGxGcrKysAINLK\n",
    "ZDIit1euXPHw8GhehNetiq70WgMJOtlGbR53Uqm0b9++xHYxMDCg0WgSiaTFioito87hK7dL542p\n",
    "6HDfbm7UqFEpKSkikejevXv29vZEcgMDAwzD1PNIpVIieERFRUVFRRETbWxscBx/k6Ci6ZhKF/wg\n",
    "o1wul0qlxP8ymUy3ocXMzAwAmrdCWkysr69//Pixnp5e8zMUlUo1MjKSSqVKpZJCocjlcnh2Gnot\n",
    "zZcDAFKp9M1K0+20qKg2J7auPQzDTE1NHz58WFdX16dPnydPntTW1urrv+ng39mzZ3fv3s3j8dav\n",
    "X//zzz9funRJ8yKw2ez169d3Xh+0DulkG7V53Jmbm1dXV1dVVQFAfX19VVUVmUxusaLS0tLmOdTh\n",
    "dukm+zaTybS0tLx27VpRUdGCBQuIa6P6+vrm3fXm5uZEhYeEhHh5eXV4XZrr6jEVOp0+bNgwFos1\n",
    "bNgwOp0ulUrv3Llz584dkUhEbIOuZG9vP3DgwD///FOhUJSVlS1btuz69esjRowYNGgQMbGgoOD2\n",
    "7dvvvfde86sqc3NzDocjFAoLCwsVCsWlS5f69+/v5OT0umvv16/f0KFD79+/X1FRUVRUJBQK25yt\n",
    "546pmJmZvfvuu0RF4TgeGxu7f//+fv36vbz2jI2Nx4wZU1paevv2baVSeenSJRKJNGHChDfMjEgk\n",
    "6tOnz5QpUzAMU3d8vVK/fv2GDx9O5PYNM9BlXmuH0ck2avO4Gz16tJGRUVZWllKp/PvvvwsLC8eO\n",
    "HctgMBwcHCoqKoqLix8+fCgQCIglaLhdOu/Y0Um9ETGppqZGqVTW1tYCQL9+/d57770LFy4AgLrr\n",
    "r6am5vr16/X19ZcvX6ZQKE5OTkOGDOnfvz9R4dqqgZeNqWhrHa+FaJ3IZDKZTNa81WJubt6VYy2W\n",
    "lpZff/11bGysl5eXnp6eu7s7i8UyNTUNCwsjJqrv/sIwjEwmE00WMpn85ZdfNjU1hYSEEPd4rF+/\n",
    "3tra+v79+3p6eq+87lAvB8Owzz77bMeOHf7+/kOGDLGwsNDKLcvdh76+/qJFi0gkUkhIiFKpZLFY\n",
    "wcHBGIa9svZ8fHyePHmya9cu4g6ZdevWvfPOOziOE5X/8k5nonqJ5ZBIJPV14rRp027fvr106VIr\n",
    "Kyv1JgAA9cwUCqV5pwEAGBsbYxi2bNmyAwcOEEUwNDScM2cOcVdYJ1VaF9PJNmrzuKPRaGFhYXFx\n",
    "cR4eHsbGxrNmzfL399fT05s1a9a9e/dCQkKIu7+IS0+dbxed1JuxsfHUqVMPHDjg4+Pj7e29ZMkS\n",
    "PT29999//+TJkyNHjuzfvz8xG3H/Ko/Ho1AoX3zxhb29vb6+/vr164kKb2xsZDAYoaGhzs7OnVQ5\n",
    "pIKCgrq6uk9WxCR/v2rIkCGdtJqXkDVDIpG02yFWUVHRa36VmriNYuLEib2mREhnQz/MrtZbq6Kg\n",
    "oGDFihXz58/38fEBgMjIyEuXLu3Zs8fOzq7L8tDiNKv7Cy4ihHSrsRYEQZDur6mp6ebNmxQKZdSo\n",
    "UbrOy3PtBpWSkpL169c7OjouX75c/Ywei8UKDw8fPHjwmTNn4uPjZTKZ+jmyN8wH0eslk8mI/3t6\n",
    "aCEuH4hRx+ZcXFw2btyo4e1hSHvq6uo2btyYk5PTYjqNRuviazSkPWgbdYzm9VZRURESEqJQKL76\n",
    "6qtBgwYRE/X19VvcWNT12u7+kkqlK1euLC0t5fF4QUFB27dvJ5PJq1at2r17t0qlCg8Pv3z5spWV\n",
    "1dChQ3/44YfS0lLt3oPRfKyF6BDr8FgL6v5C3ma9tc+nA1BVdB6Nur/MzMzi4uLi4uIAQE9Pz8jI\n",
    "SP2ApJGREZlMdnNzAwClUllRUWFlZaXd8TH1MH7vaLUgCIK8Pdq+pZhEIhkaGhK3IpDJ5E8//bSo\n",
    "qMjDw4O4G5poW12/ft3Dw6OiomLmzJmd0doyMzMbNmyYvb39sGHDzMzMdHvzMYIgCKKJVz+nUl1d\n",
    "vXXr1g8++OD8+fMffPDBpk2bqqurAWDUqFEXLlwYPXr0xo0bWw8eaEu3eq4FQRAEeblXd1upVKra\n",
    "2lpi8EdPT6+2trahoeGff/6xtLQkHtSsqqqqq6tr/t4Lresmz7UgCIIgL/fqoEKj0Xx9fePj4w8d\n",
    "OmRmZhYQEGBkZHTt2rWUlJQnT54MGDDgyy+/VD9306nQWAuCIEg397Kgov7Vd09PT09Pz+Zfff75\n",
    "559//nkn5qt96LkWBEGQbkv3Dz92TC97rgVBEKR36KlBhYDGWhAEQbqVF4JKl/1IV6eqqalp8Wtr\n",
    "vcnFixd1nQUEQZB2vdU/J4wgCIJo1wstlbFjx+oqH8grXblyBQAmTpyo64wgCIK84GWvaSEePekd\n",
    "iN9i6k0lIqD3FyEaQi+8UkNV0XmIulVD3V8IgiCI1qCggiAIgmgNCioIgiCI1qCggiAIgmgNCioI\n",
    "gnQLdXV1e/funTRp0sKFC0tKStSfpVLpuXPnvLy8PDw8cnJybt26NWfOnEmTJqWkpDx69CgsLIzL\n",
    "5a5du7a0tFT9uaamRtel6XkKCgrOnDnz5svpkU/UNzQ0JCUlJSUlqVQqNze3zz//3NTUVNeZ0g6p\n",
    "VLphwwYejzd16lRd5wXpUikpKQDg4+PTfGJBQcHRo0dXrlz5NvwEdWlp6b17944ePWpqanr//n31\n",
    "5/r6+szMzLCwMBcXFwCIjo729fX9+OOPGxsbBQJBU1PTyZMnDQwMbt68qf5sYGCg69L0PLdu3SI+\n",
    "REZGjh8/vsXv3qekpJSWli5duvSVy+mRLZVr167973//S0hISE5OxjDsv//9r65zpB23b98OCwuT\n",
    "y+UNDQ26zgvSLdjZ2a1du7ZPnz4ymWzDhg2PHj3SdY46kVwup1KpVCpVX1//0aNH6s91dXXV1dX9\n",
    "+/fX09PDcby8vNzGxkZPT09fX7+4uNjS0tLIyMjAwKD5Z10XpWdbvnx5i4hC0PC81PNaKk1NTdev\n",
    "X3dycjIxMQGA8ePH//rrr0+ePDE2NtZ11t6UtbX17t27jxw5ouuMIJ0iNzc3JSVl3bp1FAolJSWl\n",
    "qKgoODi4sbExIiLC3d0dAKRS6bZt2y5cuMBgMDZt2mRnZ0e0VGbPnh0eHi6TybKysnx9fRcvXozj\n",
    "+NGjR48ePapSqTw8PAIDA42MjHRdvjciEAi+/vrrhoYGT0/PRYsWxcfHE583btx4+PDhu3fvfvHF\n",
    "F1OnTq2qqsrJycnJyXFxcRkzZkxMTAwAXLp0ycvLKyEhgfi8Z88eOzs7XReou2hoaODz+YcOHVIq\n",
    "le7u7osWLTI1NS0sLIyIiLhz5w6VSl20aJGnpyfxO78EdUtFJpNFRETcuHGDw+FoXqU9L6golUqZ\n",
    "TDZ+/HjiTxMTE5VKheN4LwgqvaYTD2mTlZUVhUJpaGjQ09O7c+dOVVVVTU1NfX29VCplMBjFxcVX\n",
    "r17dvHnzmjVrjhw5cvjw4a+//ppIaG1tvWvXrsjIyC1btvTr1w8ATp06lZ+ff+zYsT59+uzfv//X\n",
    "X38NCAhofl7ocTgczvbt25OTkzdu3NinTx87Ozv153feeWfdunXLly+3s7Orq6vbuHHjzJkziUvp\n",
    "xsZGsVhM/EgHjUZTf0bUSkpK/vzzzx9//JFGox08eLC8vJxEIkVFRc2cOZPL5RYVFW3bto1Op48Z\n",
    "M6ZFQpVKdfDgwUGDBm3ZskUul69bt87BwUGTNfbI7i8E6YnodLq5uTmO43K5nEKh0On0srIyqVRq\n",
    "YmJCvPdhzJgxgwYN0tfXd3BwqK2tValUbS6nrq7u+vXrs2bNotFoFAqFx+P973//UygUXVsapMfA\n",
    "cby+vt7IyCgoKMje3r6goMDQ0HDcuHEkEonJZHp4eGRmZrbe2aqrq4uLiz09PTEMs7S0nDx5soar\n",
    "63ktFQTpoQwMDIYPHw4ApaWlNjY2+vr6d+/eBQAGg2FoaAgA5ubmmiyntrb2wYMHK1asUE+xsbFB\n",
    "43BIm5hM5vTp00NDQzEMmzJliq+v7/379wFA3a61tra+du1afX19i4QymayyslI9G5lM1nCNPS+o\n",
    "UCgUMzOzoqKi999/HwAeP35MJpMxDNN1vhDk1QYNGvT48eP8/Hw2m21gYJCeng4AxE1NmjM0NGQw\n",
    "GIGBga27LBCkBRKJ5Onp6eHhUV5eHhkZefjwYWdn52vXrjU1NREzFBcX02i01nc3mJmZmZqaqmdr\n",
    "r93cWs/r/iKRSKNGjcrNzX38+DGO43/++efIkSN7wYAK8jawsrICgPv371tZWQ0aNKi8vLyoqIjJ\n",
    "ZL4yIZlMrq+vr62tlUqlBgYGo0ePPnHihEwma2pqEggEfD5fffAjSHNisfj8+fM4jtPpdAaDAQB2\n",
    "dna1tbWXL19uamoSi8Vnzpxxc3Nr3RDp27cvi8U6ffo0juNlZWXnzp3TcI09L6gAwOjRo0eMGDF/\n",
    "/vyZM2fiOD5jxgxd50jL9PV7XgsS0QSFQklNTcVx3MTExMjIiEajkclkGo3WYjYymdxi1H3gwIFM\n",
    "JnPBggUxMTFKpXLq1KksFuuTTz5xd3c/cODAu+++26NH6QnNS938M4lEUp/ymn+GF/tkNO+featQ\n",
    "qVSBQODl5eXp6SmRSGbOnEmj0UJCQpKTk93d3ZctW+bt7d1mW5lMJs+bN6+kpGTq1KmRkZFOTk4a\n",
    "npdI//d//6dUKhdvTkj+fhXRs6TtQulML3v1/cmTJwFg4sSJ6PXdiIbQ+97VUFV0noqKiuYVq6en\n",
    "p9cLrnEQBEGQ7kCPRCLp6fXITjAEQRCku9Ej6DobCIIgSG+AggqCIAiiNWhMBUEQBNEaNKaCIAiC\n",
    "aI0eiURCLRUEQRBEK/RbBBXi2Y7epPeViLjjHkE0hHYYNVQVXQANqCAIgiBa07Kl0mueP4de90S9\n",
    "GnoqGNEQeoxcDVVF52nR/kNjKgiCIIjWoPu+EARBEK1BQQVBEATRGtT9hSAIgmgNaqkgCIIgUFBQ\n",
    "cObMmTdfTs8OKlKpdMmSJX/88YeuM/KmlErloUOHvL29p0+fvmHDBrlcruscIYjW1NXVhYeH5+bm\n",
    "vlaqBw8erFmzZtKkSR4eHj/99JNSqWxqajp9+vSsWbO4XO6aNWt63yNounXr1q2amhoAiIyMvH79\n",
    "eotvU1JSYmJiNFlODw4qt2/fDgsLk8vlDQ0Nus7LG2lqajp69KhcLj969GhycrKFhUVCQoLmvwiN\n",
    "9DIymWzDhg2PHj3SdUa0qamp6bV26aqqqm3btjk7O58+fTo1NfXDDz8kk8l///13YmLi1q1bT58+\n",
    "zWKxvv/+exzHOy/Pb63ly5ePGjWq9XQNz7Q9OKhYW1vv3r173Lhxus7Im2poaCCRSF5eXoaGhhiG\n",
    "ffDBB/n5+QqFQtf5QnRALBYvWrQoKyvLx8dn3759AFBZWRkREeHh4eHh4ZGQkEAc2JGRkSkpKSEh\n",
    "IW5ubsuWLeueD4rn5ubOmTNn0qRJBw8eVJ/97969u3DhQjc3tzlz5qjbLkKhsMXE/Px8ExOT6dOn\n",
    "6+vrUygUFoulr69/586d999/397eHsOw6dOnSySSBw8etJkcUWtoaPj999+nTZs2adKkXbt2VVZW\n",
    "AkBhYWFgYCCXy/Xy8kpLS2tqamqeRN1Skclka9as4XK5K1euLC8v13CNPTiomJqa9uvXT9e50AID\n",
    "A4MFCxbY2dkRf0qlUmtrayMjI93mCtEJJpO5a9cuNpudkpKyePFiALh69aqTk9OpU6eOHj169erV\n",
    "vLw8Ys6//vpr06ZNZ86csbS0PHHihE5z3YaHDx9+//33S5cuPXfu3LvvvktkWyqV7tmzx9/fPyMj\n",
    "Y8OGDfv37y8uLpZKpbGxsf7+/hcuXNi+ffvJkycVCkVJSQkAREdHT5o0ac6cOZcvX25qanr06JH6\n",
    "rer6+voKhaKioqLN5DoufHdSUlLy559//vjjj6mpqcbGxuXl5VVVVVFRUTNnzkxPT//uu+/4fH5O\n",
    "Tk7rhCqV6uDBg4MGDTp9+vTKlSs1j9Y9OKj0SgUFBcePH58xY4aBgYGu84J0Cx4eHu7u7vr6+v36\n",
    "9WOxWIWFhcR0d3d3Go1GoVCGDx/+5MkT3WaytZKSEgsLCycnJxKJ5OTk5OjoCACFhYV0On306NF6\n",
    "enrDhw8fNmxYXl5eUVERjUZzdnYmkUhDhgzZsGEDlUoFAIFAMHbs2LNnzy5dunTfvn3FxcUjRoy4\n",
    "devW/fv3GxoaLly4QDRT2kuOqOE4Xl9fb2RkFBQUZG9vX1BQYGhoOG7cOBKJxGQyPTw8MjMzW3dO\n",
    "VldXFxcXe3p6YhhmaWk5efJkDVenr+38Ix1XWloaGxu7cOHCkSNH6jovSHdRU1PD5/MvXLhQUlKi\n",
    "VCqXLl1KTKfT6brN2Mvdv38fAIhWBYlEIpPJAFBcXHzlyhUPDw/1bLa2tkREbP1gg6Ojo7Ozs56e\n",
    "npOT08CBA8vLyz/44IOysrKvvvoKADw9PR0cHFqsCGmNyWROnz49NDQUw7ApU6b4+vq2qDFra+tr\n",
    "167V19e3SCiTySorK9WzEVtQEyiodBf379+PioqaP3++k5OTrvOCdBc4jn/77bfGxsa7du2i0+lR\n",
    "UVG6zpGmBg8efO3aNaKzXj1Kb21t7ezsvHnzZkNDQ/Wcubm56jmbJ8/KympsbASAxsZGYkhGX1/f\n",
    "19fX19cXAORy+YYNG+h0OplMbp0cUSORSJ6enh4eHuXl5ZGRkYcPH3Z2dm5eY8XFxTQarXXXiJmZ\n",
    "mampqXo2ze+zQN1f3cKdO3f27t27ZMkSFFEQMplcX19fW1srlUrr6uoeP3784YcfmpmZKRSKHnQT\n",
    "rY2NTVVVVW5ublNTU25u7u3btwHA1tZWoVAQAyTV1dUJCQklJSXEnDdu3GhqahKLxevWrZNKpXZ2\n",
    "do2NjZcvX25oaLh+/Xp1dTWTyVQqlSKRqKGhoaam5ueff7awsLC2tm4zua5L342IxeLz58/jOE6n\n",
    "0xkMBgDY2dnV1tYSW0EsFp85c8bNza11Q6Rv374sFuv06dM4jpeVlZ07d07DNfaGoKKv37PbWziO\n",
    "//bbbyKRaNmyZZ7PLFmy5PHjx7rOGqIDAwcOZDKZCxYsiImJIa7Nt2zZwuVyt27dqlQqWx/8mvdL\n",
    "dCVzc/Mvv/wyJibG09Pz77//HjlyJJlMNjc3DwoKSkpK+uijj+bOnUsikSwtLYmJiYmJH3300Zo1\n",
    "a7y8vMzMzGg02vLly3///fdJkyYdOnRo+fLl/fv3r62tTUlJ8fT09PHxAQCiS6fN5LoufTdCpVIF\n",
    "AoGXl5enp6dEIpk5cyaNRgsJCUlOTnZ3d1+2bJm3t7eLi0vrhGQyed68eSUlJVOnTo2MjHRyctLw\n",
    "TEsqKCioq6v7ZEVM8verKBRKb9oevezV9ydPngSAiRMnotd3IxpC73tXQ1XReSoqKppXbG9oqSAI\n",
    "giDdBAoqCIIgiNagoIIgCIJoDQoqCIIgiNagoIIgCIJoDQoqCIIgiNagoIIgCIJoTcuHWXrQI7sa\n",
    "6n0l6p7vOUe6LbTDqKGq6AKopYIgCIJoTcuWSq95/hx63RP1auipYERD6DFyNVQVnadF+w+1VBAE\n",
    "QRCtQUEFQRAE0RoUVBAEQRCt+X9qlDfCOsQbmgAAAABJRU5ErkJggg==\n",
    "\" />"
   ]
  },
  {
   "cell_type": "markdown",
   "id": "8a694ef5",
   "metadata": {},
   "source": [
    "<hr style=\"height:0px;border:none;border-top:1px solid #c0c0c0;\">\n",
    "\n",
    "- Salvamento e teste da carga do dataframe em formato pickle."
   ]
  },
  {
   "cell_type": "code",
   "execution_count": 25,
   "id": "becb4ea8",
   "metadata": {
    "scrolled": true
   },
   "outputs": [
    {
     "name": "stdout",
     "output_type": "stream",
     "text": [
      "Salvo: d:\\jup_ws\\tcc\\bricklink\\df_lista_cores.pickle\n",
      "Tamanho: 8494 bytes\n",
      "Modifificado em: 27/10/2021 11:13:00\n"
     ]
    }
   ],
   "source": [
    "frame2pickle(frame=df_lista_cores, p_pickle=tcc.pckl_df_lista_cores)"
   ]
  },
  {
   "cell_type": "code",
   "execution_count": 26,
   "id": "68313f60",
   "metadata": {
    "scrolled": true
   },
   "outputs": [
    {
     "name": "stdout",
     "output_type": "stream",
     "text": [
      "Lido: d:\\jup_ws\\tcc\\bricklink\\df_lista_cores.pickle\n",
      "Tamanho: 8494 bytes\n",
      "Modifificado em: 27/10/2021 11:13:00\n"
     ]
    }
   ],
   "source": [
    "_ = pickle2frame(p_pickle=tcc.pckl_df_lista_cores)\n",
    "del _"
   ]
  },
  {
   "cell_type": "markdown",
   "id": "f2b14c71",
   "metadata": {},
   "source": [
    "<hr style=\"background-color:transparent;height:4px;border:none;border-top:2px solid #c0c0c0;border-bottom:2px solid #c0c0c0;\">\n",
    "\n",
    "### Lista de categorias (tabela de domínio de categorias de items)"
   ]
  },
  {
   "cell_type": "markdown",
   "id": "e77ec33e",
   "metadata": {},
   "source": [
    "- Referência API: https://www.bricklink.com/v3/api.page?page=get-category-list"
   ]
  },
  {
   "cell_type": "markdown",
   "id": "a0e87232",
   "metadata": {},
   "source": [
    "<hr style=\"height:0px;border:none;border-top:1px solid #c0c0c0;\">\n",
    "\n",
    "- Exemplo de resultado da função `get_category_list` ."
   ]
  },
  {
   "cell_type": "code",
   "execution_count": 27,
   "id": "f9036882",
   "metadata": {
    "scrolled": true
   },
   "outputs": [
    {
     "name": "stdout",
     "output_type": "stream",
     "text": [
      "{'meta': {'description': 'OK', 'message': 'OK', 'code': 200},\n",
      " 'data': [{'category_id': 1, 'category_name': 'Antenna', 'parent_id': 0},\n",
      "          {'category_id': 2, 'category_name': 'Baseplate', 'parent_id': 0},\n",
      "          {'category_id': 3, 'category_name': 'Boat', 'parent_id': 0},\n",
      "          {'category_id': 4, 'category_name': 'Bracket', 'parent_id': 0},\n",
      "          {'category_id': 5, 'category_name': 'Brick', 'parent_id': 0},\n",
      "          {'category_id': 6, 'category_name': 'Arch', 'parent_id': 0}, ... ] }\n"
     ]
    }
   ],
   "source": [
    "print(\n",
    "    '\\n'.join(pformat(\n",
    "        get_category_list()\n",
    "        , sort_dicts=False).split('\\n')[:7]),\n",
    "    '... ] }'\n",
    "    \n",
    ")"
   ]
  },
  {
   "cell_type": "markdown",
   "id": "72959249",
   "metadata": {},
   "source": [
    "<hr style=\"height:0px;border:none;border-top:1px solid #c0c0c0;\">\n",
    "\n",
    "- Dataframe `df_lista_categs` com informações da da tabela de domínio de categorias de itens."
   ]
  },
  {
   "cell_type": "code",
   "execution_count": 28,
   "id": "1eac0a1f",
   "metadata": {
    "colab": {
     "base_uri": "https://localhost:8080/",
     "height": 203
    },
    "executionInfo": {
     "elapsed": 648,
     "status": "ok",
     "timestamp": 1623709733170,
     "user": {
      "displayName": "Cristiano Poeta Faria",
      "photoUrl": "https://lh3.googleusercontent.com/a-/AOh14GjEcGJ0o6euRypOR-m-qrENp4--CxGFq3-g75o8qQ=s64",
      "userId": "01408965004610225019"
     },
     "user_tz": 180
    },
    "id": "yykpeZXK7EUI",
    "outputId": "6e346e27-c471-4309-a1fd-cb564b1f18d3"
   },
   "outputs": [],
   "source": [
    "df_lista_categs = (\n",
    "    pd.DataFrame.from_records(get_category_list()['data'])\n",
    "    .set_index('category_id')    # coluna `category_id` como índice\n",
    "    .assign(category_name=\n",
    "            lambda df: df.category_name.apply(unescape))    # substituir entidades html\n",
    "    .sort_index()    # dataframe ordenado pelo índice\n",
    ")"
   ]
  },
  {
   "cell_type": "markdown",
   "id": "4f3bbf04",
   "metadata": {},
   "source": [
    "<hr style=\"height:0px;border:none;border-top:1px solid #c0c0c0;\">\n",
    "\n",
    "- Amostra e dimensões do dataframe."
   ]
  },
  {
   "cell_type": "code",
   "execution_count": 29,
   "id": "2422fe4b",
   "metadata": {
    "scrolled": true
   },
   "outputs": [
    {
     "data": {
      "text/html": [
       "<div>\n",
       "<style scoped>\n",
       "    .dataframe tbody tr th:only-of-type {\n",
       "        vertical-align: middle;\n",
       "    }\n",
       "\n",
       "    .dataframe tbody tr th {\n",
       "        vertical-align: top;\n",
       "    }\n",
       "\n",
       "    .dataframe thead th {\n",
       "        text-align: right;\n",
       "    }\n",
       "</style>\n",
       "<table border=\"1\" class=\"dataframe\">\n",
       "  <thead>\n",
       "    <tr style=\"text-align: right;\">\n",
       "      <th></th>\n",
       "      <th>category_name</th>\n",
       "      <th>parent_id</th>\n",
       "    </tr>\n",
       "    <tr>\n",
       "      <th>category_id</th>\n",
       "      <th></th>\n",
       "      <th></th>\n",
       "    </tr>\n",
       "  </thead>\n",
       "  <tbody>\n",
       "    <tr>\n",
       "      <th>1</th>\n",
       "      <td>Antenna</td>\n",
       "      <td>0</td>\n",
       "    </tr>\n",
       "    <tr>\n",
       "      <th>133</th>\n",
       "      <td>Technic, Connector</td>\n",
       "      <td>0</td>\n",
       "    </tr>\n",
       "    <tr>\n",
       "      <th>535</th>\n",
       "      <td>Brick, Modified, Decorated</td>\n",
       "      <td>0</td>\n",
       "    </tr>\n",
       "    <tr>\n",
       "      <th>1063</th>\n",
       "      <td>Magazine, Super Heroes</td>\n",
       "      <td>0</td>\n",
       "    </tr>\n",
       "    <tr>\n",
       "      <th>1070</th>\n",
       "      <td>Minions The Rise Of Gru</td>\n",
       "      <td>0</td>\n",
       "    </tr>\n",
       "    <tr>\n",
       "      <th>1163</th>\n",
       "      <td>Queer Eye</td>\n",
       "      <td>0</td>\n",
       "    </tr>\n",
       "  </tbody>\n",
       "</table>\n",
       "</div>"
      ],
      "text/plain": [
       "                          category_name  parent_id\n",
       "category_id                                       \n",
       "1                               Antenna          0\n",
       "133                  Technic, Connector          0\n",
       "535          Brick, Modified, Decorated          0\n",
       "1063             Magazine, Super Heroes          0\n",
       "1070            Minions The Rise Of Gru          0\n",
       "1163                          Queer Eye          0"
      ]
     },
     "metadata": {},
     "output_type": "display_data"
    },
    {
     "data": {
      "text/plain": [
       "(520, 2)"
      ]
     },
     "metadata": {},
     "output_type": "display_data"
    }
   ],
   "source": [
    "h1s4t1(df_lista_categs)"
   ]
  },
  {
   "cell_type": "markdown",
   "id": "ff6a928d",
   "metadata": {},
   "source": [
    "<hr style=\"height:0px;border:none;border-top:1px solid #c0c0c0;\">\n",
    "\n",
    "- Inclusão dos dados das categoriais pais (potencialmente recursivas)."
   ]
  },
  {
   "cell_type": "code",
   "execution_count": 30,
   "id": "fabe83a8",
   "metadata": {},
   "outputs": [],
   "source": [
    "# função recursiva para obter lista das linhas de todas categorias-pai (pai, avô, bisavô etc.)\n",
    "def get_parents_categs(sr_categ):\n",
    "    parent_id = sr_categ['parent_id']\n",
    "    if parent_id == 0:\n",
    "        return []\n",
    "    else:\n",
    "        parent_categ = df_lista_categs.loc[parent_id]\n",
    "        parents_categs = get_parents_categs(parent_categ)\n",
    "        parents_categs.append(parent_categ)\n",
    "        return parents_categs"
   ]
  },
  {
   "cell_type": "code",
   "execution_count": 31,
   "id": "64842141",
   "metadata": {},
   "outputs": [],
   "source": [
    "# desdobramento da lista das linhas das categorias-pai em 2 tuplas com seus ids e nomes\n",
    "def get_parents_attrs(sr_categ):\n",
    "    parents_categs = get_parents_categs(sr_categ)\n",
    "    return tuple(zip(*((sr.name, sr['category_name']) for sr in parents_categs)))"
   ]
  },
  {
   "cell_type": "code",
   "execution_count": 32,
   "id": "ec2e74de",
   "metadata": {},
   "outputs": [],
   "source": [
    "df_lista_categs = df_lista_categs.join(\n",
    "    df_lista_categs\n",
    "    .apply(get_parents_attrs, axis=1)    # tuplas com 2 tuplas internas: ids e nomes dos pais\n",
    "    .apply(pd.Series)    # expansão da série para 2 colunas: ids dos pais e nomes dos pais\n",
    "    .rename(columns={0:'parents_ids', 1:'parents_names'})    # renomeação das 2 colunas\n",
    ")"
   ]
  },
  {
   "cell_type": "code",
   "execution_count": 33,
   "id": "1c2cc776",
   "metadata": {},
   "outputs": [
    {
     "data": {
      "text/html": [
       "<div>\n",
       "<style scoped>\n",
       "    .dataframe tbody tr th:only-of-type {\n",
       "        vertical-align: middle;\n",
       "    }\n",
       "\n",
       "    .dataframe tbody tr th {\n",
       "        vertical-align: top;\n",
       "    }\n",
       "\n",
       "    .dataframe thead th {\n",
       "        text-align: right;\n",
       "    }\n",
       "</style>\n",
       "<table border=\"1\" class=\"dataframe\">\n",
       "  <thead>\n",
       "    <tr style=\"text-align: right;\">\n",
       "      <th></th>\n",
       "      <th>category_name</th>\n",
       "      <th>parent_id</th>\n",
       "      <th>parents_ids</th>\n",
       "      <th>parents_names</th>\n",
       "    </tr>\n",
       "    <tr>\n",
       "      <th>category_id</th>\n",
       "      <th></th>\n",
       "      <th></th>\n",
       "      <th></th>\n",
       "      <th></th>\n",
       "    </tr>\n",
       "  </thead>\n",
       "  <tbody>\n",
       "    <tr>\n",
       "      <th>149</th>\n",
       "      <td>Disney's Mickey Mouse</td>\n",
       "      <td>878</td>\n",
       "      <td>(878,)</td>\n",
       "      <td>(Disney,)</td>\n",
       "    </tr>\n",
       "    <tr>\n",
       "      <th>155</th>\n",
       "      <td>Basic</td>\n",
       "      <td>422</td>\n",
       "      <td>(422,)</td>\n",
       "      <td>(Universal Building Set,)</td>\n",
       "    </tr>\n",
       "    <tr>\n",
       "      <th>424</th>\n",
       "      <td>HO 1:87 Vehicles</td>\n",
       "      <td>423</td>\n",
       "      <td>(423,)</td>\n",
       "      <td>(Classic,)</td>\n",
       "    </tr>\n",
       "    <tr>\n",
       "      <th>450</th>\n",
       "      <td>Track System</td>\n",
       "      <td>179</td>\n",
       "      <td>(179,)</td>\n",
       "      <td>(Racers,)</td>\n",
       "    </tr>\n",
       "    <tr>\n",
       "      <th>617</th>\n",
       "      <td>Dino</td>\n",
       "      <td>167</td>\n",
       "      <td>(167,)</td>\n",
       "      <td>(Duplo,)</td>\n",
       "    </tr>\n",
       "    <tr>\n",
       "      <th>773</th>\n",
       "      <td>Disney Princess</td>\n",
       "      <td>878</td>\n",
       "      <td>(878,)</td>\n",
       "      <td>(Disney,)</td>\n",
       "    </tr>\n",
       "    <tr>\n",
       "      <th>983</th>\n",
       "      <td>Promotional</td>\n",
       "      <td>976</td>\n",
       "      <td>(976,)</td>\n",
       "      <td>(LEGO Brand,)</td>\n",
       "    </tr>\n",
       "  </tbody>\n",
       "</table>\n",
       "</div>"
      ],
      "text/plain": [
       "                     category_name  parent_id parents_ids  \\\n",
       "category_id                                                 \n",
       "149          Disney's Mickey Mouse        878      (878,)   \n",
       "155                          Basic        422      (422,)   \n",
       "424               HO 1:87 Vehicles        423      (423,)   \n",
       "450                   Track System        179      (179,)   \n",
       "617                           Dino        167      (167,)   \n",
       "773                Disney Princess        878      (878,)   \n",
       "983                    Promotional        976      (976,)   \n",
       "\n",
       "                         parents_names  \n",
       "category_id                             \n",
       "149                          (Disney,)  \n",
       "155          (Universal Building Set,)  \n",
       "424                         (Classic,)  \n",
       "450                          (Racers,)  \n",
       "617                           (Duplo,)  \n",
       "773                          (Disney,)  \n",
       "983                      (LEGO Brand,)  "
      ]
     },
     "execution_count": 33,
     "metadata": {},
     "output_type": "execute_result"
    }
   ],
   "source": [
    "# categorias com categorias-pai\n",
    "df_lista_categs[lambda df: df.parent_id != 0]\n",
    "# nenhuma categoria teve mais de uma categoria pai, não houve recursão"
   ]
  },
  {
   "cell_type": "markdown",
   "id": "73be8a99",
   "metadata": {},
   "source": [
    "<hr style=\"height:0px;border:none;border-top:1px solid #c0c0c0;\">\n",
    "\n",
    "- Valores e tipos de dados de uma linha de exemplo."
   ]
  },
  {
   "cell_type": "code",
   "execution_count": 34,
   "id": "033492b0",
   "metadata": {
    "scrolled": true
   },
   "outputs": [
    {
     "data": {
      "text/html": [
       "<style type=\"text/css\">\n",
       "#T_92d15_ th.row1 {\n",
       "  border-top: 1px solid black;\n",
       "}\n",
       "#T_92d15_  td.row1 {\n",
       "  border-top: 1px solid black;\n",
       "}\n",
       "#T_92d15_row0_col0, #T_92d15_row0_col1, #T_92d15_row0_col2, #T_92d15_row2_col0, #T_92d15_row2_col1, #T_92d15_row2_col2 {\n",
       "  background-color: #ff9999;\n",
       "}\n",
       "#T_92d15_row1_col0, #T_92d15_row1_col1, #T_92d15_row1_col2 {\n",
       "  background-color: #ffcc99;\n",
       "}\n",
       "#T_92d15_row3_col0, #T_92d15_row3_col1, #T_92d15_row3_col2, #T_92d15_row4_col0, #T_92d15_row4_col1, #T_92d15_row4_col2 {\n",
       "  background-color: #ffff99;\n",
       "}\n",
       "</style>\n",
       "<table id=\"T_92d15_\">\n",
       "  <thead>\n",
       "    <tr>\n",
       "      <th class=\"blank\" >&nbsp;</th>\n",
       "      <th class=\"blank\" >&nbsp;</th>\n",
       "      <th class=\"blank level0\" >&nbsp;</th>\n",
       "      <th class=\"col_heading level0 col0\" >valor_exemplo</th>\n",
       "      <th class=\"col_heading level0 col1\" >dtype_coluna</th>\n",
       "      <th class=\"col_heading level0 col2\" >classe_valor</th>\n",
       "    </tr>\n",
       "    <tr>\n",
       "      <th class=\"index_name level0\" >origem</th>\n",
       "      <th class=\"index_name level1\" >i</th>\n",
       "      <th class=\"index_name level2\" >nome_coluna</th>\n",
       "      <th class=\"blank col0\" >&nbsp;</th>\n",
       "      <th class=\"blank col1\" >&nbsp;</th>\n",
       "      <th class=\"blank col2\" >&nbsp;</th>\n",
       "    </tr>\n",
       "  </thead>\n",
       "  <tbody>\n",
       "    <tr>\n",
       "      <th id=\"T_92d15_level0_row0\" class=\"row_heading level0 row0\" >índice</th>\n",
       "      <th id=\"T_92d15_level1_row0\" class=\"row_heading level1 row0\" >0</th>\n",
       "      <th id=\"T_92d15_level2_row0\" class=\"row_heading level2 row0\" >category_id</th>\n",
       "      <td id=\"T_92d15_row0_col0\" class=\"data row0 col0\" >149</td>\n",
       "      <td id=\"T_92d15_row0_col1\" class=\"data row0 col1\" >int64</td>\n",
       "      <td id=\"T_92d15_row0_col2\" class=\"data row0 col2\" >int64</td>\n",
       "    </tr>\n",
       "    <tr>\n",
       "      <th id=\"T_92d15_level0_row1\" class=\"row_heading level0 row1\" rowspan=\"4\">dados</th>\n",
       "      <th id=\"T_92d15_level1_row1\" class=\"row_heading level1 row1\" >0</th>\n",
       "      <th id=\"T_92d15_level2_row1\" class=\"row_heading level2 row1\" >category_name</th>\n",
       "      <td id=\"T_92d15_row1_col0\" class=\"data row1 col0\" >Disney's Mickey Mouse</td>\n",
       "      <td id=\"T_92d15_row1_col1\" class=\"data row1 col1\" >object</td>\n",
       "      <td id=\"T_92d15_row1_col2\" class=\"data row1 col2\" >str</td>\n",
       "    </tr>\n",
       "    <tr>\n",
       "      <th id=\"T_92d15_level1_row2\" class=\"row_heading level1 row2\" >1</th>\n",
       "      <th id=\"T_92d15_level2_row2\" class=\"row_heading level2 row2\" >parent_id</th>\n",
       "      <td id=\"T_92d15_row2_col0\" class=\"data row2 col0\" >878</td>\n",
       "      <td id=\"T_92d15_row2_col1\" class=\"data row2 col1\" >int64</td>\n",
       "      <td id=\"T_92d15_row2_col2\" class=\"data row2 col2\" >int64</td>\n",
       "    </tr>\n",
       "    <tr>\n",
       "      <th id=\"T_92d15_level1_row3\" class=\"row_heading level1 row3\" >2</th>\n",
       "      <th id=\"T_92d15_level2_row3\" class=\"row_heading level2 row3\" >parents_ids</th>\n",
       "      <td id=\"T_92d15_row3_col0\" class=\"data row3 col0\" >(878,)</td>\n",
       "      <td id=\"T_92d15_row3_col1\" class=\"data row3 col1\" >object</td>\n",
       "      <td id=\"T_92d15_row3_col2\" class=\"data row3 col2\" >tuple</td>\n",
       "    </tr>\n",
       "    <tr>\n",
       "      <th id=\"T_92d15_level1_row4\" class=\"row_heading level1 row4\" >3</th>\n",
       "      <th id=\"T_92d15_level2_row4\" class=\"row_heading level2 row4\" >parents_names</th>\n",
       "      <td id=\"T_92d15_row4_col0\" class=\"data row4 col0\" >('Disney',)</td>\n",
       "      <td id=\"T_92d15_row4_col1\" class=\"data row4 col1\" >object</td>\n",
       "      <td id=\"T_92d15_row4_col2\" class=\"data row4 col2\" >tuple</td>\n",
       "    </tr>\n",
       "  </tbody>\n",
       "</table>\n"
      ],
      "text/plain": [
       "<pandas.io.formats.style.Styler at 0x29dff2a0cd0>"
      ]
     },
     "execution_count": 34,
     "metadata": {},
     "output_type": "execute_result"
    }
   ],
   "source": [
    "# detalhamento da primeira linha com categoria-pai\n",
    "ex_linha(df_lista_categs, loc=prim_true(df_lista_categs.parent_id > 0))"
   ]
  },
  {
   "cell_type": "code",
   "execution_count": 35,
   "id": "1a4a97b0",
   "metadata": {
    "scrolled": true
   },
   "outputs": [
    {
     "data": {
      "text/html": [
       "<style type=\"text/css\">\n",
       "#T_a7227_ th.row1 {\n",
       "  border-top: 1px solid black;\n",
       "}\n",
       "#T_a7227_  td.row1 {\n",
       "  border-top: 1px solid black;\n",
       "}\n",
       "#T_a7227_row0_col0, #T_a7227_row0_col1, #T_a7227_row0_col2, #T_a7227_row2_col0, #T_a7227_row2_col1, #T_a7227_row2_col2 {\n",
       "  background-color: #ff9999;\n",
       "}\n",
       "#T_a7227_row1_col0, #T_a7227_row1_col1, #T_a7227_row1_col2 {\n",
       "  background-color: #ffcc99;\n",
       "}\n",
       "#T_a7227_row3_col0, #T_a7227_row3_col1, #T_a7227_row3_col2, #T_a7227_row4_col0, #T_a7227_row4_col1, #T_a7227_row4_col2 {\n",
       "  background-color: #99ff99;\n",
       "}\n",
       "</style>\n",
       "<table id=\"T_a7227_\">\n",
       "  <thead>\n",
       "    <tr>\n",
       "      <th class=\"blank\" >&nbsp;</th>\n",
       "      <th class=\"blank\" >&nbsp;</th>\n",
       "      <th class=\"blank level0\" >&nbsp;</th>\n",
       "      <th class=\"col_heading level0 col0\" >valor_exemplo</th>\n",
       "      <th class=\"col_heading level0 col1\" >dtype_coluna</th>\n",
       "      <th class=\"col_heading level0 col2\" >classe_valor</th>\n",
       "    </tr>\n",
       "    <tr>\n",
       "      <th class=\"index_name level0\" >origem</th>\n",
       "      <th class=\"index_name level1\" >i</th>\n",
       "      <th class=\"index_name level2\" >nome_coluna</th>\n",
       "      <th class=\"blank col0\" >&nbsp;</th>\n",
       "      <th class=\"blank col1\" >&nbsp;</th>\n",
       "      <th class=\"blank col2\" >&nbsp;</th>\n",
       "    </tr>\n",
       "  </thead>\n",
       "  <tbody>\n",
       "    <tr>\n",
       "      <th id=\"T_a7227_level0_row0\" class=\"row_heading level0 row0\" >índice</th>\n",
       "      <th id=\"T_a7227_level1_row0\" class=\"row_heading level1 row0\" >0</th>\n",
       "      <th id=\"T_a7227_level2_row0\" class=\"row_heading level2 row0\" >category_id</th>\n",
       "      <td id=\"T_a7227_row0_col0\" class=\"data row0 col0\" >1163</td>\n",
       "      <td id=\"T_a7227_row0_col1\" class=\"data row0 col1\" >int64</td>\n",
       "      <td id=\"T_a7227_row0_col2\" class=\"data row0 col2\" >int64</td>\n",
       "    </tr>\n",
       "    <tr>\n",
       "      <th id=\"T_a7227_level0_row1\" class=\"row_heading level0 row1\" rowspan=\"4\">dados</th>\n",
       "      <th id=\"T_a7227_level1_row1\" class=\"row_heading level1 row1\" >0</th>\n",
       "      <th id=\"T_a7227_level2_row1\" class=\"row_heading level2 row1\" >category_name</th>\n",
       "      <td id=\"T_a7227_row1_col0\" class=\"data row1 col0\" >Queer Eye</td>\n",
       "      <td id=\"T_a7227_row1_col1\" class=\"data row1 col1\" >object</td>\n",
       "      <td id=\"T_a7227_row1_col2\" class=\"data row1 col2\" >str</td>\n",
       "    </tr>\n",
       "    <tr>\n",
       "      <th id=\"T_a7227_level1_row2\" class=\"row_heading level1 row2\" >1</th>\n",
       "      <th id=\"T_a7227_level2_row2\" class=\"row_heading level2 row2\" >parent_id</th>\n",
       "      <td id=\"T_a7227_row2_col0\" class=\"data row2 col0\" >0</td>\n",
       "      <td id=\"T_a7227_row2_col1\" class=\"data row2 col1\" >int64</td>\n",
       "      <td id=\"T_a7227_row2_col2\" class=\"data row2 col2\" >int64</td>\n",
       "    </tr>\n",
       "    <tr>\n",
       "      <th id=\"T_a7227_level1_row3\" class=\"row_heading level1 row3\" >2</th>\n",
       "      <th id=\"T_a7227_level2_row3\" class=\"row_heading level2 row3\" >parents_ids</th>\n",
       "      <td id=\"T_a7227_row3_col0\" class=\"data row3 col0\" >nan</td>\n",
       "      <td id=\"T_a7227_row3_col1\" class=\"data row3 col1\" >object</td>\n",
       "      <td id=\"T_a7227_row3_col2\" class=\"data row3 col2\" >float</td>\n",
       "    </tr>\n",
       "    <tr>\n",
       "      <th id=\"T_a7227_level1_row4\" class=\"row_heading level1 row4\" >3</th>\n",
       "      <th id=\"T_a7227_level2_row4\" class=\"row_heading level2 row4\" >parents_names</th>\n",
       "      <td id=\"T_a7227_row4_col0\" class=\"data row4 col0\" >nan</td>\n",
       "      <td id=\"T_a7227_row4_col1\" class=\"data row4 col1\" >object</td>\n",
       "      <td id=\"T_a7227_row4_col2\" class=\"data row4 col2\" >float</td>\n",
       "    </tr>\n",
       "  </tbody>\n",
       "</table>\n"
      ],
      "text/plain": [
       "<pandas.io.formats.style.Styler at 0x29dff341430>"
      ]
     },
     "execution_count": 35,
     "metadata": {},
     "output_type": "execute_result"
    }
   ],
   "source": [
    "# detalhamento da última linha sem categoria-pai\n",
    "ex_linha(df_lista_categs, loc=ulti_true(df_lista_categs.isna()))"
   ]
  },
  {
   "cell_type": "markdown",
   "id": "0a4c916a",
   "metadata": {},
   "source": [
    "<hr style=\"height:0px;border:none;border-top:1px solid #c0c0c0;\">\n",
    "\n",
    "- Resumos estatísticos."
   ]
  },
  {
   "cell_type": "code",
   "execution_count": 60,
   "id": "1bdc7e70",
   "metadata": {},
   "outputs": [
    {
     "data": {
      "text/html": [
       "<style type=\"text/css\">\n",
       "#T_b3f1e_ th.row1 {\n",
       "  border-top: 1px solid black;\n",
       "}\n",
       "#T_b3f1e_  td.row1 {\n",
       "  border-top: 1px solid black;\n",
       "}\n",
       "</style>\n",
       "<table id=\"T_b3f1e_\">\n",
       "  <thead>\n",
       "    <tr>\n",
       "      <th class=\"blank\" >&nbsp;</th>\n",
       "      <th class=\"blank\" >&nbsp;</th>\n",
       "      <th class=\"index_name level0\" >estatística</th>\n",
       "      <th class=\"col_heading level0 col0\" >Tamanho</th>\n",
       "      <th class=\"col_heading level0 col1\" >Qtd. distintos</th>\n",
       "      <th class=\"col_heading level0 col2\" >Distintos</th>\n",
       "      <th class=\"col_heading level0 col3\" >F. não nulos</th>\n",
       "      <th class=\"col_heading level0 col4\" >P. não nulos</th>\n",
       "      <th class=\"col_heading level0 col5\" >F. nulos</th>\n",
       "      <th class=\"col_heading level0 col6\" >P. nulos</th>\n",
       "      <th class=\"col_heading level0 col7\" >Qtd. modas</th>\n",
       "      <th class=\"col_heading level0 col8\" >F. moda</th>\n",
       "      <th class=\"col_heading level0 col9\" >P. moda</th>\n",
       "      <th class=\"col_heading level0 col10\" >Moda</th>\n",
       "    </tr>\n",
       "    <tr>\n",
       "      <th class=\"index_name level0\" >origem</th>\n",
       "      <th class=\"index_name level1\" >i</th>\n",
       "      <th class=\"index_name level2\" >coluna</th>\n",
       "      <th class=\"blank col0\" >&nbsp;</th>\n",
       "      <th class=\"blank col1\" >&nbsp;</th>\n",
       "      <th class=\"blank col2\" >&nbsp;</th>\n",
       "      <th class=\"blank col3\" >&nbsp;</th>\n",
       "      <th class=\"blank col4\" >&nbsp;</th>\n",
       "      <th class=\"blank col5\" >&nbsp;</th>\n",
       "      <th class=\"blank col6\" >&nbsp;</th>\n",
       "      <th class=\"blank col7\" >&nbsp;</th>\n",
       "      <th class=\"blank col8\" >&nbsp;</th>\n",
       "      <th class=\"blank col9\" >&nbsp;</th>\n",
       "      <th class=\"blank col10\" >&nbsp;</th>\n",
       "    </tr>\n",
       "  </thead>\n",
       "  <tbody>\n",
       "    <tr>\n",
       "      <th id=\"T_b3f1e_level0_row0\" class=\"row_heading level0 row0\" >índice</th>\n",
       "      <th id=\"T_b3f1e_level1_row0\" class=\"row_heading level1 row0\" >0</th>\n",
       "      <th id=\"T_b3f1e_level2_row0\" class=\"row_heading level2 row0\" >category_id</th>\n",
       "      <td id=\"T_b3f1e_row0_col0\" class=\"data row0 col0\" >520</td>\n",
       "      <td id=\"T_b3f1e_row0_col1\" class=\"data row0 col1\" >520</td>\n",
       "      <td id=\"T_b3f1e_row0_col2\" class=\"data row0 col2\" >+++</td>\n",
       "      <td id=\"T_b3f1e_row0_col3\" class=\"data row0 col3\" >520</td>\n",
       "      <td id=\"T_b3f1e_row0_col4\" class=\"data row0 col4\" >100.00%</td>\n",
       "      <td id=\"T_b3f1e_row0_col5\" class=\"data row0 col5\" >0</td>\n",
       "      <td id=\"T_b3f1e_row0_col6\" class=\"data row0 col6\" >0.00%</td>\n",
       "      <td id=\"T_b3f1e_row0_col7\" class=\"data row0 col7\" >520</td>\n",
       "      <td id=\"T_b3f1e_row0_col8\" class=\"data row0 col8\" >1</td>\n",
       "      <td id=\"T_b3f1e_row0_col9\" class=\"data row0 col9\" >0.19%</td>\n",
       "      <td id=\"T_b3f1e_row0_col10\" class=\"data row0 col10\" >+++</td>\n",
       "    </tr>\n",
       "    <tr>\n",
       "      <th id=\"T_b3f1e_level0_row1\" class=\"row_heading level0 row1\" rowspan=\"4\">dados</th>\n",
       "      <th id=\"T_b3f1e_level1_row1\" class=\"row_heading level1 row1\" >0</th>\n",
       "      <th id=\"T_b3f1e_level2_row1\" class=\"row_heading level2 row1\" >category_name</th>\n",
       "      <td id=\"T_b3f1e_row1_col0\" class=\"data row1 col0\" >520</td>\n",
       "      <td id=\"T_b3f1e_row1_col1\" class=\"data row1 col1\" >520</td>\n",
       "      <td id=\"T_b3f1e_row1_col2\" class=\"data row1 col2\" >+++</td>\n",
       "      <td id=\"T_b3f1e_row1_col3\" class=\"data row1 col3\" >520</td>\n",
       "      <td id=\"T_b3f1e_row1_col4\" class=\"data row1 col4\" >100.00%</td>\n",
       "      <td id=\"T_b3f1e_row1_col5\" class=\"data row1 col5\" >0</td>\n",
       "      <td id=\"T_b3f1e_row1_col6\" class=\"data row1 col6\" >0.00%</td>\n",
       "      <td id=\"T_b3f1e_row1_col7\" class=\"data row1 col7\" >520</td>\n",
       "      <td id=\"T_b3f1e_row1_col8\" class=\"data row1 col8\" >1</td>\n",
       "      <td id=\"T_b3f1e_row1_col9\" class=\"data row1 col9\" >0.19%</td>\n",
       "      <td id=\"T_b3f1e_row1_col10\" class=\"data row1 col10\" >+++</td>\n",
       "    </tr>\n",
       "    <tr>\n",
       "      <th id=\"T_b3f1e_level1_row2\" class=\"row_heading level1 row2\" >1</th>\n",
       "      <th id=\"T_b3f1e_level2_row2\" class=\"row_heading level2 row2\" >parent_id</th>\n",
       "      <td id=\"T_b3f1e_row2_col0\" class=\"data row2 col0\" >520</td>\n",
       "      <td id=\"T_b3f1e_row2_col1\" class=\"data row2 col1\" >7</td>\n",
       "      <td id=\"T_b3f1e_row2_col2\" class=\"data row2 col2\" >+++</td>\n",
       "      <td id=\"T_b3f1e_row2_col3\" class=\"data row2 col3\" >520</td>\n",
       "      <td id=\"T_b3f1e_row2_col4\" class=\"data row2 col4\" >100.00%</td>\n",
       "      <td id=\"T_b3f1e_row2_col5\" class=\"data row2 col5\" >0</td>\n",
       "      <td id=\"T_b3f1e_row2_col6\" class=\"data row2 col6\" >0.00%</td>\n",
       "      <td id=\"T_b3f1e_row2_col7\" class=\"data row2 col7\" >1</td>\n",
       "      <td id=\"T_b3f1e_row2_col8\" class=\"data row2 col8\" >513</td>\n",
       "      <td id=\"T_b3f1e_row2_col9\" class=\"data row2 col9\" >98.65%</td>\n",
       "      <td id=\"T_b3f1e_row2_col10\" class=\"data row2 col10\" >0</td>\n",
       "    </tr>\n",
       "    <tr>\n",
       "      <th id=\"T_b3f1e_level1_row3\" class=\"row_heading level1 row3\" >2</th>\n",
       "      <th id=\"T_b3f1e_level2_row3\" class=\"row_heading level2 row3\" >parents_ids</th>\n",
       "      <td id=\"T_b3f1e_row3_col0\" class=\"data row3 col0\" >520</td>\n",
       "      <td id=\"T_b3f1e_row3_col1\" class=\"data row3 col1\" >6</td>\n",
       "      <td id=\"T_b3f1e_row3_col2\" class=\"data row3 col2\" >+++</td>\n",
       "      <td id=\"T_b3f1e_row3_col3\" class=\"data row3 col3\" >7</td>\n",
       "      <td id=\"T_b3f1e_row3_col4\" class=\"data row3 col4\" >1.35%</td>\n",
       "      <td id=\"T_b3f1e_row3_col5\" class=\"data row3 col5\" >513</td>\n",
       "      <td id=\"T_b3f1e_row3_col6\" class=\"data row3 col6\" >98.65%</td>\n",
       "      <td id=\"T_b3f1e_row3_col7\" class=\"data row3 col7\" >1</td>\n",
       "      <td id=\"T_b3f1e_row3_col8\" class=\"data row3 col8\" >2</td>\n",
       "      <td id=\"T_b3f1e_row3_col9\" class=\"data row3 col9\" >28.57%</td>\n",
       "      <td id=\"T_b3f1e_row3_col10\" class=\"data row3 col10\" >(878,)</td>\n",
       "    </tr>\n",
       "    <tr>\n",
       "      <th id=\"T_b3f1e_level1_row4\" class=\"row_heading level1 row4\" >3</th>\n",
       "      <th id=\"T_b3f1e_level2_row4\" class=\"row_heading level2 row4\" >parents_names</th>\n",
       "      <td id=\"T_b3f1e_row4_col0\" class=\"data row4 col0\" >520</td>\n",
       "      <td id=\"T_b3f1e_row4_col1\" class=\"data row4 col1\" >6</td>\n",
       "      <td id=\"T_b3f1e_row4_col2\" class=\"data row4 col2\" >+++</td>\n",
       "      <td id=\"T_b3f1e_row4_col3\" class=\"data row4 col3\" >7</td>\n",
       "      <td id=\"T_b3f1e_row4_col4\" class=\"data row4 col4\" >1.35%</td>\n",
       "      <td id=\"T_b3f1e_row4_col5\" class=\"data row4 col5\" >513</td>\n",
       "      <td id=\"T_b3f1e_row4_col6\" class=\"data row4 col6\" >98.65%</td>\n",
       "      <td id=\"T_b3f1e_row4_col7\" class=\"data row4 col7\" >1</td>\n",
       "      <td id=\"T_b3f1e_row4_col8\" class=\"data row4 col8\" >2</td>\n",
       "      <td id=\"T_b3f1e_row4_col9\" class=\"data row4 col9\" >28.57%</td>\n",
       "      <td id=\"T_b3f1e_row4_col10\" class=\"data row4 col10\" >('Disney',)</td>\n",
       "    </tr>\n",
       "  </tbody>\n",
       "</table>\n"
      ],
      "text/plain": [
       "<pandas.io.formats.style.Styler at 0x29d814c6700>"
      ]
     },
     "metadata": {},
     "output_type": "display_data"
    },
    {
     "data": {
      "text/html": [
       "<div>\n",
       "<style scoped>\n",
       "    .dataframe tbody tr th:only-of-type {\n",
       "        vertical-align: middle;\n",
       "    }\n",
       "\n",
       "    .dataframe tbody tr th {\n",
       "        vertical-align: top;\n",
       "    }\n",
       "\n",
       "    .dataframe thead th {\n",
       "        text-align: right;\n",
       "    }\n",
       "</style>\n",
       "<table border=\"1\" class=\"dataframe\">\n",
       "  <thead>\n",
       "    <tr style=\"text-align: right;\">\n",
       "      <th></th>\n",
       "      <th>category_id</th>\n",
       "      <th>parent_id</th>\n",
       "    </tr>\n",
       "  </thead>\n",
       "  <tbody>\n",
       "    <tr>\n",
       "      <th>count</th>\n",
       "      <td>520.000000</td>\n",
       "      <td>520.000000</td>\n",
       "    </tr>\n",
       "    <tr>\n",
       "      <th>mean</th>\n",
       "      <td>540.178846</td>\n",
       "      <td>7.544231</td>\n",
       "    </tr>\n",
       "    <tr>\n",
       "      <th>std</th>\n",
       "      <td>347.751673</td>\n",
       "      <td>74.514368</td>\n",
       "    </tr>\n",
       "    <tr>\n",
       "      <th>min</th>\n",
       "      <td>1.000000</td>\n",
       "      <td>0.000000</td>\n",
       "    </tr>\n",
       "    <tr>\n",
       "      <th>25%</th>\n",
       "      <td>226.750000</td>\n",
       "      <td>0.000000</td>\n",
       "    </tr>\n",
       "    <tr>\n",
       "      <th>50%</th>\n",
       "      <td>528.500000</td>\n",
       "      <td>0.000000</td>\n",
       "    </tr>\n",
       "    <tr>\n",
       "      <th>75%</th>\n",
       "      <td>823.000000</td>\n",
       "      <td>0.000000</td>\n",
       "    </tr>\n",
       "    <tr>\n",
       "      <th>max</th>\n",
       "      <td>1163.000000</td>\n",
       "      <td>976.000000</td>\n",
       "    </tr>\n",
       "  </tbody>\n",
       "</table>\n",
       "</div>"
      ],
      "text/plain": [
       "       category_id   parent_id\n",
       "count   520.000000  520.000000\n",
       "mean    540.178846    7.544231\n",
       "std     347.751673   74.514368\n",
       "min       1.000000    0.000000\n",
       "25%     226.750000    0.000000\n",
       "50%     528.500000    0.000000\n",
       "75%     823.000000    0.000000\n",
       "max    1163.000000  976.000000"
      ]
     },
     "metadata": {},
     "output_type": "display_data"
    }
   ],
   "source": [
    "d(resu_cat(df_lista_categs))\n",
    "d(df_lista_categs.reset_index().describe())"
   ]
  },
  {
   "cell_type": "markdown",
   "id": "e4fddba6",
   "metadata": {},
   "source": [
    "<hr style=\"height:0px;border:none;border-top:1px solid #c0c0c0;\">\n",
    "\n",
    "- Resumo técnico."
   ]
  },
  {
   "cell_type": "code",
   "execution_count": 37,
   "id": "70cec529",
   "metadata": {},
   "outputs": [
    {
     "name": "stdout",
     "output_type": "stream",
     "text": [
      "<class 'pandas.core.frame.DataFrame'>\n",
      "Int64Index: 520 entries, 1 to 1163\n",
      "Data columns (total 4 columns):\n",
      " #   Column         Non-Null Count  Dtype \n",
      "---  ------         --------------  ----- \n",
      " 0   category_name  520 non-null    object\n",
      " 1   parent_id      520 non-null    int64 \n",
      " 2   parents_ids    7 non-null      object\n",
      " 3   parents_names  7 non-null      object\n",
      "dtypes: int64(1), object(3)\n",
      "memory usage: 36.5+ KB\n"
     ]
    }
   ],
   "source": [
    "df_lista_categs.info()"
   ]
  },
  {
   "cell_type": "markdown",
   "id": "a3671346",
   "metadata": {},
   "source": [
    "<hr style=\"height:0px;border:none;border-top:1px solid #c0c0c0;\">\n",
    "\n",
    "- Visualização do dataframe com D-Tale."
   ]
  },
  {
   "cell_type": "code",
   "execution_count": 38,
   "id": "599cee06",
   "metadata": {},
   "outputs": [],
   "source": [
    "# dtl_lista_categs = dtale.show(df_lista_categs, name='lista categs', open_browser=True)"
   ]
  },
  {
   "cell_type": "markdown",
   "id": "d4f09e33",
   "metadata": {},
   "source": [
    "<img style=\"float:left;\" src=\"data:image/png;base64, \n",
    "iVBORw0KGgoAAAANSUhEUgAAAnoAAABzCAIAAACAWDi6AAA2IUlEQVR4nO3deUCM+f8A8Pc0zUw1\n",
    "MTXTqTRCRReTKEeRimSltWLli7WtI1eIZF3rWJI2tfILuy2bVUtKlFwp0nZYiu2gkqRSOidmqplp\n",
    "mt8fDyPNRKVpOj6vP2ieeY735/N8nuc9z+e5cDk5OYs9j5HfZgGCIAiCIJIhi/03bNgwqYaBIAiC\n",
    "IP3Zu3Qb8Osx6cbRe6hQlaUdAoIgCNLfyEg7AARBEATp/1C6RRAEQRCJ6zvpls/MSM5iSzsKpDtV\n",
    "RAdGlUs7CIniZgYEZ0o7CARBeoPekm6ZyVeSaz41QmX88cg6NXLH5lZ560pGT2fm4gvf29gsCM7h\n",
    "d2KazACbwAcSi+iL1V5eZ7M2+uN8WBCyYOaBe9zyqHXrvjhTlqfEF2B/dMfcuseDwDZFzgyweRdb\n",
    "RfS6trXRivhvc5Iuc7HZBNoEtp93P/1tD2DlnPP+znmmjY2Nzcw5rltDclhdms2nqwhBBrbuS7f8\n",
    "ouzsrqa4imtHgs7cy2CK/ZJXUZRw6vu1p16PG6PekZnx8sMC74Mir4uxdFFW3NlaIyNiXFLuJ0dr\n",
    "zAxc8GHHytiY6GEu8dC6jGrlyMiNvvey1aCs+Oh6q6nmRM15QUHzNLtrQd07N0nRcA467tzVKBke\n",
    "iR6Mzk5UEb1uQ09kL+69gM2XNd3/uJGYmJh4IybsiJuRYrsjl1/+6LfRRx+/qIoQpJ+T7fQUfF5p\n",
    "YVZ+9sOi4tKMZ5Xvh3LqKpja3wX7Gnfw+PMdHvt1aVFWwpkz+TyAE6u+i6KSZQAA1MbYmqkT1UaN\n",
    "rov1D015zQOAMa7Ttd5PVnFtr+dv2UQrD79NU2gfxcZmP430u5hfAzu84nUJvHf5n6xrYTlquLG1\n",
    "xQglAr7TJe6IzNvR3Gn73IgHvGPvuZlYEQEAgJUXHXAw+PZLLpFitGC/j5tW0uZvjmQCRNtEE12C\n",
    "bqwxygywSZqS6GEOwC+/fWh7wL1iFpdIt/XYu92RjgeoiF63v+Zr2+KQk/fKQdFizSmfuZoArIK/\n",
    "D3iHptc2Eum27js2Ouu1v2f8UlS7r22PhKQUL9ChC4sJc/2t5KE8at3PsCNoniZU3TuyzTe+iAUU\n",
    "I+ft+9wtqJnHZoZonXmXPh8E2oTSI391pgKrICrg59B7xfWgaLLA5+BHO/T3c6sItNkc/WGw1c6Y\n",
    "fbbyrMxQ791/57C4RLqt16HttpqSWYOfVxG9bj/sOO6syS+/fWi77+1i0LDymjfowD29yF+dqQAA\n",
    "NblRuz0/WllCmYE2SdaJHgwAVlaI964LOfWgt9TD4kEg64cbHgwA4JanBwfvvVDQSKS7+AStYShm\n",
    "Bc/ccIEL4GoTyPCM9P+KKrmS1VRVcM3tLUSX8DLuwK7ADw3YRDHn/2aui+ACuNocY2yN9Kf//dFH\n",
    "R+77KhLfdMWWvQfbM4JIVafSLa8yO6uSz2U+uR0a/ZRMI9RVMFsfQxadcXe9ZffDtmXTtT6TdNkv\n",
    "7105F52cX1r5pvUMeOzK12yywTw3V8sxo3T5DwO3bxP2MGuNHqWE7Wf5pTF+v2U3ATSlXXvwesoU\n",
    "yH+S8fBBRnr6f2Wt51ZTWvThw+sYJrjpm9WxyWqDCZ0pcsc03rt6Dax2MhhKjsQNl+JXWTlSARoz\n",
    "Q7adHeQVnjiJChVx3tuiC/78n384d92iYjeRA52c39f9H37NqThbTSi/7btu3THNyI0MIgDkRmd8\n",
    "+2fYjX3cvJCVqwNvT/Ox5cYH/k3zCk+0UCy/7Xsks1aiuyeixVTbA7/E5XzrbvSumETHo0atx8j8\n",
    "+0DxjFM3vqWz8v7afTmHa2EFfO5H8+ADBwCqks4/m3jowk5NImQem+N9zjJm1UfzAQAAhkdiogcA\n",
    "AOScdA1WdbdVhPIob+9M61MxQXR8bfqxFet+14gUM2GPKo7Y7lvpeCp+AR2KL2xaCXw9DvaF6Mqi\n",
    "iEzceC9gS5zevsggC0VWeuCyUK71u7MPcXFFZ4Ji3In1tw8s2n12Woy7ifuNI1yb0/QwyR8vao4y\n",
    "oh7z3a3jtWQGQ49KfB9qZuCGEKwBc4subF574PZfPrZrbvhzbUJ0wt79nGrzsaLVTEVrgyiu7FU9\n",
    "2Z4RRJo6lW4JasZmagAwxpIxLSP9zn9FbB4rLym58EMfMq8sPnjD3evz9u1ZbNBuyi27dnD7b/lN\n",
    "InM3d91ib6CsM1xNDoiQFbzJN/mN8Ettawtt7C92ekQ4lkhpdoumqAMZtDQV08prifqWDpq8rJi0\n",
    "MgAAAlmNSh6kP8VSvQHUGDrqyjrD1chEMlkCuRag9s6l2+DoP4kIYO1IuRCfXus4iwpPk+JUF56Z\n",
    "RAUA0HD0+fMTM8iMj6It/AM7btO0Xb7k0qKr6asYVgBAcXS0ogIA0cCMAZlvGwHwAI0cFh8Ar2m7\n",
    "3V8SxWmNOOlr51+8k7LcjUyA++DuPa0lpwzbjsNq5HL5oGjwP3+v9mek6rjz/beMiXas0IJaaDdr\n",
    "sh4E/lzkFrRKE6A8/XaB4w9BdCIAUC1cFtLWJuWsMpJsvs0NdLUJbD3AaH3rT7WZKcV2ixfQ8QBA\n",
    "X7DYLjj0/TeiK0s03T7NuKez8IyFIgAoWixYOFLYV2zx9Sw6EQ9ANTQeySpu6PZSfZKh+59/6p8/\n",
    "GbzuZDFQjOxWebjP0lPMSYrWWRI5iQoARN0FS6YFX3rAsp3R4WQoWhvP2yl7D7ZnBJGizncmAwAA\n",
    "WcNs+rdm0JQV4n4NG6K/9NAPtKTgoGtFPF5RVFi6w97pNHFT8pj5xTxjxxWzDNTVNA2USv/08o1n\n",
    "AwBoOzjPMhtNBgDgv76+53DCm1ZT6c+aogMAAE1pv/96DzuGVZpuh3Vdk7Wslu61AoD80O+vAwAA\n",
    "wXxFgJedUg/1OpYnxWYqznVj4AHAyHqW4oWI+OJZC4hFBVwivUMzqCgu4BLpwmg16HoQX1MPAABa\n",
    "mm17+FSdd3hmb/9+pi+ezvjKzWOphWQ7V/FG1jNg8+1MdxO9e1dv633l1qZIjOX+Vru95zhyaUbW\n",
    "/1vl7mjQ7u64POWvkItxuc9ryuu5YOjBaW+8imjvX2Drb7ZUAICK4lxu9Gab6A9fO3Pbma7bGHq0\n",
    "PqDMDLAJ+ejr4uIsIArrHE/88I3oyhJR/nGrIH6YWpMqmpt7kKKOrdvPtm58bnF68M971wUoxrhV\n",
    "FUBW9DetfnkYjXwL0OF0K1Ib4svew+0ZQaSni+kWUxrz23UsKQ62cppqoKtk4F6a6hXBBMi6klw6\n",
    "fa62mGkISvqTnPQnAQAAvzTKD8u1QDB3ccJyLbCzQ7aHPPnoSie10cOxRz3lXziVjH2jNcvdXvfd\n",
    "13weu6a0KDs+NI75bkj2b2sW/B8PQMnYzlKHoMxwmWem9CUl/ZSX96JzgZW7ziZCOOhsXO4Cd109\n",
    "IrdjqUGDrkfkcoWXNFcUF4CGGQWgXvzomjN2npkB3NqcCz9tXsn1F9cr252MvlqiueLqPRezq+kM\n",
    "Ry+Rfk1FIzf/SDc+t/iO7+bVB0jRPq13sqzacgA6ANTe9P7ud0Uvv1NeWorEzECb0+0sjF8effCC\n",
    "0a4wxru9ugbdEByXJm616PZidRmdbgIFwpXF71z21/y4VXSwgfQcPJE+ycPNNtr7Yc7OKXow0jrs\n",
    "twXd1ZXdXtl7uD0jiLR8wZXJldeCI0uxP/UdXcyUAIBd9pKJDVGWe5ufcDH4kOdat4Uu38xz+Wae\n",
    "yzd7wtMzMh5kZD8pKmXyAID3IOIidtUrQXfON5ZKAADATjl18AYTAMgjrKbov+uQVlMhcyuLsm+f\n",
    "Cr76bv76Dk5mNADgVaZfCQ3ZvdHdc+/xa0XvczSviccDAFBXIxLUJjnNkVyuBciJPVtsvjUyUShy\n",
    "qzkr7k4OjLJ2rDp/IaUWAKDi9oFlR9K5AHgAqKllAauittWelmE3r+Z86O1yPgC//Pbps8VzZ1vI\n",
    "t7O8snt/Xcup5QORQtfTJrYzUrfSsXDUunf1WHzOjK/t2h6+sXKi/kov4wKeSNfTx/bLGjpGObfv\n",
    "FfMB+MVxse+uwn5b8ZJoNdtWR5EI3PKy4naWxMo85hk/7Rf3D/3Vmha2RvHn/iqoBwCozb1w5FyB\n",
    "tDMU1WKaUfy5C1gBL5yL79zUWKtIZwEAK/3C+WefHBkPxPoaFh/KK2q7Hu/ncTMDXFf+X3pxIwAA\n",
    "VNy+9YBoZaIHRtbOVedDbpcDAHDLb/9f4L0qLCpibT0L+OXlteI+foLYsvd8e0YQKeny0S0v/e8z\n",
    "+Vh603Fa5qhNAGA/ibiYjn2r8PyPHTuaP56C8Dw5/fW42WZaI9TJAACl1/9+1y2sZv+dkz4BAKDi\n",
    "2sH3fcUAlWVF784KZ4ds+C6EMkT17StsnoPtvpmK3RREUDO3MM5LTR9MgHfXSRG0zKdajDEx0NHW\n",
    "1tGWyIVRrfEz4y9zbXe2TkNUx6ULgrdcurd8p9vhJQEHF9ns4BIpRgv2+FgQAVStv7YKPjBnJpXh\n",
    "7u/vLJzG6IegNYe2r3Q8gF2ZHLSeIWbHgw1S1FB8+POygGIWl6hossBnTQ8cCtDtvmWEHMq02ucj\n",
    "EpUiVeNtyIY53rVckKfbbj9kSwGY4f6/O94r7YJBx3Gnix3cBBKA5rytjmu9bWy4RIrRghlUwAMJ\n",
    "oG1/clV8yOXyHHC1efcAbyOP8CDnufv2VezevCCExSUq6lpt3L9A6rtkzbk7vHK3r7QLBh1br6/s\n",
    "4I64kdqLUp7htt/Re9c3No1Eo2/dHQ1B5AZXEgh7U03tFvA3r3SMps/aGbTRQmKXEBEZ33pYHAte\n",
    "5+zN4gLI0y0W+++0VQRguB1eEnDwO5sDXJCnMlz27VMFAGDYLoBNK2depjt6BXlMUvzo4/D2lgAA\n",
    "7ZRdCu0ZQaQDh72A79a5g52brvLaDvff8gEACPpuv/7sqF6Z/H97g+IreQAA5MkrN08RPLqdll3H\n",
    "Uh4+apjOKBNdJWYpT3+amZow/RWGrfW6WAkAoD3nwKGlunX5KUmREZczKkVumCWQtcZMNFF/++/V\n",
    "dOw6Zf1vf/3JRbt1Is0/s2RHDBsAtOYe+nlp+1dpdQB6RQHScdw7B2bet0/06lpnd/Ff//uZePjU\n",
    "Aq3Pj9rvDOSyIwNUF49u86+H5b/7U3047/Yh9w9pkjDCacMyB1MamE6Y9dE0o1t/4KVfvYzdtKs0\n",
    "xcVJMy94w4GE9/f8EAarK+voWwwujUkpAgCwWHtk06h7+95fBqXr+sO8j3ItVF77MwY7Dh5nbVxy\n",
    "I+R2Xl5WKZtTx1O3mO7o5GClq9S1UiLIJ/HL42/do5ss6drUrMy4+CodNwneT9t7DeSyIwNWV9It\n",
    "j5mVnS/8VHo99OL7vwm6c9ZtcLHS/uzR5Zu0hLtYelY3m2qipKS0dLVd+s/xbAClqV5H1loq4aEy\n",
    "bntMCgAQ9A104XFE6ON3izBxtNJuel1UVFbXxK7MK+Fpj1POF+b+h+E/P2y1GGZyRF5yQpzD7Im6\n",
    "GhZWFuoS7llGBgRWeuC6Q3HF9VwAIpWxYN9XHbv+/J3i6K2bgx/UcgGIFLqV5yGr9k7S90MDuewI\n",
    "0pl0y2OX5sVHhF5JK2K27e8lKJlYTDIZN91uSscOJNmZSRkAAECevmKpmRI0Zf19Ip4NQBg932Ox\n",
    "JXYDD7Mauw6LOm4I83pC0vt7e3kZx91dj7/7QFRSGcSPZb79cA8vmUxmc0FrzESLMSYGI3UNNJSJ\n",
    "ZLKEniSFDEyKFh5noj26OjXd+UikczdG05cM5LIjSEfTLa/0Qdq9W0FRDz5OtHJKusZ2Tt/aMjTV\n",
    "yXIdXyg7Mxk7BtWeaW9CBuCVMRUsDHRfmny7wdX43d26vLoqNgAAQZDms71INL+rK2sO1Wksefb6\n",
    "dRMfAAjqZtOsGMYmBvrDtWkovyIIgiC9y+fSLZ9d+uJ5/uOsory0jFJtM/tRamq6DLms4JB7TP35\n",
    "vjtddbtwVRIv62HWuCkztUwmTTUbQQAAwggrp0YwcLYy+/BkDAIBy99Kg9hvK4EH8O4YWltR08TC\n",
    "QNtgmDaWU7NPfe+XzGOsPOQxRanzoSAIgiBIT/hcusWTtUeYaI8wAXB1ez+MnVw5fIy22ty5Xcm1\n",
    "APCmjug4f9GC4UpyH86lko2tzD4eS1tHF6AIDOwcywvPFAIQxq35ZUfblNqUVqS+KyBIW0nSN/wg\n",
    "CIIgyBfoyqVS5Cm2jFxFs06+/OcDJbsfFhEIn8uPanO+czizJ0PbaJr9rP9usZS0XSyUREYijHP4\n",
    "ioC6jhEEQZBerktPlarIBwtbtS4nOfzncy0AAJi4nVqhD0A2XvENXdHMXlvMRHiUaxEEQZA+oEv3\n",
    "3WpYOWh0dyBi0WatmQPAy3suZ22r1CNLRBAEQRAJ+KJXFPQAghwAGDg4SjsOBEEQBPkC79LtG2ad\n",
    "dOPoPVBVIAiCIN3uw9Ht8OHtPV+820RERACAi4uLpBeEqaqq6pkF9Ql37twBgGnTpkk5DgRBkIFE\n",
    "VVUV+6O3dyZ/IWE5ESFUJ4hY2M/TAdI8BlRhOwjViSS0Pur7gvfdIgiCIAjSMX376LawsNDT07O+\n",
    "vh4AdHR0AgIClJXR6/MQBEGQXqdvp1sAGDx48C+//DJixAhpB4IgCIIg7UKdyQiCIAgicX0+3TY2\n",
    "Nv7444+2trbbtm2rqan5/AQIgiAI0uM6nW7/+eef1atXNzY2SiKaLiASiTt37vzrr7+Ki4uTk5Ol\n",
    "HQ6CIAiCiNGVo9uTJ08qKCiMHTs2Ly+v2wPqFG1tbR8fH2Nj44aGhubmZukGgyAIgiDt6fqlUo8f\n",
    "Px41ahQAJCcnT548uftC6oSCggI/P7+SkhICgWBvb29vby+VMBAEQRDk07qebseMGXP+/HkDA4Nu\n",
    "jKazjI2Nz5w5I8UAEARBEKQjZKqrqzs7zapVqxoaGh49eiTdXIt0xLfRgDsI30ZLOw6kVxpQzWNA\n",
    "FbaDUJ1IQnu1KqOiotKpGU2ePPnEiRPy8vLdFVmfcP369e3btzc1NUk7ECguLp4/f/7Ro0fbDI+K\n",
    "inJ2di4sLJRKVBJSUlKyYsWKflYopCM6ssVlZmba29tHRUW1Gd7ntoWu7V44HM6uXbuWLVtWV/fR\n",
    "W1Xq6uqWLVsmuovoW3rPLrcb9fnHXPQANpt97dq1XvILg06nX7x4sePj/+0MfzsDAERESCgiCbpz\n",
    "5w56z4RECZtHr9LBLY7BYNy6davjs+3ThRVFIpH279//hUvvZ3XSS7RXqwM33QoEgpSUlODg4LKy\n",
    "MjKZvHDhwkWLFrFYrFOnTiUkJHA4HC0trc2bN48YMWLLli3Pnj0DgDlz5vj6+jIYjJycnMDAwIKC\n",
    "AjKZ7OzsvGTJEhKJVFNT4+vr++DBAyUlpWHDhhUWFmKPu2Iymdg8eTyevr7+unXrjIyMXrx4sXnz\n",
    "ZnV1dS6Xq6ioaGZmdvHiRT8/PwMDgxs3bvj6+h45csTMzEw0bGxCGxub9evXt1liT9dgV+Xk5AQF\n",
    "BeXn52MXuLm7u+Px+LNnz0ZHR7PZbBqN5ubm5uDgEBwcjL1C6ocffnBxcVmzZg2TyTx58mR8fDwA\n",
    "mJmZeXh4DBkypLm5OSwsLCwsjM/nm5mZZWdnu7m5zZs3j8PhCOeppaXl7u4+adIkLpe7b9++vLw8\n",
    "XV3dp0+frl279vjx466urosWLSotLfX09JwyZcr69etFY+ZwONiEI0eOfPjwoYKCgqenp7W1deul\n",
    "CCMXLkVDQ+PJkycMBsPR0fGPP/4oLy83Nzf38vKi0WjYhBcvXmzdKnp6TXQS1vZUVFQaGhrKy8sN\n",
    "DQ23bdumra0tXKEyMjLm5uZbtmyh0WgZGRlbt24dP358QUGBubn51q1b09PTjx079vr1axqNtmTJ\n",
    "ktmzZ/P5fNFaHTNmjOgWJzYebBEbNmyYO3dut28L7RVWuDkLdxFmZmZtCuvl5fX06VPRXcSxY8du\n",
    "3rxpamr68OFDAFixYoWNjc22bdtaF3bs2LHC/RIAaGpq/vLLL5qamqIRYm2yvLzc39+fQqFcv379\n",
    "xIkTLBaLwWBgz7WFVttaS0uLgoLCkSNHDA0Nu1wnWDHHjBlTWFjY0NAwefLkjRs3KikpSboBGBoa\n",
    "CrcyAJgxY8bWrVtlZcUkr/a2U7FrrfUqfv369cKFCxUUFEJDQwHA1dXV1dVVVlZW7D6n9dwAYPny\n",
    "5UuXLu1IBfb5x1x02ZMnT3x8fMzNzbFei+zs7Ldv33K53Ldv3548efLy5cs0Gu3EiRMCgcDX11dH\n",
    "R8fCwiImJobBYFRWVvr4+FAolJiYGD8/v9jY2KioKIFAcOnSpezsbH9//+DgYGH3Dp/P/+2331JS\n",
    "UgICAi5fvqysrLxv376SkhI+n9/S0lJaWrpx48bAwEAGg8Hlcp8+fSoQCJ48eaKurq6lpSU2bGzC\n",
    "5uZmgUBw8eLF3NzcgICA1ktso7edm6moqDh48KCiouLly5cDAgKKi4urqqr4fP7r16/3799//fr1\n",
    "cePGhYSElJSUrFmzxsnJiUKh/P7772vWrMFqMjU19dixY5cuXWppafHz82toaMjJyQkLC1u4cGFc\n",
    "XJympmZDQwO2oKioqIiIiG3btl2/ft3CwmL//v3//fefQCDg8/k1NTUmJiZXrlyZPHmytrZ2dnY2\n",
    "h8N59epVdXW1qamp2LCxCevq6mbMmHHlyhUTE5M//vijtrZWbOTCkadPn3727NnS0tLDhw+7u7sH\n",
    "BgZmZ2fHxcUJw9uxY0dcXJyBgYGPj09lZWXPrYb3OtU8sLbHZrN9fHxOnDhRUlJy5swZHo/HZDIN\n",
    "DAxiYmL8/f2zs7MvXryI1UBLS0tJSUlgYOD27dsLCwt9fHwsLS2vX7/u4eERHBycmpoqtlb5fH6b\n",
    "Le7T8fD5fElsC+0VVnQXwWQy2xS2pqZGdBcBAM3NzSwWy8DAIDY21snJ6ezZs3V1dW0Ky+FwYmJi\n",
    "sB+RiYmJYWFhYnMtvG+TWPFLSkpCQkIsLS3j4uImTpwoTLc3b958+fJlYGBgYmLi1atXRXNtF+qE\n",
    "z+efPXv2p59+Sk1Nxcol6QZQWloaGxtraWl569atxMTE7du3i8210P52+om1Vltbu2fPnu3bt587\n",
    "dy4+Pv7PP/9ctGjR+fPnCwoK2tvnFBQUXLt2bdGiRQkJCYmJiaK5tr1a/RB0RE/1Nj579oxKpVKp\n",
    "1J5ZXHsePnzY0NBgbW1NIpEmT54svJdJ2D8zbNiwu3fv1tTUtAn1yZMnpaWl8+fPV1RUpNPpenp6\n",
    "aWlpdnZ2WVlZ6urqdDpdSUmJwWDcvn0bAKqrqzMzM42MjHR1dUkk0tSpU1NTUzMyMoyNjQHAyMhI\n",
    "T08PAHR1dYcPH56bm2ttbZ2Xl2diYvLZc+oNDQ25ubmqqqpDhw5tvcReLi8v79WrVwsWLFBUVBw1\n",
    "atSvv/6KDd+xYwf2h4GBwc2bN1+/fq2jo9N6wjY1OWHChDNnzhQXF//33388Hm/MmDEEAsHa2jom\n",
    "JgYA2Gx2WlqalpaWiYkJVu2xsbFJSUnYxX0UCmXy5Mk4HG7QoEEMBuPOnTtMJvPRo0fq6urYvW3t\n",
    "UVdXNzIykpeXp9Fo2dnZdXV1I0aMEI1cTU0NAFRUVCZMmCAvL08ikbS0tIyMjPh8PpVKLS0tffPm\n",
    "TevwLC0tL1++/OTJE2zCXs7Y2FhTU5PH440aNSo3N7e2tla4+Whra1Op1KKiIuxXPwCMHz8e++F4\n",
    "//594eZmaGioqqqanJyM9d+I1mpndw6S2xZEC6uuri66i2hTWLG7CCcnJwBQUFAYP368rKyshoZG\n",
    "fX19bW1tm8KSSKSRI0emp6cvX7584sSJbm5u2tran42zqKiopqbG0NCQRCKNGzdO+KaW0aNHx8bG\n",
    "btq0ydTU9Pvvvzc0NMThcF9YJ+bm5oMHDzY0NNTQ0Hj8+DGbzZZ0A1BRUdHU1Lx9+/ajR4/mzJnj\n",
    "4uKioKDwiQjFbqftrTUTE5Nhw4YxmUwAYDAY6urqBgYGDQ0NlZWVVCpV7D5HQ0NDTU3tzJkzt27d\n",
    "WrRokb29PZFI7EjVSaEzOS8vj/aeFJNudXX1oEGDKBRK64ECgSAtLS0iIiI3N5fD4bT5FoOtp4CA\n",
    "gICAAGyIjo4Oi8ViMpmamppycnIAIDw2ZbFYDQ0NKioqJBIJALDy8vl87Ft1dXVsfEVFxbFjx6an\n",
    "pxcWFpaXlzs7O+Px+E/Hz+VyxS6xjd527harvSFDhrQeKBAIcnNzz58/n5GRgfUXicJqMiUlxcHB\n",
    "ofXA1uuRQqEMGjQIRCqHTCbLy8sLH4RCoVCEDW/8+PFRUVEFBQXPnz83MDD4dIMkEAhttqtPRC4n\n",
    "J0cmk7G/1dTU5OTkGhsbZWRk6uvr2Ww2k8l8+fLl119/3aZmelgXTt3Jycnh8XgejwcADQ0NLBZr\n",
    "0KBB0dHRN2/eLCkpaWlpaX00pqOjg+3fq6urW1paPD09hV9paWlhMxGt1c7q7LbQcaKFVVNTa28X\n",
    "ISys2F0El8uFDhQWh8MtWbKkpaUlIiLizp07WVlZvr6+w4cP/3ScrTcr4VYAAHZ2do2NjSEhIRkZ\n",
    "GTk5Ofv27ZswYULrCbtQJ8JWDQBMJpPL5eJwOIk2AAqFsmvXLl9f38ePH585c6agoGDnzp3YuhZL\n",
    "7Hba3lobPHgwgUAQhgQA2L63pqamvX3O6NGjd+/e7e/v//z5cz8/v+Li4lWrVrXeY3/+3K2Li8sn\n",
    "Ctwtamtrq6ursX9ramqkm3RVVFTevn0r7HXB3Lhx48iRI46Ojrt37z59+vTdu3dFJ6TRaACwcePG\n",
    "uXPnCge+fftWQUGhsrKyqalJTk4OO+8CAIqKigoKCtXV1RwOh0Qi1dbWwvvV2RoOh2MwGNevX79/\n",
    "/z6JROrIaTwikaikpCS6xF4Oq71Xr161Hvjff/9t27ZtzJgxv//++z///BMUFCQ6IVaTRkZGu3fv\n",
    "xn67YDIzM4Xrsb6+/u3btyBSOWw2u7GxUWwHFJ1O19DQuH///suXL5ctWybc8DqoI5GLIpFISkpK\n",
    "eDze399fSUmpU0uUuqamJuHvRQUFBRKJ5Ofnl5KSsmnTJgaDsXXrVrFTqaioyMjItLkiobuuO5Xc\n",
    "ttCmsIqKil3eRXQciURauXLlsmXLzp8/f/r06UePHn023bberIRbAQDIysp+/fXXc+bMiY+PP3r0\n",
    "6D///NMm3XZB65+VWOvtgQYwZMiQgIAA7ERednZ2WVlZp94C15G1Jqq9fQ4AGBkZ/f7770VFRXv3\n",
    "7k1PT1+0aFFH3v3ao+duqVSqvr6+np6evr4+lUqtrq7Oz8/Pz88vKCjA8lBPGjdunIKCQlJSEnbS\n",
    "dNWqVS9evCgoKJCTk5s5cyaRSBQebWAbc0NDA4fDaWxsHD58uJqaWnJyMovFEs4NOzytqqoqKSmp\n",
    "rKzMzMzEhquoqGCXVhUVFbFYrLt376qpqYm9BmrkyJEUCuXWrVsGBgYd6VRUUFAwNDQUXWIbve3c\n",
    "rYGBwZAhQ7Daq6io2LBhw7///vvixQsOhzNz5kwqldr6UmQVFRUej9fY2NjY2KikpDRq1CisJlvP\n",
    "EOuay87O5vF4SUlJLS0tAEAmky0tLcvKyrKysjgczt27d3E4nLW1tWg8ysrKY8eOTUhIAIDRo0d3\n",
    "tjjtRf5p8vLyJiYmWHgCgaCzC+1GXWge2dnZ5eXlJSUlT58+NTQ0lJOTe/Hihb6+/qRJk96+fdte\n",
    "54SpqSmBQMA2t88uos0W99nxJbcttCkslUoVu4toQ+wuoj3tFZZIJA4ZMkRGRkZVVfWzM9HV1aXR\n",
    "aNih28OHD9ucvZaVldXU1MR6sNtM2IU6efDgwZs3b3JzcysqKsaMGYPD4XqsASgpKSkrKw8aNEh4\n",
    "+N5BHVlropSVlcXuczA4HI5Gow0ePJhGo7VJxp8/d9tjsCPampqampqa1ke6KioqPXlOd/To0d7e\n",
    "3sHBwTNnziSRSPPnz9fU1Pzqq6+ysrLWr1+vpaWFx+NlZGTweDyZTJ49e/apU6fmzZvn7Oy8du3a\n",
    "3bt3BwUFzZ07F+s52bx5s7m5+fz5858/f45dqjds2DDhgeyKFSsEAsHGjRuxa1B37949dOjQFy9e\n",
    "yMjItD7eolAoRkZGcXFxY8eO/UTXChaVrKwsDocTu8ReTkND48cff8RqT0ZGxs7OTk9Pb/jw4Skp\n",
    "KT///LOysjKVSsWqHQCsra1TUlI8PDxGjBhx8ODBDRs2nDp1auPGjRwOR15e/ttvv3V1dTUxMVm8\n",
    "eHFYWNjZs2fNzMyEJ3XmzZvHZrMPHz6MXZm8a9cuU1NTLpeLx+PxeLzwDBYOhxs3blxMTIyxsfEn\n",
    "fuXgcLjWEwpX3JQpU0Qjbz0yHo9vc55JXl5eVlZ2yZIlAHD48OHdu3fLysrOmDFj3bp1feLOBwUF\n",
    "hT179rx48cLQ0PC7776j0WguLi4nTpyYN2/e8OHDm5ubhQUXrkcAMDU13bVrF7a5AcDIkSN37typ\n",
    "oaEhtlZFtzgZGTEHBsJFSG5baFNYAoEgdhfRprBDhw4Vu4uQlZUVjiYcuU1hv//++6NHj969e7e5\n",
    "uZlMJi9btszCwkJsbK2b2dChQ93c3E6cOOHo6MhgMLDO0paWlt9+++3SpUtY15q9vf2cOXO+vE5k\n",
    "ZWWXL1/+5s2byZMnz5s3j0KhSLoBODo67tu37+XLlwCgpaW1cePG9n6CtLedil1rACDcCZNIpDZ7\n",
    "XTKZTCQSxe5zHj16dPDgwbq6OhkZGX19fQ8Pj0+fS/4gJydnrMPqwsJCgTRUV1fn5eWlpKTExMTE\n",
    "xsampqbm5+fX1NR0y8wrKyu7ZT5dcPLkyblz5z579qxTU0VGRnZhqg66cOHChQsXpFgnPeDx48cz\n",
    "ZsyIjIzs1FTPnj2bO3duZ6fqfyorKz/dPLCK8vf377GQJGdAFbaDPlsn9+/fnzZtGtpSOqV1lUr5\n",
    "vlvsSLdXndP9chUVFf/++6+amhp2QqWDGhoa0tPTzczMhg4dKrnY+jEul4udktHV1e34VAKB4NGj\n",
    "RyQSafz48RILDUEQRFxncmFhoaenJ3btiY6OTkBAgLKycmlp6e7du01MTDZu3JiSkoLdraynp7d9\n",
    "+/ZO7d3EwvqQsVtuampq+mjS/eOPP86ePQsAWA/DunXrOn4VTHJy8q5du/T09FavXk0kEpuamn76\n",
    "6af09PQ2o1EoFOzRGd0beZ+Wk5Pj6emJ3XhAo9HWrFljYmLSwWmrqqo2btzIYrFWr16N3W5x9OjR\n",
    "K1euiI7p6+uL8rHwREZPLlRa24JUCivWv//+6+XlJTrcyclp06ZNPRlJm/5hKeqj2ykuJydnseex\n",
    "yONbhRe/FRYW7t27d8+ePcKmXF1dvWXLlrKyMkdHx+XLl2/evHnq1KmLFy/28fHh8/k//vhjZ6/n\n",
    "/ITW53Sxc9FdPqdbVVXVkasMBgjsvupp06ahOkHEwi71GiDNY0AVtoNQnUhC6zTUod9uNBotODg4\n",
    "ODi49UAej9fU1FRSUsJisTpyDXQHCS+k6tNHugiCIAjSmvh029jY+OOPP1ZXVwsf8SovL49d6yW8\n",
    "Di08PFxyT3ntl+d0EQRBkAFLfLolEone3t4qKiqbNm1KTk5ufbM2DoebNWvWrFmzAODy5cvJycmf\n",
    "eLrHF+of53QRBEEQREy61dbW9vHx0dbWfv78ufC5d629evVKIBBQKBTsoZeSvlmwl9yniyAIgiBd\n",
    "JibdFhQU+Pn5lZSUYO9Hs7e3bzNCdnb28ePHGxoaHBwcuvaUsi5A53QRBEGQvktMujU2Nj5z5ozo\n",
    "cOFF5zNmzJgxY4ZEw2oPOqeLIAiC9EXSv6usC9A5XQRBEKRv6ZPpFoPO6SIIgiB9hRReLy9RDQ0N\n",
    "JSUl0o6i97pz5460Q0AQBBmIevQFfAiCIAgyMH04up00aZIU40AkLSUlBQCmTZsm7UAQBEEGEPEP\n",
    "cezUG2x6Oewdwv2pRN0FPRMVEWtAPTJ3QBW2g1CdSAJWqxjUmYwgCIIgEofSLYIgCIJIHEq3CIIg\n",
    "CCJxKN0iCIIgiMShdIsgCIIgEtf30m1zc3NYWJizs/OcOXP8/f2ZTKa0I+pFqqur165de/XqVWkH\n",
    "gojR0NCwefNmd3f3+vp6acfSbzU3N4eGhjo4ONjb2x8+fBjtH5Deo++l2/v37z958iQ0NDQyMpJI\n",
    "JF65ckXaEfUWWVlZ3t7etbW1Yl+biEhdXl5eRUUFm81+/vz5p8d8/vz5wYMHm5qaeiaw/iQ1NTUn\n",
    "J+f8+fNXr14lkUhRUVHSjghB3uljz0wWCAT//vuvmZnZ4MGDAWDKlClhYWFsNptMJks7NOkbOnTo\n",
    "kSNHzp07J+1AEDEEAsHdu3fHjx8vJycXHx9vamqKx+Pr6up8fHwmTZoUGhr65s2b+fPnu7m5ZWVl\n",
    "eXl5NTc337p1a8uWLbNnz2axWMHBwTdv3sTj8a6urq6urrKyskePHqXT6UlJSY8fPzYxMdm1a5eq\n",
    "qmpUVFR1dXVVVVVCQoKmpubevXtHjBjR3Nx89erVs2fP1tXVmZube3l59df70QUCwf37983NzSkU\n",
    "CgBYW1uHhob21/2D2AbAZDJPnTqVkJAAAJ9uKtIOv5eSaK32saNbDodTU1Ojo6ODfRw8eDCfz+dy\n",
    "udKNqpdQUlJSVlaWdhSIeFVVVRkZGebm5paWlpmZmWVlZdjwioqKpqam8+fPh4SEpKam5ubmMhiM\n",
    "gwcPWlhYXLt2bfbs2Xw+//Tp0yQSKTY29vz583l5efHx8di0qampe/fuvX79uoaGxqVLl7CBaWlp\n",
    "y5Ytu3Hjhr29/V9//cXj8crKyiorK0+fPh0fH0+n0yMjI6VTBZLH4XCqqqqGDRuGfaRQKM3Nzf14\n",
    "/yDaANLS0szMzGJjY8PDw9PS0nJzc9sbE2mP5Gq1j6VbBOmjHjx4ICMjY2RkpKurq6iomJ2djQ1X\n",
    "VlaePHmyrKysmpqahoYGh8NpM+GbN2/y8/OdnJxIJBKFQpkzZ056ejqPxwMAOzs7CoVCIpFGjRrF\n",
    "ZrOx8S0tLbW1tWVlZQ0NDRsbG/l8Pp1OX7FixaBBg3A43Pjx44uLi0WXgvRFog3AwcHBzs5OVlZW\n",
    "WVlZT0+vqKiovTGR9kiuVvtYZzKC9EVNTU1JSUkTJ05UVlbG4XDm5ubx8fHY86vl5OQ+3dVZW1tb\n",
    "UlKyfPly4RALCws+nw8AYt8yqaKi0maIQCBIS0uLiIgoKipiMpkWFhYCgeDLC4VInWgDaGhoiI6O\n",
    "TkhIKC0t5XA469evb29MpD2Sq9U+lm5JJBKNRnv58uW4ceMA4M2bN3g8nkgkSjsuBPmU4uLinJyc\n",
    "9PT0v//+GxtCJBKfPXs2dOjQz05LpVKHDBni5+c3cuTIri39xo0bERER3t7ew4YNe/ToUT/uTCaR\n",
    "SKqqqi9evBg/fjwA1NfXy8rKDpz9A5fL9fPzI5PJhw8fplKpAQEB0o6oP+jGWu1jnclYb1hGRsab\n",
    "N2+4XG5ycrKxsXG/vA4C6TcEAsGdO3cYDMaNGzcSExMTExNv3LhhYWGRmpra3lEmHo9vbGzkcDiV\n",
    "lZWDBw8ePXr05cuXGxoampubsTl0KoCqqqpx48aNHDkSh8O9evWqO8rUS+FwuAkTJjx48KC+vp7L\n",
    "5SYlJZmamg6c/QOPx3vz5s3UqVNpNBqLxcJe04J8oW6s1T6WbgFgwoQJo0ePXrp06TfffMPlcp2c\n",
    "nKQdUa8jK9vHOi36t7q6uvT0dHt7e+FhFpFI/Prrr9PT01tvujgcDo/HY3+PGDFCIBAsXLjw4sWL\n",
    "LS0tS5YsaW5unjt37qxZs27evGlqatpmEcIJ2wzE4XAA4ODg8PTp0+nTp//vf/8rLi4WDu+XJk6c\n",
    "aGRktHDhwtmzZ3M4nHnz5kk7op6ANQAymezi4rJ//35bW9sDBw5wOBzRhiG2qSBidXut4nJychZ7\n",
    "Hos8vhXrp+3+kKUEvYCvjZiYGACYNm0augcAEWtAvX9tQBW2g1CdSEJVVZWwSvve0S2CIAiC9Dko\n",
    "3SIIgiCIxKF0iyAIgiASh9ItgiAIgkgcSrcIgiAIInEo3SIIgiCIxKF0iyAIgiAS99HzEPrfU0j6\n",
    "X4m+HHZ3HYKINaCax4AqbAehOpEcdHSLIAiCIBL30dFtf3oGE3qqVHvQU2MQsQbUQ4UGVGE7CNWJ\n",
    "JLTuLUBHtwiCIAgicSjdIgiCIIjEoXSLIAiCIBKH0i2CIAiCSBxKtwjS9zQ1Nf31119NTU3SDgRB\n",
    "kI7qw+8hr66u3rNnj6Oj4+zZs6Udi5RxOJzw8PDo6Gg+n29mZubh4UGlUqUd1IDT1NT0008/paen\n",
    "Yx9pNJqTk9PChQtJJFK3L6usrOzFixfdPtt+oLm5OSwsLCwsjM/n29nZrVq1SklJSdpBIQhA3z26\n",
    "zcrK8vb2rq2tbW5ulnYsUiYQCMLDw2tra8PDwyMjI1VVVUNDQ/l8vrTjGqB8fX0TExMTEhKCgoIe\n",
    "PXp09erVno+hpqZmz549dXV1Pb9oqUtNTc3JyTl//vzVq1dJJFJUVJS0I0KQd/rq0e3QoUOPHDly\n",
    "7tw5aQcifc3NzTgcbu7cufLy8gAwceLE33//ncViUSgUaYc2cOFwOA0NDRMTk+LiYgBobm6+evXq\n",
    "2bNn6+rqzM3Nvby8aDRaaWnp4cOHc3NzVVVV169fP2nSJB6PFx4eHh4ezufzHRwc3N3dFRQUCgsL\n",
    "//zzT01NzcuXL5PJ5B07dpiZmQkXJDpnFovl6elZU1OTlJTk4uKyZs0aLpcrOlvp1Y0ECQSC+/fv\n",
    "m5ubY43f2to6NDSUzWaTyWRph9b9jh49SqfTk5KSHj9+bGJismvXLlVVVSaTeerUqYSEBABwdXV1\n",
    "dXWVlZUVO6a0w++lJFqrffXoVklJSVlZWdpR9AoEAmHZsmUjRozAPlZXVw8dOrS/7k/7iubm5gcP\n",
    "HiQkJEyZMgUAysrKKisrT58+HR8fT6fTIyMjAeDSpUtWVla3bt3atm1bVlZWS0tLbGxsXl7e+fPn\n",
    "Y2NjCQRCWFiYQCAAgLy8PFNT02vXrm3evPn48eOVlZXCBYnOmU6nHz582MjIKCoqas2aNQDQ3mz7\n",
    "Hw6HU1VVNWzYMOwjhUJpbm7mcrlSDUqCUlNT9+7de/36dQ0NjUuXLgFAWlqamZlZbGxseHh4Wlpa\n",
    "bm5ue2Mi7ZFcrfbVdIuIVVhYGBER4eTkRCAQpB3LAOXl5WVjY2Nvb797925XV1dzc3MAoNPpK1as\n",
    "GDRoEA6HGz9+fHFxMYfDAYDGxsaWlhYGg7F69Woej/fvv//Onz+fQqGQSCRHR8cnT56wWCwAGDly\n",
    "5NixY3E4nJmZGZVKff78uXBx7c1ZqKmpqb3ZIn2dnZ0dtlpHjRrFZrMBwMHBwc7OTlZWVllZWU9P\n",
    "r6ioqL0xkfZIrlb7amcyIqqsrCwoKGjlypXGxsbSjmXg8vX1HT9+PABUVlaePHmysLBw9erVeDw+\n",
    "LS0tIiKiqKiIyWRaWFgIBAJXV1c/Pz9nZ+fRo0d/9913mpqar1698vT0FM5KR0cHuzRBXl4ej8dj\n",
    "fwwZMuTVq1fCbiuBQCA659bxNDY2tjdbpK8TvSKyoaEhOjo6ISGhtLSUw+GsX7++vTGR9kiuVlG6\n",
    "7SdevHgREBCwdOnS1if2EClSU1NzcHAICgpavHhxenp6RESEt7f3sGHDHj16hHUm02i0Q4cO8Xi8\n",
    "hISEQ4cO7d27V1NT093d3dLSsvV8amtrGxsbsWvfsNw5ceJE4bc3btwQnXNr8vLyYmfbL5FIJFVV\n",
    "1RcvXmC/eOrr62VlZYlEorTj6iFcLtfPz49MJh8+fJhKpQYEBEg7ov6gG2sVdSb3B/n5+f7+/mvX\n",
    "rkW5tvdgMplJSUk0Go1EIlVVVY0bN27kyJE4HO7Vq1cA0NzcfO3ateLiYllZWTqdLicnRyKRJkyY\n",
    "cOnSpZqaGoFAkJmZGR0djR2qPnv27NGjRwKBICMjo7a2dvjw4cKliM4ZAPB4PI/Ha2xsrK6uJhAI\n",
    "7c22/8HhcBMmTHjw4EF9fT2Xy01KSjI1Ne2X10mJxePx3rx5M3XqVBqNxmKx0OtHu0U31mqfP7qV\n",
    "le3zRfhCXC7377//Ligo2LBhg3Dg8OHDDx06NHjwYCkGNjB5eXlhf5DJ5PHjx2/ZskVBQcHBwWH/\n",
    "/v3Tp09XV1efNGkSHo/H4/GKioo7duwoKysbPHjw6tWrtbS0Zs+eXVtbu3jxYh6Pp6+v7+XlhcPh\n",
    "AMDAwOC///7bv38/dmWympra27dvsaWIzhmHww0ZMoROpy9btmzSpEnbtm1rb7b90sSJE4uKihYu\n",
    "XIjddztv3jxpR9QTsHMNZDLZxcVl//79LBbL3Ny8paUFGy46JtIR3V6ruJycnMWexyKPbyWRSP3p\n",
    "dXXoBXxtxMTEAMC0adPQPQB9S2FhYXh4+JYtW+Tk5CS6oAH1/rUBVdgOQnUiCVVVVcIqlamurpZu\n",
    "NAiCIAjS78n0424lBEEQBOklBvqJTwTp5UaMGLFz505pR4EgyJeSkZFBFycjCIIgiGShzmQEQRAE\n",
    "kTiUbhEEQRBE4lC6RRAEQRCJ++hSqf73FJL+V6Ivh91dhyBiDajmMaAK20GoTiQHXSeFIAiCIBIn\n",
    "27ozuT89gwk9Vao96KkxiFgD6qFCA6qwHYTqRBJa9xago1sEQRAEkbj/B6iTLH7fyfEoAAAAAElF\n",
    "TkSuQmCC\n",
    "\" />"
   ]
  },
  {
   "cell_type": "markdown",
   "id": "c20b8383",
   "metadata": {},
   "source": [
    "<hr style=\"height:0px;border:none;border-top:1px solid #c0c0c0;\">\n",
    "\n",
    "- Salvamento e teste da carga do dataframe em formato pickle."
   ]
  },
  {
   "cell_type": "code",
   "execution_count": 39,
   "id": "619730e3",
   "metadata": {
    "scrolled": true
   },
   "outputs": [
    {
     "name": "stdout",
     "output_type": "stream",
     "text": [
      "Salvo: d:\\jup_ws\\tcc\\bricklink\\df_lista_categs.pickle\n",
      "Tamanho: 26607 bytes\n",
      "Modifificado em: 27/10/2021 11:13:37\n"
     ]
    }
   ],
   "source": [
    "frame2pickle(frame=df_lista_categs, p_pickle=tcc.pckl_df_lista_categs)"
   ]
  },
  {
   "cell_type": "code",
   "execution_count": 40,
   "id": "46d58471",
   "metadata": {
    "scrolled": false
   },
   "outputs": [
    {
     "name": "stdout",
     "output_type": "stream",
     "text": [
      "Lido: d:\\jup_ws\\tcc\\bricklink\\df_lista_categs.pickle\n",
      "Tamanho: 26607 bytes\n",
      "Modifificado em: 27/10/2021 11:13:37\n"
     ]
    }
   ],
   "source": [
    "_ = pickle2frame(p_pickle=tcc.pckl_df_lista_categs)\n",
    "del _"
   ]
  },
  {
   "cell_type": "markdown",
   "id": "a5c944e9",
   "metadata": {},
   "source": [
    "<hr style=\"background-color:transparent;height:4px;border:none;border-top:2px solid #c0c0c0;border-bottom:2px solid #c0c0c0;\">\n",
    "\n",
    "### Códigos de 2 caracteres identificadores de países (padrão ISO 3166-1 alpha-2)"
   ]
  },
  {
   "cell_type": "markdown",
   "id": "316f07c1",
   "metadata": {},
   "source": [
    "- Utilizados na identificação dos países dos vendedores e dos compradores. \n",
    "- Fonte: https://en.wikipedia.org/wiki/ISO_3166-1_alpha-2"
   ]
  },
  {
   "cell_type": "markdown",
   "id": "fe086705",
   "metadata": {},
   "source": [
    "<hr style=\"height:0px;border:none;border-top:1px solid #c0c0c0;\">\n",
    "\n",
    "- Dataframe `df_paises` com códigos de países obtidos na Wikipédia."
   ]
  },
  {
   "cell_type": "code",
   "execution_count": 41,
   "id": "2e99b6b0",
   "metadata": {},
   "outputs": [],
   "source": [
    "cols_paises = ['country_code', 'country_name', 'code_year', \n",
    "               'top_level_domain', 'subdivisons', 'notes']\n",
    "df_paises = (\n",
    "    pd.read_html('https://en.wikipedia.org/wiki/ISO_3166-1_alpha-2', \n",
    "        match=r'Country name .using ', keep_default_na=False, na_values='')\n",
    "        # detecção automática de nulos desligada por causa da Namíbia, código 'NA'\n",
    "    [0]    # dataframe da primeira (`[0]`) <table> com o padrão `match`\n",
    "    .set_axis(cols_paises, axis=1)    # atribuição de nomes das colunas\n",
    "    .set_index('country_code')    # coluna `country_code` como índice\n",
    "    .sort_index()    # dataframe ordenado pelo índice\n",
    ")"
   ]
  },
  {
   "cell_type": "markdown",
   "id": "be5d5950",
   "metadata": {},
   "source": [
    "<hr style=\"height:0px;border:none;border-top:1px solid #c0c0c0;\">\n",
    "\n",
    "- Amostra e dimensões do dataframe."
   ]
  },
  {
   "cell_type": "code",
   "execution_count": 42,
   "id": "132fde4c",
   "metadata": {
    "scrolled": true
   },
   "outputs": [
    {
     "data": {
      "text/html": [
       "<div>\n",
       "<style scoped>\n",
       "    .dataframe tbody tr th:only-of-type {\n",
       "        vertical-align: middle;\n",
       "    }\n",
       "\n",
       "    .dataframe tbody tr th {\n",
       "        vertical-align: top;\n",
       "    }\n",
       "\n",
       "    .dataframe thead th {\n",
       "        text-align: right;\n",
       "    }\n",
       "</style>\n",
       "<table border=\"1\" class=\"dataframe\">\n",
       "  <thead>\n",
       "    <tr style=\"text-align: right;\">\n",
       "      <th></th>\n",
       "      <th>country_name</th>\n",
       "      <th>code_year</th>\n",
       "      <th>top_level_domain</th>\n",
       "      <th>subdivisons</th>\n",
       "      <th>notes</th>\n",
       "    </tr>\n",
       "    <tr>\n",
       "      <th>country_code</th>\n",
       "      <th></th>\n",
       "      <th></th>\n",
       "      <th></th>\n",
       "      <th></th>\n",
       "      <th></th>\n",
       "    </tr>\n",
       "  </thead>\n",
       "  <tbody>\n",
       "    <tr>\n",
       "      <th>AD</th>\n",
       "      <td>Andorra</td>\n",
       "      <td>1974</td>\n",
       "      <td>.ad</td>\n",
       "      <td>ISO 3166-2:AD</td>\n",
       "      <td>NaN</td>\n",
       "    </tr>\n",
       "    <tr>\n",
       "      <th>FI</th>\n",
       "      <td>Finland</td>\n",
       "      <td>1974</td>\n",
       "      <td>.fi</td>\n",
       "      <td>ISO 3166-2:FI</td>\n",
       "      <td>NaN</td>\n",
       "    </tr>\n",
       "    <tr>\n",
       "      <th>GA</th>\n",
       "      <td>Gabon</td>\n",
       "      <td>1974</td>\n",
       "      <td>.ga</td>\n",
       "      <td>ISO 3166-2:GA</td>\n",
       "      <td>NaN</td>\n",
       "    </tr>\n",
       "    <tr>\n",
       "      <th>NZ</th>\n",
       "      <td>New Zealand</td>\n",
       "      <td>1974</td>\n",
       "      <td>.nz</td>\n",
       "      <td>ISO 3166-2:NZ</td>\n",
       "      <td>NaN</td>\n",
       "    </tr>\n",
       "    <tr>\n",
       "      <th>TZ</th>\n",
       "      <td>Tanzania, United Republic of</td>\n",
       "      <td>1974</td>\n",
       "      <td>.tz</td>\n",
       "      <td>ISO 3166-2:TZ</td>\n",
       "      <td>NaN</td>\n",
       "    </tr>\n",
       "    <tr>\n",
       "      <th>ZW</th>\n",
       "      <td>Zimbabwe</td>\n",
       "      <td>1980</td>\n",
       "      <td>.zw</td>\n",
       "      <td>ISO 3166-2:ZW</td>\n",
       "      <td>Name changed from Southern Rhodesia (RH)</td>\n",
       "    </tr>\n",
       "  </tbody>\n",
       "</table>\n",
       "</div>"
      ],
      "text/plain": [
       "                              country_name  code_year top_level_domain  \\\n",
       "country_code                                                             \n",
       "AD                                 Andorra       1974              .ad   \n",
       "FI                                 Finland       1974              .fi   \n",
       "GA                                   Gabon       1974              .ga   \n",
       "NZ                             New Zealand       1974              .nz   \n",
       "TZ            Tanzania, United Republic of       1974              .tz   \n",
       "ZW                                Zimbabwe       1980              .zw   \n",
       "\n",
       "                subdivisons                                     notes  \n",
       "country_code                                                           \n",
       "AD            ISO 3166-2:AD                                       NaN  \n",
       "FI            ISO 3166-2:FI                                       NaN  \n",
       "GA            ISO 3166-2:GA                                       NaN  \n",
       "NZ            ISO 3166-2:NZ                                       NaN  \n",
       "TZ            ISO 3166-2:TZ                                       NaN  \n",
       "ZW            ISO 3166-2:ZW  Name changed from Southern Rhodesia (RH)  "
      ]
     },
     "metadata": {},
     "output_type": "display_data"
    },
    {
     "data": {
      "text/plain": [
       "(249, 5)"
      ]
     },
     "metadata": {},
     "output_type": "display_data"
    }
   ],
   "source": [
    "h1s4t1(df_paises)"
   ]
  },
  {
   "cell_type": "markdown",
   "id": "5427c9d5",
   "metadata": {},
   "source": [
    "<hr style=\"height:0px;border:none;border-top:1px solid #c0c0c0;\">\n",
    "\n",
    "- Valores e tipos de dados de uma linha de exemplo."
   ]
  },
  {
   "cell_type": "code",
   "execution_count": 43,
   "id": "ef1a9cb3",
   "metadata": {
    "scrolled": false
   },
   "outputs": [
    {
     "data": {
      "text/html": [
       "<style type=\"text/css\">\n",
       "#T_96c66_ th.row1 {\n",
       "  border-top: 1px solid black;\n",
       "}\n",
       "#T_96c66_  td.row1 {\n",
       "  border-top: 1px solid black;\n",
       "}\n",
       "#T_96c66_row0_col0, #T_96c66_row0_col1, #T_96c66_row0_col2, #T_96c66_row1_col0, #T_96c66_row1_col1, #T_96c66_row1_col2, #T_96c66_row3_col0, #T_96c66_row3_col1, #T_96c66_row3_col2, #T_96c66_row4_col0, #T_96c66_row4_col1, #T_96c66_row4_col2 {\n",
       "  background-color: #ffcc99;\n",
       "}\n",
       "#T_96c66_row2_col0, #T_96c66_row2_col1, #T_96c66_row2_col2 {\n",
       "  background-color: #ff9999;\n",
       "}\n",
       "#T_96c66_row5_col0, #T_96c66_row5_col1, #T_96c66_row5_col2 {\n",
       "  background-color: #99ff99;\n",
       "}\n",
       "</style>\n",
       "<table id=\"T_96c66_\">\n",
       "  <thead>\n",
       "    <tr>\n",
       "      <th class=\"blank\" >&nbsp;</th>\n",
       "      <th class=\"blank\" >&nbsp;</th>\n",
       "      <th class=\"blank level0\" >&nbsp;</th>\n",
       "      <th class=\"col_heading level0 col0\" >valor_exemplo</th>\n",
       "      <th class=\"col_heading level0 col1\" >dtype_coluna</th>\n",
       "      <th class=\"col_heading level0 col2\" >classe_valor</th>\n",
       "    </tr>\n",
       "    <tr>\n",
       "      <th class=\"index_name level0\" >origem</th>\n",
       "      <th class=\"index_name level1\" >i</th>\n",
       "      <th class=\"index_name level2\" >nome_coluna</th>\n",
       "      <th class=\"blank col0\" >&nbsp;</th>\n",
       "      <th class=\"blank col1\" >&nbsp;</th>\n",
       "      <th class=\"blank col2\" >&nbsp;</th>\n",
       "    </tr>\n",
       "  </thead>\n",
       "  <tbody>\n",
       "    <tr>\n",
       "      <th id=\"T_96c66_level0_row0\" class=\"row_heading level0 row0\" >índice</th>\n",
       "      <th id=\"T_96c66_level1_row0\" class=\"row_heading level1 row0\" >0</th>\n",
       "      <th id=\"T_96c66_level2_row0\" class=\"row_heading level2 row0\" >country_code</th>\n",
       "      <td id=\"T_96c66_row0_col0\" class=\"data row0 col0\" >NA</td>\n",
       "      <td id=\"T_96c66_row0_col1\" class=\"data row0 col1\" >object</td>\n",
       "      <td id=\"T_96c66_row0_col2\" class=\"data row0 col2\" >str</td>\n",
       "    </tr>\n",
       "    <tr>\n",
       "      <th id=\"T_96c66_level0_row1\" class=\"row_heading level0 row1\" rowspan=\"5\">dados</th>\n",
       "      <th id=\"T_96c66_level1_row1\" class=\"row_heading level1 row1\" >0</th>\n",
       "      <th id=\"T_96c66_level2_row1\" class=\"row_heading level2 row1\" >country_name</th>\n",
       "      <td id=\"T_96c66_row1_col0\" class=\"data row1 col0\" >Namibia</td>\n",
       "      <td id=\"T_96c66_row1_col1\" class=\"data row1 col1\" >object</td>\n",
       "      <td id=\"T_96c66_row1_col2\" class=\"data row1 col2\" >str</td>\n",
       "    </tr>\n",
       "    <tr>\n",
       "      <th id=\"T_96c66_level1_row2\" class=\"row_heading level1 row2\" >1</th>\n",
       "      <th id=\"T_96c66_level2_row2\" class=\"row_heading level2 row2\" >code_year</th>\n",
       "      <td id=\"T_96c66_row2_col0\" class=\"data row2 col0\" >1974</td>\n",
       "      <td id=\"T_96c66_row2_col1\" class=\"data row2 col1\" >int64</td>\n",
       "      <td id=\"T_96c66_row2_col2\" class=\"data row2 col2\" >int64</td>\n",
       "    </tr>\n",
       "    <tr>\n",
       "      <th id=\"T_96c66_level1_row3\" class=\"row_heading level1 row3\" >2</th>\n",
       "      <th id=\"T_96c66_level2_row3\" class=\"row_heading level2 row3\" >top_level_domain</th>\n",
       "      <td id=\"T_96c66_row3_col0\" class=\"data row3 col0\" >.na</td>\n",
       "      <td id=\"T_96c66_row3_col1\" class=\"data row3 col1\" >object</td>\n",
       "      <td id=\"T_96c66_row3_col2\" class=\"data row3 col2\" >str</td>\n",
       "    </tr>\n",
       "    <tr>\n",
       "      <th id=\"T_96c66_level1_row4\" class=\"row_heading level1 row4\" >3</th>\n",
       "      <th id=\"T_96c66_level2_row4\" class=\"row_heading level2 row4\" >subdivisons</th>\n",
       "      <td id=\"T_96c66_row4_col0\" class=\"data row4 col0\" >ISO 3166-2:NA</td>\n",
       "      <td id=\"T_96c66_row4_col1\" class=\"data row4 col1\" >object</td>\n",
       "      <td id=\"T_96c66_row4_col2\" class=\"data row4 col2\" >str</td>\n",
       "    </tr>\n",
       "    <tr>\n",
       "      <th id=\"T_96c66_level1_row5\" class=\"row_heading level1 row5\" >4</th>\n",
       "      <th id=\"T_96c66_level2_row5\" class=\"row_heading level2 row5\" >notes</th>\n",
       "      <td id=\"T_96c66_row5_col0\" class=\"data row5 col0\" >nan</td>\n",
       "      <td id=\"T_96c66_row5_col1\" class=\"data row5 col1\" >object</td>\n",
       "      <td id=\"T_96c66_row5_col2\" class=\"data row5 col2\" >float</td>\n",
       "    </tr>\n",
       "  </tbody>\n",
       "</table>\n"
      ],
      "text/plain": [
       "<pandas.io.formats.style.Styler at 0x29dff1a0640>"
      ]
     },
     "execution_count": 43,
     "metadata": {},
     "output_type": "execute_result"
    }
   ],
   "source": [
    "# detalhes da linha da Namíbia\n",
    "ex_linha(df_paises, loc='NA')"
   ]
  },
  {
   "cell_type": "code",
   "execution_count": 44,
   "id": "8cdb7103",
   "metadata": {
    "scrolled": false
   },
   "outputs": [
    {
     "data": {
      "text/html": [
       "<style type=\"text/css\">\n",
       "#T_a7689_ th.row1 {\n",
       "  border-top: 1px solid black;\n",
       "}\n",
       "#T_a7689_  td.row1 {\n",
       "  border-top: 1px solid black;\n",
       "}\n",
       "#T_a7689_row0_col0, #T_a7689_row0_col1, #T_a7689_row0_col2, #T_a7689_row1_col0, #T_a7689_row1_col1, #T_a7689_row1_col2, #T_a7689_row3_col0, #T_a7689_row3_col1, #T_a7689_row3_col2, #T_a7689_row4_col0, #T_a7689_row4_col1, #T_a7689_row4_col2, #T_a7689_row5_col0, #T_a7689_row5_col1, #T_a7689_row5_col2 {\n",
       "  background-color: #ffcc99;\n",
       "}\n",
       "#T_a7689_row2_col0, #T_a7689_row2_col1, #T_a7689_row2_col2 {\n",
       "  background-color: #ff9999;\n",
       "}\n",
       "</style>\n",
       "<table id=\"T_a7689_\">\n",
       "  <thead>\n",
       "    <tr>\n",
       "      <th class=\"blank\" >&nbsp;</th>\n",
       "      <th class=\"blank\" >&nbsp;</th>\n",
       "      <th class=\"blank level0\" >&nbsp;</th>\n",
       "      <th class=\"col_heading level0 col0\" >valor_exemplo</th>\n",
       "      <th class=\"col_heading level0 col1\" >dtype_coluna</th>\n",
       "      <th class=\"col_heading level0 col2\" >classe_valor</th>\n",
       "    </tr>\n",
       "    <tr>\n",
       "      <th class=\"index_name level0\" >origem</th>\n",
       "      <th class=\"index_name level1\" >i</th>\n",
       "      <th class=\"index_name level2\" >nome_coluna</th>\n",
       "      <th class=\"blank col0\" >&nbsp;</th>\n",
       "      <th class=\"blank col1\" >&nbsp;</th>\n",
       "      <th class=\"blank col2\" >&nbsp;</th>\n",
       "    </tr>\n",
       "  </thead>\n",
       "  <tbody>\n",
       "    <tr>\n",
       "      <th id=\"T_a7689_level0_row0\" class=\"row_heading level0 row0\" >índice</th>\n",
       "      <th id=\"T_a7689_level1_row0\" class=\"row_heading level1 row0\" >0</th>\n",
       "      <th id=\"T_a7689_level2_row0\" class=\"row_heading level2 row0\" >country_code</th>\n",
       "      <td id=\"T_a7689_row0_col0\" class=\"data row0 col0\" >AI</td>\n",
       "      <td id=\"T_a7689_row0_col1\" class=\"data row0 col1\" >object</td>\n",
       "      <td id=\"T_a7689_row0_col2\" class=\"data row0 col2\" >str</td>\n",
       "    </tr>\n",
       "    <tr>\n",
       "      <th id=\"T_a7689_level0_row1\" class=\"row_heading level0 row1\" rowspan=\"5\">dados</th>\n",
       "      <th id=\"T_a7689_level1_row1\" class=\"row_heading level1 row1\" >0</th>\n",
       "      <th id=\"T_a7689_level2_row1\" class=\"row_heading level2 row1\" >country_name</th>\n",
       "      <td id=\"T_a7689_row1_col0\" class=\"data row1 col0\" >Anguilla</td>\n",
       "      <td id=\"T_a7689_row1_col1\" class=\"data row1 col1\" >object</td>\n",
       "      <td id=\"T_a7689_row1_col2\" class=\"data row1 col2\" >str</td>\n",
       "    </tr>\n",
       "    <tr>\n",
       "      <th id=\"T_a7689_level1_row2\" class=\"row_heading level1 row2\" >1</th>\n",
       "      <th id=\"T_a7689_level2_row2\" class=\"row_heading level2 row2\" >code_year</th>\n",
       "      <td id=\"T_a7689_row2_col0\" class=\"data row2 col0\" >1985</td>\n",
       "      <td id=\"T_a7689_row2_col1\" class=\"data row2 col1\" >int64</td>\n",
       "      <td id=\"T_a7689_row2_col2\" class=\"data row2 col2\" >int64</td>\n",
       "    </tr>\n",
       "    <tr>\n",
       "      <th id=\"T_a7689_level1_row3\" class=\"row_heading level1 row3\" >2</th>\n",
       "      <th id=\"T_a7689_level2_row3\" class=\"row_heading level2 row3\" >top_level_domain</th>\n",
       "      <td id=\"T_a7689_row3_col0\" class=\"data row3 col0\" >.ai</td>\n",
       "      <td id=\"T_a7689_row3_col1\" class=\"data row3 col1\" >object</td>\n",
       "      <td id=\"T_a7689_row3_col2\" class=\"data row3 col2\" >str</td>\n",
       "    </tr>\n",
       "    <tr>\n",
       "      <th id=\"T_a7689_level1_row4\" class=\"row_heading level1 row4\" >3</th>\n",
       "      <th id=\"T_a7689_level2_row4\" class=\"row_heading level2 row4\" >subdivisons</th>\n",
       "      <td id=\"T_a7689_row4_col0\" class=\"data row4 col0\" >ISO 3166-2:AI</td>\n",
       "      <td id=\"T_a7689_row4_col1\" class=\"data row4 col1\" >object</td>\n",
       "      <td id=\"T_a7689_row4_col2\" class=\"data row4 col2\" >str</td>\n",
       "    </tr>\n",
       "    <tr>\n",
       "      <th id=\"T_a7689_level1_row5\" class=\"row_heading level1 row5\" >4</th>\n",
       "      <th id=\"T_a7689_level2_row5\" class=\"row_heading level2 row5\" >notes</th>\n",
       "      <td id=\"T_a7689_row5_col0\" class=\"data row5 col0\" >AI previously represented French Afars and Issas</td>\n",
       "      <td id=\"T_a7689_row5_col1\" class=\"data row5 col1\" >object</td>\n",
       "      <td id=\"T_a7689_row5_col2\" class=\"data row5 col2\" >str</td>\n",
       "    </tr>\n",
       "  </tbody>\n",
       "</table>\n"
      ],
      "text/plain": [
       "<pandas.io.formats.style.Styler at 0x29dff39b520>"
      ]
     },
     "execution_count": 44,
     "metadata": {},
     "output_type": "execute_result"
    }
   ],
   "source": [
    "# detalhes da primeira linha com `notes` sobre o país\n",
    "ex_linha(df_paises, loc=prim_true(df_paises.notes.notna()))"
   ]
  },
  {
   "cell_type": "markdown",
   "id": "b40de5db",
   "metadata": {},
   "source": [
    "<hr style=\"height:0px;border:none;border-top:1px solid #c0c0c0;\">\n",
    "\n",
    "- Resumos estatísticos."
   ]
  },
  {
   "cell_type": "code",
   "execution_count": 45,
   "id": "71cf410d",
   "metadata": {
    "scrolled": false
   },
   "outputs": [
    {
     "data": {
      "text/html": [
       "<style type=\"text/css\">\n",
       "#T_fd747_ th.row1 {\n",
       "  border-top: 1px solid black;\n",
       "}\n",
       "#T_fd747_  td.row1 {\n",
       "  border-top: 1px solid black;\n",
       "}\n",
       "</style>\n",
       "<table id=\"T_fd747_\">\n",
       "  <thead>\n",
       "    <tr>\n",
       "      <th class=\"blank\" >&nbsp;</th>\n",
       "      <th class=\"blank\" >&nbsp;</th>\n",
       "      <th class=\"index_name level0\" >estatística</th>\n",
       "      <th class=\"col_heading level0 col0\" >Tamanho</th>\n",
       "      <th class=\"col_heading level0 col1\" >Qtd. distintos</th>\n",
       "      <th class=\"col_heading level0 col2\" >Distintos</th>\n",
       "      <th class=\"col_heading level0 col3\" >F. não nulos</th>\n",
       "      <th class=\"col_heading level0 col4\" >P. não nulos</th>\n",
       "      <th class=\"col_heading level0 col5\" >F. nulos</th>\n",
       "      <th class=\"col_heading level0 col6\" >P. nulos</th>\n",
       "      <th class=\"col_heading level0 col7\" >Qtd. modas</th>\n",
       "      <th class=\"col_heading level0 col8\" >F. moda</th>\n",
       "      <th class=\"col_heading level0 col9\" >P. moda</th>\n",
       "      <th class=\"col_heading level0 col10\" >Moda</th>\n",
       "    </tr>\n",
       "    <tr>\n",
       "      <th class=\"index_name level0\" >origem</th>\n",
       "      <th class=\"index_name level1\" >i</th>\n",
       "      <th class=\"index_name level2\" >coluna</th>\n",
       "      <th class=\"blank col0\" >&nbsp;</th>\n",
       "      <th class=\"blank col1\" >&nbsp;</th>\n",
       "      <th class=\"blank col2\" >&nbsp;</th>\n",
       "      <th class=\"blank col3\" >&nbsp;</th>\n",
       "      <th class=\"blank col4\" >&nbsp;</th>\n",
       "      <th class=\"blank col5\" >&nbsp;</th>\n",
       "      <th class=\"blank col6\" >&nbsp;</th>\n",
       "      <th class=\"blank col7\" >&nbsp;</th>\n",
       "      <th class=\"blank col8\" >&nbsp;</th>\n",
       "      <th class=\"blank col9\" >&nbsp;</th>\n",
       "      <th class=\"blank col10\" >&nbsp;</th>\n",
       "    </tr>\n",
       "  </thead>\n",
       "  <tbody>\n",
       "    <tr>\n",
       "      <th id=\"T_fd747_level0_row0\" class=\"row_heading level0 row0\" >índice</th>\n",
       "      <th id=\"T_fd747_level1_row0\" class=\"row_heading level1 row0\" >0</th>\n",
       "      <th id=\"T_fd747_level2_row0\" class=\"row_heading level2 row0\" >country_code</th>\n",
       "      <td id=\"T_fd747_row0_col0\" class=\"data row0 col0\" >249</td>\n",
       "      <td id=\"T_fd747_row0_col1\" class=\"data row0 col1\" >249</td>\n",
       "      <td id=\"T_fd747_row0_col2\" class=\"data row0 col2\" >+++</td>\n",
       "      <td id=\"T_fd747_row0_col3\" class=\"data row0 col3\" >249</td>\n",
       "      <td id=\"T_fd747_row0_col4\" class=\"data row0 col4\" >100.00%</td>\n",
       "      <td id=\"T_fd747_row0_col5\" class=\"data row0 col5\" >0</td>\n",
       "      <td id=\"T_fd747_row0_col6\" class=\"data row0 col6\" >0.00%</td>\n",
       "      <td id=\"T_fd747_row0_col7\" class=\"data row0 col7\" >249</td>\n",
       "      <td id=\"T_fd747_row0_col8\" class=\"data row0 col8\" >1</td>\n",
       "      <td id=\"T_fd747_row0_col9\" class=\"data row0 col9\" >0.40%</td>\n",
       "      <td id=\"T_fd747_row0_col10\" class=\"data row0 col10\" >+++</td>\n",
       "    </tr>\n",
       "    <tr>\n",
       "      <th id=\"T_fd747_level0_row1\" class=\"row_heading level0 row1\" rowspan=\"5\">dados</th>\n",
       "      <th id=\"T_fd747_level1_row1\" class=\"row_heading level1 row1\" >0</th>\n",
       "      <th id=\"T_fd747_level2_row1\" class=\"row_heading level2 row1\" >country_name</th>\n",
       "      <td id=\"T_fd747_row1_col0\" class=\"data row1 col0\" >249</td>\n",
       "      <td id=\"T_fd747_row1_col1\" class=\"data row1 col1\" >249</td>\n",
       "      <td id=\"T_fd747_row1_col2\" class=\"data row1 col2\" >+++</td>\n",
       "      <td id=\"T_fd747_row1_col3\" class=\"data row1 col3\" >249</td>\n",
       "      <td id=\"T_fd747_row1_col4\" class=\"data row1 col4\" >100.00%</td>\n",
       "      <td id=\"T_fd747_row1_col5\" class=\"data row1 col5\" >0</td>\n",
       "      <td id=\"T_fd747_row1_col6\" class=\"data row1 col6\" >0.00%</td>\n",
       "      <td id=\"T_fd747_row1_col7\" class=\"data row1 col7\" >249</td>\n",
       "      <td id=\"T_fd747_row1_col8\" class=\"data row1 col8\" >1</td>\n",
       "      <td id=\"T_fd747_row1_col9\" class=\"data row1 col9\" >0.40%</td>\n",
       "      <td id=\"T_fd747_row1_col10\" class=\"data row1 col10\" >+++</td>\n",
       "    </tr>\n",
       "    <tr>\n",
       "      <th id=\"T_fd747_level1_row2\" class=\"row_heading level1 row2\" >1</th>\n",
       "      <th id=\"T_fd747_level2_row2\" class=\"row_heading level2 row2\" >code_year</th>\n",
       "      <td id=\"T_fd747_row2_col0\" class=\"data row2 col0\" >249</td>\n",
       "      <td id=\"T_fd747_row2_col1\" class=\"data row2 col1\" >18</td>\n",
       "      <td id=\"T_fd747_row2_col2\" class=\"data row2 col2\" >+++</td>\n",
       "      <td id=\"T_fd747_row2_col3\" class=\"data row2 col3\" >249</td>\n",
       "      <td id=\"T_fd747_row2_col4\" class=\"data row2 col4\" >100.00%</td>\n",
       "      <td id=\"T_fd747_row2_col5\" class=\"data row2 col5\" >0</td>\n",
       "      <td id=\"T_fd747_row2_col6\" class=\"data row2 col6\" >0.00%</td>\n",
       "      <td id=\"T_fd747_row2_col7\" class=\"data row2 col7\" >1</td>\n",
       "      <td id=\"T_fd747_row2_col8\" class=\"data row2 col8\" >196</td>\n",
       "      <td id=\"T_fd747_row2_col9\" class=\"data row2 col9\" >78.71%</td>\n",
       "      <td id=\"T_fd747_row2_col10\" class=\"data row2 col10\" >1974</td>\n",
       "    </tr>\n",
       "    <tr>\n",
       "      <th id=\"T_fd747_level1_row3\" class=\"row_heading level1 row3\" >2</th>\n",
       "      <th id=\"T_fd747_level2_row3\" class=\"row_heading level2 row3\" >top_level_domain</th>\n",
       "      <td id=\"T_fd747_row3_col0\" class=\"data row3 col0\" >249</td>\n",
       "      <td id=\"T_fd747_row3_col1\" class=\"data row3 col1\" >247</td>\n",
       "      <td id=\"T_fd747_row3_col2\" class=\"data row3 col2\" >+++</td>\n",
       "      <td id=\"T_fd747_row3_col3\" class=\"data row3 col3\" >247</td>\n",
       "      <td id=\"T_fd747_row3_col4\" class=\"data row3 col4\" >99.20%</td>\n",
       "      <td id=\"T_fd747_row3_col5\" class=\"data row3 col5\" >2</td>\n",
       "      <td id=\"T_fd747_row3_col6\" class=\"data row3 col6\" >0.80%</td>\n",
       "      <td id=\"T_fd747_row3_col7\" class=\"data row3 col7\" >247</td>\n",
       "      <td id=\"T_fd747_row3_col8\" class=\"data row3 col8\" >1</td>\n",
       "      <td id=\"T_fd747_row3_col9\" class=\"data row3 col9\" >0.40%</td>\n",
       "      <td id=\"T_fd747_row3_col10\" class=\"data row3 col10\" >+++</td>\n",
       "    </tr>\n",
       "    <tr>\n",
       "      <th id=\"T_fd747_level1_row4\" class=\"row_heading level1 row4\" >3</th>\n",
       "      <th id=\"T_fd747_level2_row4\" class=\"row_heading level2 row4\" >subdivisons</th>\n",
       "      <td id=\"T_fd747_row4_col0\" class=\"data row4 col0\" >249</td>\n",
       "      <td id=\"T_fd747_row4_col1\" class=\"data row4 col1\" >249</td>\n",
       "      <td id=\"T_fd747_row4_col2\" class=\"data row4 col2\" >+++</td>\n",
       "      <td id=\"T_fd747_row4_col3\" class=\"data row4 col3\" >249</td>\n",
       "      <td id=\"T_fd747_row4_col4\" class=\"data row4 col4\" >100.00%</td>\n",
       "      <td id=\"T_fd747_row4_col5\" class=\"data row4 col5\" >0</td>\n",
       "      <td id=\"T_fd747_row4_col6\" class=\"data row4 col6\" >0.00%</td>\n",
       "      <td id=\"T_fd747_row4_col7\" class=\"data row4 col7\" >249</td>\n",
       "      <td id=\"T_fd747_row4_col8\" class=\"data row4 col8\" >1</td>\n",
       "      <td id=\"T_fd747_row4_col9\" class=\"data row4 col9\" >0.40%</td>\n",
       "      <td id=\"T_fd747_row4_col10\" class=\"data row4 col10\" >+++</td>\n",
       "    </tr>\n",
       "    <tr>\n",
       "      <th id=\"T_fd747_level1_row5\" class=\"row_heading level1 row5\" >4</th>\n",
       "      <th id=\"T_fd747_level2_row5\" class=\"row_heading level2 row5\" >notes</th>\n",
       "      <td id=\"T_fd747_row5_col0\" class=\"data row5 col0\" >249</td>\n",
       "      <td id=\"T_fd747_row5_col1\" class=\"data row5 col1\" >83</td>\n",
       "      <td id=\"T_fd747_row5_col2\" class=\"data row5 col2\" >+++</td>\n",
       "      <td id=\"T_fd747_row5_col3\" class=\"data row5 col3\" >85</td>\n",
       "      <td id=\"T_fd747_row5_col4\" class=\"data row5 col4\" >34.14%</td>\n",
       "      <td id=\"T_fd747_row5_col5\" class=\"data row5 col5\" >164</td>\n",
       "      <td id=\"T_fd747_row5_col6\" class=\"data row5 col6\" >65.86%</td>\n",
       "      <td id=\"T_fd747_row5_col7\" class=\"data row5 col7\" >1</td>\n",
       "      <td id=\"T_fd747_row5_col8\" class=\"data row5 col8\" >3</td>\n",
       "      <td id=\"T_fd747_row5_col9\" class=\"data row5 col9\" >3.53%</td>\n",
       "      <td id=\"T_fd747_row5_col10\" class=\"data row5 col10\" >A British Crown dependency</td>\n",
       "    </tr>\n",
       "  </tbody>\n",
       "</table>\n"
      ],
      "text/plain": [
       "<pandas.io.formats.style.Styler at 0x29dff2deaf0>"
      ]
     },
     "execution_count": 45,
     "metadata": {},
     "output_type": "execute_result"
    }
   ],
   "source": [
    "resu_cat(df_paises)"
   ]
  },
  {
   "cell_type": "code",
   "execution_count": 46,
   "id": "8f3c1639",
   "metadata": {},
   "outputs": [
    {
     "data": {
      "text/html": [
       "<div>\n",
       "<style scoped>\n",
       "    .dataframe tbody tr th:only-of-type {\n",
       "        vertical-align: middle;\n",
       "    }\n",
       "\n",
       "    .dataframe tbody tr th {\n",
       "        vertical-align: top;\n",
       "    }\n",
       "\n",
       "    .dataframe thead th {\n",
       "        text-align: right;\n",
       "    }\n",
       "</style>\n",
       "<table border=\"1\" class=\"dataframe\">\n",
       "  <thead>\n",
       "    <tr style=\"text-align: right;\">\n",
       "      <th></th>\n",
       "      <th>country_name</th>\n",
       "      <th>code_year</th>\n",
       "      <th>top_level_domain</th>\n",
       "      <th>subdivisons</th>\n",
       "      <th>notes</th>\n",
       "    </tr>\n",
       "    <tr>\n",
       "      <th>country_code</th>\n",
       "      <th></th>\n",
       "      <th></th>\n",
       "      <th></th>\n",
       "      <th></th>\n",
       "      <th></th>\n",
       "    </tr>\n",
       "  </thead>\n",
       "  <tbody>\n",
       "    <tr>\n",
       "      <th>GG</th>\n",
       "      <td>Guernsey</td>\n",
       "      <td>2006</td>\n",
       "      <td>.gg</td>\n",
       "      <td>ISO 3166-2:GG</td>\n",
       "      <td>A British Crown dependency</td>\n",
       "    </tr>\n",
       "    <tr>\n",
       "      <th>IM</th>\n",
       "      <td>Isle of Man</td>\n",
       "      <td>2006</td>\n",
       "      <td>.im</td>\n",
       "      <td>ISO 3166-2:IM</td>\n",
       "      <td>A British Crown dependency</td>\n",
       "    </tr>\n",
       "    <tr>\n",
       "      <th>JE</th>\n",
       "      <td>Jersey</td>\n",
       "      <td>2006</td>\n",
       "      <td>.je</td>\n",
       "      <td>ISO 3166-2:JE</td>\n",
       "      <td>A British Crown dependency</td>\n",
       "    </tr>\n",
       "  </tbody>\n",
       "</table>\n",
       "</div>"
      ],
      "text/plain": [
       "             country_name  code_year top_level_domain    subdivisons  \\\n",
       "country_code                                                           \n",
       "GG               Guernsey       2006              .gg  ISO 3166-2:GG   \n",
       "IM            Isle of Man       2006              .im  ISO 3166-2:IM   \n",
       "JE                 Jersey       2006              .je  ISO 3166-2:JE   \n",
       "\n",
       "                                   notes  \n",
       "country_code                              \n",
       "GG            A British Crown dependency  \n",
       "IM            A British Crown dependency  \n",
       "JE            A British Crown dependency  "
      ]
     },
     "execution_count": 46,
     "metadata": {},
     "output_type": "execute_result"
    }
   ],
   "source": [
    "# países com o valor mais frequente da coluna `notes`\n",
    "df_paises[df_paises.notes.str.contains('British Crown').fillna(False)]"
   ]
  },
  {
   "cell_type": "markdown",
   "id": "c71e4e77",
   "metadata": {},
   "source": [
    "<hr style=\"height:0px;border:none;border-top:1px solid #c0c0c0;\">\n",
    "\n",
    "- Resumo técnico."
   ]
  },
  {
   "cell_type": "code",
   "execution_count": 47,
   "id": "a92ee8da",
   "metadata": {},
   "outputs": [
    {
     "name": "stdout",
     "output_type": "stream",
     "text": [
      "<class 'pandas.core.frame.DataFrame'>\n",
      "Index: 249 entries, AD to ZW\n",
      "Data columns (total 5 columns):\n",
      " #   Column            Non-Null Count  Dtype \n",
      "---  ------            --------------  ----- \n",
      " 0   country_name      249 non-null    object\n",
      " 1   code_year         249 non-null    int64 \n",
      " 2   top_level_domain  247 non-null    object\n",
      " 3   subdivisons       249 non-null    object\n",
      " 4   notes             85 non-null     object\n",
      "dtypes: int64(1), object(4)\n",
      "memory usage: 19.8+ KB\n"
     ]
    }
   ],
   "source": [
    "df_paises.info()"
   ]
  },
  {
   "cell_type": "markdown",
   "id": "140a4931",
   "metadata": {},
   "source": [
    "<hr style=\"height:0px;border:none;border-top:1px solid #c0c0c0;\">\n",
    "\n",
    "- Visualização do dataframe com D-Tale."
   ]
  },
  {
   "cell_type": "code",
   "execution_count": 48,
   "id": "3fcd032f",
   "metadata": {},
   "outputs": [],
   "source": [
    "# dtl_paises = dtale.show(df_paises, name='paises', open_browser=True)"
   ]
  },
  {
   "cell_type": "markdown",
   "id": "6c1cdd7f",
   "metadata": {},
   "source": [
    "<img style=\"float:left;\" src=\"data:image/png;base64, \n",
    "iVBORw0KGgoAAAANSUhEUgAAAwUAAABzCAIAAABGlDlvAABO9klEQVR4nO3dd1gT5x8A8DcEEkYE\n",
    "CTMEiIyAEkWCIIhFRUARF1Jx1VGrxVEtiAt/WmcdoDKKFaW1dbRaF6MyHCBLQBSJo0ERASMjrDAk\n",
    "BHIh5PfH2TRCQEQwjPfz9Okjl7vL+7733nvfe9/3Lhg6nS7SsVNpfAYgCIIgCIKGJHkymVzaCkaM\n",
    "GCHrlEAQBEEQBMkGhslkfrU5jJEQLuuUQBAEQRAEyYacrBMAQRAEQRAkYzAegiAIgiBoqBs48ZCw\n",
    "NjuJwZV1KqDeVBEdGsmWdSL6FMIICWfIOhEQBEHQB/WXeKg26UpSdVcrsGMDL9TqErq3N3bslezP\n",
    "HTqxrnzj5LQgnCn8iG0YIU6hOX2Wok9WG7PB6bvo9wOWgjMLpv+YjrAjN2z45FCGnZlYgP6jN/bW\n",
    "O3JC22WZEeL0Lm0V0Rval4YE6Z8y02IQdDehTqGdB0Zdf/oZcJl/+n/tMd3Jyclp+uwlW88we3b6\n",
    "dF1EEARB/VjvxUPCAkaPu2/KoncHht/JrpX6IVJWEB/y5ZKQCnsbUnd2huSdOXgPEJAepqWHnsVf\n",
    "qKXRcPFpeV2u1swIXfDflY/um+xj0+dJ6zGiozs9Lzr9jcSiZ4nRDY6TbXAkzxMnPLt1OLqjd/fW\n",
    "V3Q9Tvzs0dNU0n2Sfegfu1FF9IbvP0d4gaSH+MWQ1v12Kzk5OfnWjYtHV9E6v/Ngx7wXvL735ycV\n",
    "EQRBkCzJf/QWQoSVz2Ay7hcUs7JfVPy7lM8pq6WsvxhB72YPzjsIl80qYMSfDGciABxfPPtPjWFY\n",
    "AADQtXG318WRxozmXPsxPIWNAABsVrkb/rtZWbTft6EMnPOuX3Y5a72XNi6XeWHvH8xqsGFtPBWH\n",
    "vAvQCKaOjqPN6C6O5kQc9qNz3B2MpGhkyv5VuB/9Y9NXjXHEAQAA4OZHhxwKT3qD4NRoCw4cWUVO\n",
    "8/vyKAOAaKdonNeJW+tpjBCntC+SfWwAELKTDu8ISWdxERzF2WffDncKFoCK6A0HOPOcWWdOp7MB\n",
    "wW59xJG5JAC4BX/96H8+u7YZR3Fet9PXg/pxRf4xiC7znI+eyWQtMKSIswnmBjkqAXbkhoNg5wlP\n",
    "EqhOP7o9MLGYC9RoHjv2r7MjMsKmnyGffRff5IQ6nadc/8mDCLgFkSEHz6ezGgBhzIIjh9674v67\n",
    "t4pQJ7/o/xY77rqx31mJyzjvv/svJhfBUZy3Hd7hTOqbI/hhFdEbDoCdP3uQhOykwzsCk1hA13Gb\n",
    "57Af06nXf/IgAgAAJy9y9+b3DpYYI9QpbVKyDx0A7rMz/j9cYTYA6nIfu5xQ7upbPnQAAMLODg/f\n",
    "d6WgGUfxOnJiPZ3wLHz691cQAJY4hdI3Xw+aRey7nHGqKxAbV7uO3/Am/scfQv+rwGMIzJPTN1xF\n",
    "AFjiFEbfej2I8td7f7oj/xaR9KorNe+fsT5DEAR17qP6hxA2I5vByH6VHRV+PjH7BYtTxma/+68W\n",
    "AaDg5JLpK47Gv/lwLxG3OOnMTu8lHtOnz17i7Xc0+hXamYNwK9jsBqLz8q3rli9Y4ExK3fddKBoM\n",
    "AUAZQyOiF0Ih68reUEYzAA3pUZlswGUzM6PPHPf/2mO6k8v02R5+V9Bxt2pWgTh5+elXYv5p5Ddy\n",
    "uH3Ta9ScHpcAHMfR6Y7uuNtRiWg/VzPjzPYLw9ZcSk5OvnXKveBYdAHRPeiSDw14BCUn31pPk9wB\n",
    "89cNJ7HLIuKTkxPPLsOe2RDGeJfQvOhcLd+Lt5Jv/eRRERKa1ABAdWLoXxrbLqFrpjGk96n1Fpzd\n",
    "ZGf2X/HM/7KJc5/yXsoZf/3ImnbiVnLy9QD7glQmAgAQvl/IQsAHAFSnXX414fCVW8nJt/ZTo/3/\n",
    "ZEr7OrpP8jsnFpFoG9c5EwA7xt+fMenEjeTkxEvrCCc3/Cp1w8+KdXVHYJV7RGLyrT9WcdIT32UQ\n",
    "SDtYHTWnh2yJp+64npx8K8iiID4PAe8GWOPji91P3EhOvr7NNGb3hTwAxqy7ddQDWPhcTE7u02AI\n",
    "AEAaSSMmBO7+K7ugVuLYNTNCvz+DVuAbwZMY239MqgW09beC5gLaxovJyUHuxPZ/vqdjaUjN+2et\n",
    "zxAEQZ36qP4hHIluRwIA2DjaTctOu51bwEUamYlJ+f8FQMib+KMrEqO/Cgpa3XmP+5to/+9Cmc0d\n",
    "9u6wav9MGtGYSlICOMA4+s1uiSsKxcXxXRcFN/3CmVcAAAC03Fc5kwABUPSHpZXV4miOHmSEcTWd\n",
    "BQAAOIKuxjA1C2dHEheQ7I1IRGMqiYAjEHAfk9/uqk2JSgLuQQ44ACa5q11JzK51n0EEL9LitRae\n",
    "dSACAICu+5FzXeyAkRipsfA3tOeD5LxyWdTiuOw1dEcAgJq7uyMRAIAzt6YDRmMzAFgAmvlcIQBY\n",
    "kvOOoL7IjiScwzyP4/5pz9bRxgAkJzWdvCzCov063GYEEQKC+dKgbZ3vSMt917+f0ie4cM8X1AJa\n",
    "Z+tyc0IPFq86sYYEADs7qcB99QkKDgBAtPNaqPFdGnMNrdMte0Ve6BKnUMkFtI2Sf9UyMlkuXy2g\n",
    "YAEAlAVfuYSf//eTjgdLrcPOX+SmGy48a0cAABDsFiw0FQ+H2c2bQcFhASBajDblsni9nqsuWaw7\n",
    "d87s8unwDadZQI3mssZn3QwqgZkWbbjsugMRAIAzWrBsSnhUDtd5Wrd7bzqWRlEnef+M9RmCIKgz\n",
    "Hz9eBgAAgEC2c19pB5oZoYuj0SW0NSd8tBKPBkYXIEjBn2fS5ga5a0nbEqllFiF0T595FiRdfRqR\n",
    "Fe69O54LAAAUj0UedmMIAAAgZEdv2h0veXtt4eFsBAAAoDk95HASeg9LnOGOjs4RDJ3XBTkDAJin\n",
    "v0RTg3PwObffnfiZBlbYabEMwtxVdCwAgDZpBuHK1UTWjAW44gIER+nWDipYBQiOIk6tLoUKEjlo\n",
    "9smk9j0DWh47N/+z45vpgVgKfdYqn+V2fTt+hKVNmgb8khjrxlDT45Kos1a1yxJ9ZZDjbv/Z7ogG\n",
    "bdLSNevczTu9XrIz/zhzLT6viMNuQICFD7+z9Sqi/Y+Drb84EwEAoIKVh0T7OUX/97FHn08Ms/C5\n",
    "KDEJhhHidOa9j1msZ+C/UVesRITd8WB1wH6/VuD+25pE7Bg8fUYEQ+dVB51XCRFWdvjBfRtCCDdW\n",
    "VReAZ9FfSoSGNNNGALodD3UoDel5/8z1GYIgqBM9jIdQrKuh0ehlW8154TQalUjb+ibN+3wtAIwr\n",
    "SSz3RdKiARyRNmUBbQoAAAAh64+9aDAEcA7LFqLBEOAywjaEPnvvqkeypGoAAABgng95Fw0Zemyb\n",
    "RX33sRDhVrMKGPHhkf/2tjNCF7scRQAg0t0nGeE0xi9bKmVyRC95kx6dB7h5G5yuihddiM9bsM6I\n",
    "ikO6d+3WpVBxCCJ+MK2CVQB0rdUAkDrgAgBp2q6z0wBSy7yy188bCbqxpm+7S2izlpG+jUv3so7L\n",
    "prtv6zBZlkBbFXR9lRBhpQT6rf0RH31EsqC5tWwAKACA2tv+X/9K2HYsYhuZgGOEOv3eyZcJ2dGH\n",
    "rtB+uPjvPDRdigVwX5681a7Xs9VjFMoYUCA+WMKPC89I79eKblaQzweLozj4rHKO9n/E3PUFFZhO\n",
    "uvjLgt6aH91Z3j9zfYYgCJLqE54vq4g++icL/SfNc5kdEQDAfVP8LiIhKjUwE/44utN7yZfTnd7x\n",
    "O5OenZ2ZzXhWwKpFAABI5oULxQAAAHDUBV85otdRbkqIf0wtAIBg7uxs8e9VUYuAVBQw4kKOXX+3\n",
    "f9rcBXZaAACEnX4lPMxvxWJvv8Dogn9bWKQZbWxJJByONGXBgr4LhgBgxl5g2Wy9nix2fasNNz6F\n",
    "CUZOcq++fCWzFgAAKpJ+XHE0GwEACwDg1HIBt0JypgbdxZNz+XwSWwiAkJ30+wXW3Jl2Sp18X1n6\n",
    "HwnMWiHAqVGo+n0y/NeeoZ07OT0uLJE5bZ5L+4LkMiP/yC5DABZHoZqhF05dQxozKZ0lBEDIio99\n",
    "9yxdY8UbnONMZ0MCDiDsMlYn38RlhG1OnHJ83X9DciQ7Z1rin38UNAAAQG3elaN/Fsg6hCDaTaEl\n",
    "/nkFzeCVPxM/bmu0VmRzAQDc7CuXX3W5MhbgGjhcIWBX9Om0GoQRssT7ZDYLHcKuSLqTg3McQwW0\n",
    "SR7Vl88ksQEAAGEnnQxNR2fmYXG1DVwgZLNrpf3ZBal5//z1GYIgSJoe9w8h6b+HM9FLk9GCdZ4U\n",
    "HADcZxcupKOfqrz82WeD4P0tcAVJ99j2nnYUcxIBAABY0b+/6+shzVq30AIHAABl0f7/DocBUPHm\n",
    "1buZSYywr2eHqRvovC1B96nmvmwaevHFkRwcrfPS0tVwoAHdDkdxcHEcZz3ayNDQmEJS6+MWVshI\n",
    "jEGcd0nGCUT35QvCt0Slr9y1KmBZyKHFTjsRnBptwZ4jdjgAtCbNcwz/cfZ0In1dUJCHeBva6hPr\n",
    "D+/wdv8Rfb7sxEa6lHSjiwi6hEcHV4SwuAiOMGbBkfWf4Waa4rKIfuYww3H/kQ6pIhB1G898P9u/\n",
    "FgFKFOcdh53VAJi2bmmKv7dLODB03+XlAm4DPAAkz63u3/k7OSE4NdqCaUSABXgA2g+ZVSeeiWEz\n",
    "wRKnMPRvms+lEx5z9++v2O234AwXwRGMHH0PLJD5NZM0d+e2vB3eLuHA0HnbLBeQIm2lzlKpRF91\n",
    "wN3/hy+dmnG0RevcLUCHpw/wQDxgZOmyQOjn7R5NmbHrhK9dnz13haMv8rELC9/g4c9FAFCi2H0V\n",
    "tMuZAAB9VcCykENfO/2IACUi3Wv/fi0AAKA7LwCbvKfHUNy3nfBxILz3p3Fn3wAA6CTvMqjPEARB\n",
    "UvT091wrojcsDmUCAACOtvHsCU8SO+no5sB49GEwwlTfvU6iBwlpDA6XSKVRjUZbU4m1LMRimh1J\n",
    "fJ3IP7Nk7R9sAACgLPjpxDpTDjMl8cL5K9kVHe7/cQSKzSQ6qTHzenoVAAAA2sqzQcspklcc5snZ\n",
    "G65yAQCURSdOrOni5SkQ1JuQlB+nP3BN3taz8TzWH0sP4gIiFpB7OVUDwVDOOwRB/VEP+4eYMWf+\n",
    "fe6ZREXi/Rf/F8fgzBfsWjt3nBYY94XHe9uMkfwDSY+8gj5dQnRetpDMPLrCP/7f91Pj1EgaxhaO\n",
    "am+upBQAAIDjtohdtMSt/86VNl3l89V7wRCoiA6/it5m27lYsaLD4v9hMt5w+RyE5Dhj3sK5ztS+\n",
    "fVoZGqqE7MQ76ZQxy3q2NZcRn1htuGpIVs6hnHcIgvqnnsRDSC2D8d9bYFjRp8XTQXBUr207lztT\n",
    "Ptg/05Aed/vdWJm9K51IJK7b7J7mH88FgDht/y/bHIlYwI7ccCUFAICjWZiCnAvh737XAkf3dKY0\n",
    "swsK3tQ2c9l5rxFDe408cXCWfcY/W+JrapPOM5MSojw8J1HJji6OJJkPtUCDADc7dMPheFYDAgCO\n",
    "SF+wf1b3niJ8hxW91S88pxYBAKdGcdx82LGziWKD0FDOOwRB/d1HxEMIl8WMvRB+Nf29l7YBAADA\n",
    "EemOU6wnzHB3Nu3WHR83+w4athBm+KyzI4Jmxpnj8VwAcGOW7lrtiD4nX1uNhlka9ga10TcT/51m\n",
    "gWQHLpke+O4PvLqWatv12ob/3mVEIBC4CKDYTHIcZz16pCmNrIEjEProndTQ0ESw8zkb7dPTrSke\n",
    "R6979GJqBpKhnHcIgvq7bsZDCCszPTEu8I/M9yMhJSKV7r5wpbsdmUT4iFs9bvZdNByieMyiEwBA\n",
    "3tQSHGnUYvqqHavo795ahNRWcAEAAAfSdm4oaDc1G+CIeur6Rsa8ovxydrMQAIAj2U1ztreyptGo\n",
    "FC0YAEEQBEEQ9BE+FA8JuaxXBcyc3IK89GwWxW4WjaRLtVfKDQxLqrVYGhGwqic/NoQwshh2znMp\n",
    "1pNd7M1xAACcufNCHhi9yNnuv1c44nBogKWuyn3LBgIA3vVCUYaRrSfRDGmmFDToYYR8uTsJsfM9\n",
    "scsZTkaAIAiCIKgnPhQPYQkUczrFnA7AKvEybhKbakMhLVzYw19ebODgPZetWk4lKv03n4dAd273\n",
    "iI6hERWAAjDa3bM0/+d8AHB223450j7maU4v0D1y7g8Ksa+fq4cgCIIgaPDqyXxqgrO7/bNhdh/5\n",
    "U/b/Ibr7rMThPhTAkLzWeZz0yzYc6zbTIyeuUcNwmWPHDiCcnYcXDo6OQRAEQRD0KXr0fuqyPPCF\n",
    "e89/Zgj74WAIAAAA3eeKjwUABLrPMqNh9rMoUjbCwmAIgiAIgqBP1aP3D5GdPT7PW9S0PLZ5AYAw\n",
    "C5Rc3OHsIAiCIAiC+sYn/Z7rZ4BTAgDQPDxlnQ4IgiAIggavd/FQUVGRbNMBQRAEQRAkK//1Dxkb\n",
    "d/ZjjL3m6tWrAAAvL6++/iJUdXX1h1eCJKSkpAAApkyZIuN0QBAEQdDn1d/Hyz6RlpbWh1eCOoDl\n",
    "1ivQiHxQFuYgzhoY7LnrC7DEoIGuurq6R8+XQRAEQRAEDSIDOx4SiUQZGRmLFi1ydXUNCgpqaWmR\n",
    "dYogCIIgCBp4BvZ4WUlJycmTJzdu3GhjY5OXl6egoCDrFEEQBEEQNPAM7Hjo+fPnmpqaVlZWeDye\n",
    "TqfLOjkQBEEQBA1IA3u8rKmpqbS09Ntvv3V2dt63bx+Px5N1iiAIgiAIGng+Oh7KyMhYu3Ztc3Nz\n",
    "X6SmBxAE2bFjx7lz554/f56eni7r5EAQBEEQNPD0pH/o9OnTysrKVlZW+fn5vZ6gj6KlpaWgoKCo\n",
    "qCjbZEAQBEEQNKD1fP7QkydPRo4cCQC4d+/exIkTey9JH8HOzs7Z2Xnjxo1CodDNzc3R0VEmyYAg\n",
    "CIIgaEDreTw0duzYy5cvm5ub92JqPhYOh/vuu+++++47GaYBgiAIgqCBrifjZWvWrOHxeI8fP5Zt\n",
    "MAT1lkXRAHMILIqWdToGhUFcmDLMGoIg+/fvj4mJ6buvGMQHro/AEoMGunZ1+KPjoYkTJ546dUpJ\n",
    "Sal3kzXI3Lx5c8eOHbJ6P2RhYaGHh0dkZKRMvv0TNTQ0rFu37uHDh7JOSD8VHBy8YsWKuro6WSek\n",
    "U31xBF+8eJGRkSEUCntxn7ISFhbm4eFRWFjY2Qp1dXUrVqwIDg4GADAYDFdX187O5a4/hQaTkpKS\n",
    "b7/9totqA326gf3+of6pqakpISFhAIWMf3mAvzwAAODqVRmnBADw+PHjFy9eyDoVPScuzMGnm1nr\n",
    "iyPI5/MRBOndfbbz2Q5ca2tr91em0+l37tzp2ad9bRBX9X4oJSUF/kJ5r2tXh4d0PMRkMk+cOPHy\n",
    "5UsFBQVXV9d169YpKytLLpw6daq3t/fw4cNzc3O3bt36/fffz5079/Xr135+fk5OTt7e3vv378/P\n",
    "zzc1NX306JGysvLmzZvHjh27ZcuWV69eAQBmz54dGBiorq7u5+eno6ODIAiBQFi5cuUPP/ywZMmS\n",
    "xYsXl5aWbt68+Ysvvti4caPUFNbX10dERNy9e1cgEJiZmW3bts3IyKjdwg0bNtBotNbW1osXL168\n",
    "eFEoFFpbWwsEAnQPfD7/woUL165dk1z504sO3W10dHRTUxOZTPbz87O2tm63cN26dQ4ODuhIB5vN\n",
    "DgoKGj58eFhYWHJyclBQEAAALRahUFhQUDBq1KgffvghNzf32LFjAIBt27Z98cUXu3btYjKZW7du\n",
    "tbW1LSgoGDdunJycHJPJPH78uLa2dkRExM2bN4OCgkaMGNExheghs7W1ff36dXV19RdffLF582ZV\n",
    "VVXx8ZWTk7OxsdmyZYuGhga68tixYwsLC4VC4cqVK0tLS2NjY5WVldeuXevm5obBYJhMZmhoaEFB\n",
    "gYqKioeHx7Jly/B4/GcoQAwGU1xcfPjw4YKCAmNjYzm5d326IpEoMzMzLCyssrJSQ0Nj2bJlM2fO\n",
    "lJeXfkZfunTp4sWLx44dMzc3v3XrVmBg4NGjR62trXuc/i7s3bsXSBxBAEBntSI/P19XV/f58+fq\n",
    "6uobNmyYPHkyBoP54P7r6+tPnz6dmJgIALC2tvbx8dHR0QkMDMzLy0MrxoULF65cuYJmti8yKJW4\n",
    "XrW1tSkrKx89erSlpaVjo4Ge6QKBICIiIjc3F4/Hf/311x4eHlgs9ubNm6dOneJyuXQ6vaGhAd2t\n",
    "uOUxMzPbsmXL0qVLFy9eXFlZuWnTJisrKxcXF/TTOXPmZGZmhoeHl5WVAQBIJNLx48d1dXXFCyUr\n",
    "bVhY2O3bty0tLR89egQA+Pbbbz08POTk5DrugUQifbYCHGo6a6CkNgLh4eFXr14FAKxevdrLy2v9\n",
    "+vUdzwI9PT3xpYHP5wMAVq5cuXz5chnnc0AZ2O9j/BQVFRWHDh0iEAgxMTEhISEsFqu6urqqqurI\n",
    "kSPihQ8ePPjpp58QBBEKhW1tbWh3Pfrv1tZWkUgkFArr6uqmTZv2999/jxkz5rfffhMKhYGBgYaG\n",
    "hnZ2djdu3KDT6ej6paWlvr6+oaGhJiYm+vr6//zzD5/PLy8vr6mpsbS0lJrC1tbW06dPZ2ZmhoSE\n",
    "xMTEaGtrv3jxQigU/vLLL+KF6urq+/fvLykpefbs2Z9//rlkyZL4+HgSiSR+NWVkZOTVq1d37twZ\n",
    "Hx9vbm5+5MiRqqqqdl/0sfMARCLRtWvXrl69un379ps3b9rb2z979kwoFKLfhS60s7M7cODA06dP\n",
    "0VISCoUikQjNFFqSaLG8fft29+7dv/32W1VV1eXLl93d3dELRmBg4IEDB/B4PLpaSUlJaGjo//73\n",
    "PzqdXl5eXlpa2tLSUlRUZGBg0NlPaqMbNjc3R0REBAQE3L9/H2076uvrzc3Nb9y4ERQU9M8//1y7\n",
    "dg1NYVtbW2Nj4y+//OLl5XXixIny8vLr16/b2tpeuHChqqoKrRhqamo3btw4duxYbGxsZ4MU3SzM\n",
    "7hcggiC///57U1PThQsX/P39xfeIL1++PHLkiL29/c2bN318fMLDw7Oysjr7OhqNhiDIixcvRCLR\n",
    "8+fPdXR0yGTyBw90z7LW7gh2USvq6uo8PT3//vtvExOTiIiI8vLyD6YBrf9ZWVlhYWFRUVFtbW3H\n",
    "jh3j8/nW1tbiisFkMo2NjfX19fsid525ffv2mzdvQkNDk5OT4+LiLCwspDYa6Mo8Ho9Go8XHx7u4\n",
    "uPz666/5+fklJSVnzpyxt7ePj4+fMGGCOB4S70RfX9/Q0BBtN1gsVmVlpZ2dnfhTPp9/48YN9KYo\n",
    "OTn54sWLJBIJrSE2Njbo8P21a9cuXLggEolaW1u5XK65uXlsbOycOXMuXLjw+vVrqXvo0xIb4jpr\n",
    "oKSeL+vXr58zZ46amtqvv/66fv16qWcBj8crKChISEhYvHjx3bt3k5OTYTD0Qe3q8H93k1c/12DJ\n",
    "q1eviEQikUj8PF/Xmfz8/PLy8gULFhAIhJEjR/70008AgNTU1NLS0vnz5xMIBBMTkzFjxjx+/Ljr\n",
    "ZlpHR4dGoykpKWloaPzzzz91dXVSs0aj0ahUKgBg2LBhdDo9JSWlvr7+8ePHOjo66GsLOuJwOE+e\n",
    "PKHRaEZGRng8ft++fQCAyspKBoMhXjh58uSsrKzc3Ny3b9+2traOHj1aQUFh0qRJN27cAAA0NTXd\n",
    "v3+fTCaPGTMGj8fb29vHxMQ8f/5cW1v7U4qOx+M9ePBAvNsNGzZ0/K7JkyfHxsampaV1fY8+evRo\n",
    "Eon09u1bFRWViooK9LamI1tbW/T6TaPRNDU1mUymtrZ2cXHxrFmzVFRUuti/jY2Nqqqqurq6kpIS\n",
    "i8UCAEycOBF9PYS+vj6RSCwuLhZ/qa2trba29rBhwwAADg4Oqqqq5ubmWVlZtbW1VVVV4opBoVCo\n",
    "VOr9+/fnzJnT9bd3ofsFqKur++rVKyMjIzTyo9FopaWl6B54PN6kSZPweLyFhYWWlta9e/ccHByw\n",
    "WGzHrzMyMjI2Ns7Ly5s0aVJ+fv6YMWM0NTV7lvKP0nWtQM8dFRUVOzu7Bw8evHr16oNRWk1NjWT9\n",
    "Hz9+/NmzZ1ks1qhRo9TV1cUVw9nZuceHpmdGjRoVGxu7adMmS0vLb775xsLCoouVlZWVbW1tFRQU\n",
    "Jk6cGBMTk5uba2hoyOFwLCws8Hj8uHHj1NXV221CIBCsrKxSU1PRdkNTU9PExITNZqOf4vF4U1PT\n",
    "7OzslStXTpgwYdWqVfr6+pI1xNLS0sjIKDMzc/78+eIEyMvL6+rqNjQ01NbWGhsbd9xDH5UVJNau\n",
    "gersfBk7dqzkVp2dBbq6utra2mfPnr1z587ixYtdXV1xOJyssjYQyWC8LD8/X+NfMoyKOBwOAEBP\n",
    "T6+zhQoKCqqqquI7vM4oKCh0p87p6OiI3xtpa2sbGRlZUFBQVFRkbm7eWSFwuVwej6epqSk5LtNu\n",
    "IbqtUCisqakZNmyYmpoaAEBNTQ29qCMIUl9f/+bNm3nz5rXLo6SPnT+E7pZEIkm+CbPdQhUVFSUl\n",
    "pQ9OlVBUVJR6/W7H0NAQHUnR1tY2Nzd/8eIFhUJpaGho10x01PGiyOPxoqOjb9++XVJS0tbWJnkT\n",
    "LBkioHUAi8XyeDwul4sWWkhISEhIiDhJCIJ03H83J1V0vwDbHXFNTU00HqqpqWlra9u8ebN4D2Qy\n",
    "WSAQSC1P9GqanZ1dWFjIZrPRAZoPp7JHWZPUda1od+50rJkdoaWRmZnp5uYmudDIyMjU1FRcMezt\n",
    "7T8uoZ88G8bFxaW5ufnMmTO5ublMJnP//v1djP21y3hNTQ1akdBaJz5/JWEwGDqdfu3aNbTdsLCw\n",
    "0NHREcdDGAxm2bJlbW1tV69eTUlJefbsWWBgoGSboKCgoKamxmaz0W7ajq2W1D0YGxt3kWU4f+jT\n",
    "tWtAutmKdnYWjBo1avfu3UFBQUVFRceOHWOxWGvWrOnBmT50dDp/yMvLq6+/u7a2tqamBv0/h8OR\n",
    "bVSkoaEBAGjX9yO5UCAQvH37Vk5ODovFYrFY8bwNBEHEs3N6hkKh6OrqPnjw4M2bNytWrFBQUJC6\n",
    "GoFAUFZWrqmp4fP54pCo3cLa2loAABaL1dTUbGxsRLvZGxoaGhsbAQA4HG748OFYLBadu/MpaZaE\n",
    "7raqqqqlpUV8RW+3sKmpqbm5WV5eHoPBiE9IoVD4ic/c4XA4KyurqKioBw8eGBkZGRkZfdTmCIIc\n",
    "O3YsMzNz06ZNdDp969at3dwQrRi+vr5z58796ERL0/0ClDziAICamhp0fU1NTTk5uW5OA0Kvpjdv\n",
    "3nzw4AEej++VOWTd0Vmm0E8FAoHkLGm0kLuGlgaNRtu9e3e7+Vvjx4+/du3a7du3DQ0NDQ0Nezcj\n",
    "HyQvLz9v3rzZs2cnJiYGBwdnZGRMnjy5s0ajXcY1NTUlWx7x+duOqakpmUxOTEwsLi7u2G7g8Xhv\n",
    "b+8VK1Zcvnz5999/R/uQxG2CQCBoaGjAYrFdRGkd99B1PAT1uq7PF7EuzgIajfbrr78WFxfv27cv\n",
    "Ozt78eLFHfsaoc7IiZvXz4BIJJqZmVGpVDMzMyKRWFNT8/Lly5cvXxYUFKDX9c/J3NxcT0/v3r17\n",
    "XC63oqLi+++/f/jw4ahRo/T19dGFhYWFz549s7Ky0tPT09bW1tTULCgoEAgEDx8+7PqHY9E6zePx\n",
    "+Hy+1B96U1dXt7Kyunv3LgBg1KhRne1HQ0Nj7NixTCazuLgYQZATJ06cPn1aXV2dTqejC7lcbmpq\n",
    "qra2trW19ejRo+Xl5f/55x+BQJCWltbW1gYAUFZWHjNmTFlZ2bNnz9D7Qqk+dh6AsrLy+PHj0d22\n",
    "tbVdv3593759WCzW3t4eXcjn81NTUzEYDNpXT6FQamtr2Ww2m83+559/ut45emFobGzk8/lSu5fG\n",
    "jh3b0tKSkpJiZWVFIBC6m2gAAAA8Hu/169dmZmYODg6NjY1NTU3d3NDY2FhbWxutGF2v2c3C7H4B\n",
    "qqurm5qaopMu37x5w2Qy0T1YWloqKCikpaV188ErU1NTNTW1O3fumJub92zAtJtZkzyC6Chtx0yh\n",
    "a1ZWVjKZzKampuzsbBKJZGpq+sE0qKurjxw5Eq3/7T6i0WgtLS2PHz+2sLBAO0X6Inddk5eXJ5FI\n",
    "6DhUF40Gj8d7+PChQCDIyMjA4/HW1tZGRkYaGhp5eXl8Pv/Ro0dS36egpqZGo9FycnLa2to6G4bG\n",
    "4XB6enpycnJaWlrjx49XVlZOS0vj8/lPnz4tLi52cHD4YMlI7qHrNeH8oV6noqLS2fmiqakpEAia\n",
    "m5ubm5uHDx/e2VkAAMBgMBoaGqqqqhoaGp/yzMdQ0H7+0OeZRiAJ7RPicDgcDkeyr0hTU/NzzivS\n",
    "1dX93//+d+LEiblz58rJybm4uFCp1OHDh/v7+6MLxc+X4XA4Mpn89ddfnzp1KjEx0dbWlkAgiHs+\n",
    "xLdc4iheRUVl5syZERERnp6eHh4es2bNkpOTk4zxMRjMuHHjbty4MXr06C6uTPLy8mvWrMFgML6+\n",
    "vnw+n0ql+vj44HC4b7/9ViQS+fr6oo+M7d6928DAgEQiffXVVxcvXrxw4YK1tbWysjL4tw8cABAQ\n",
    "ELB79255eflp06Zt2LDhE98FgMFg5s+f39zcHBAQ0NTUpKOjs3HjRjwe7+np2dTUhC4kk8k//PAD\n",
    "OlX8yy+/LCws3Lhx44gRI1RVVZubm9EeI3GxSPYhWVpaOjg4HD58WE1NLSAgAO2Zk+zyJZFIBgYG\n",
    "T548odPpXdzsSm4o7t5TU1Pz8vI6deqUp6ensbFxa2srevgkV27Xg43D4fB4vIGBwe7du9GKgY6y\n",
    "+fn52djY9LgMu1+AGAxm5cqVhw8fXrZsmbGxsZaWFhoAWVpa/vDDD+Hh4dOnTwcAmJqa7tq1i0Kh\n",
    "dPaN6NU0Pj7eysoKHSspLCzcvHnz5MmTN23a1NLSsnfvXjabHRISoq6uHhkZGR4eHhgYSKfTPzZr\n",
    "7Y6g1EyhfV3Dhg2Lj48/ePAg+nxZu8FrSeIDhMPhvv/++4iICPSkUFJSWrRo0ZIlS+Tl5Q0MDEaM\n",
    "GPHkyRP0oTwAwMOHD7dt27Zx40ZPT8+6ujpfX18SibR3715FRUW0C+f48eNdlFj3tbW1/fLLL1FR\n",
    "UWgI6OrqOnv2bBUVlY6NBgAA7fPLzc29cOECHo9fvXq1ubk5FotdtWrVqVOn3N3d6XS6OGppV43R\n",
    "6fOjR49GJ1qJP21ubj5+/Hhqampra6uKisqKFSvs7OwUFBT8/f3Dw8Pd3NxUVFTmz5+/bNkyDAYj\n",
    "Ly8vuU/0i6Tu4dNLBuqM1AYKANBZKzpp0qTMzEwfHx8TE5NDhw5JPQseP3586NChuro6OTk5MzMz\n",
    "Hx8f9EIAdROGyWR+tTns+s9bZdI1ypGARrW9OIJWXV39wVscWUEvRcuXL/f09JR1Wv6DzqmfMmVK\n",
    "vy03VHBw8JMnT4KCgmQ+K79r6LNg/acwIyMjz58/f/z4cRMTk0/c1SdmrV349YmJ6XX97cD1f7DE\n",
    "oIGuurpaxu8fQqOffjWv6DMQiUSPHz/G4/G2trayTsvAU1VV9ezZsy+++KIfXkf7Mx6Pl52dbW1t\n",
    "bWBgIOu0QBAE9TtS4iHJN/vNnz9/1apVaDdvdXX1//73PwsLi02bNpWXlx8/fvzx48cEAkH8wroe\n",
    "JwIdJuNwOOj/B3dUVF1d7evry+Vy165diz7RGhwc/Pfff3dcMzAwEAZM7Vy6dOnXX3+1sbGZN28e\n",
    "BoNBu9nEL2sRs7OzQ4dFZJJIWUE7XbKzs9stV1NTW7p06c8//0ylUteuXdsfHsFtN9aMgkcTgiAZ\n",
    "khIPZWVlMZnMa9euFRYW7tmzZ8KECZaWljweLyQk5NWrV+h7Na5fvy4QCKKjox8+fHj69OkxY8Z8\n",
    "+ssq+sm8or6mpaX1559/Si7ZtGnTpk2bZJWegWXx4sWLFy8W/2liYhIdHS275PQvioqKR44c6exT\n",
    "9MUz/QQejz948GC7hfBoQhAkQ1LiIXt7e1tbW0VFRfF9pFAoPHv2LABgypQpkmuKRCIej1dVVcVm\n",
    "s3vr5V3iqGgo9BVBEARBENQfSPm9DgUFBUVFxerq6p9++snFxcXCwuLBgwc5OTkbN25UVVVF15k1\n",
    "a1ZLS8u8efPi4+N78GjrB2loaJiZmZmbm5uZmWloaMj2yXwIgiAIggY36fOpq6urd+/eTaPR1q5d\n",
    "Ky8vf//+/eLiYslxik2bNkVERAAAXr9+vWfPnj6a2Tqk5hVBEARBECQrUuIhDofz448/WlhYeHt7\n",
    "ozOpxRNcgoOD0T95PB6LxaJSqQ8ePNDQ0OjixSGfbojMK4IgCIIgSFakxEMxMTFPnz59+vSp+Be8\n",
    "Oz7oVF1dHRwcXFBQQKVSd+zY8Rle+gTnFUEQBEEQ1EekxEPffPPNN998I3Vt8WNQFAoFHS/7zIbm\n",
    "+4ogCIIgCOpTMn4fY8/AeUUQBEEQBPWiARkPoeC8IgiCIAiCesV/8RD621UDHY/HKykpkXUqBraU\n",
    "lBRZJwGCIAiCPisp7x+CIAiCIAgaUv7rH3JwcJBhOqD+IDMzE3R4CzkEQRAEDXrvzR/S0NCQVTp6\n",
    "HYfDAYMrR5+TlpaWrJMwGFRXV4NBWpiDOGtgsOeuL8ASgwa66upqOF4GQRAEQdBQB+MhCIIgCIKG\n",
    "OhgPQRAEQRA01MF4CIIgCIKgoQ7GQxD0AS0tLX/88UdLS4usEwJBQwI84yCZGBjxUHZ29sqVK1ks\n",
    "FgCAz+efPXvWw8Nj9uzZe/bsqa2tlXXq+perV696eHg8e/ZMvOTRo0e7d+8WNy58Pn/v3r2PHj2S\n",
    "UQJ7B4/H8/PzW7duXUNDQ19/V1lZ2evXrwEAhYWFP/7440BpprOyspYsWYKmnMPh7Nixw9XVde7c\n",
    "uQkJCSKRqK6ubsWKFU4SfvjhBz6fj26LIMj+/fvDwsJkmYF+7OHDh/7+/mhNYLFYmzdvdnV1dXJy\n",
    "WrJkyc2bN9F1EASJiopasmSJk5OTm5vbvn37SktLO+5KJBLdvn170aJFTk5O3t7eTCZT/JHkEWxt\n",
    "bY2JiZk/f77kalIXttt5RkYGuvOlS5fm5uZ2lqNLly65ubk9efJEah4BAHw+f+fOnQ8fPvyUsuom\n",
    "8Rn3QXV1dRs3buzmyh8UHBzcgwyKpaenu7q6iiuAVAOrDUFFRkZKbQoQBImLi1u6dKmTk5Orq+vm\n",
    "zZuLiop6sP+6ujp/f/+6urqP3bClpcXf3/9TDlk7/f33OoRC4ZUrV9AaJhQKRSLRpUuXamtrL126\n",
    "hMViIyIizp8/v3HjRiwWK+uU9gsNDQ2ZmZkGBgYPHjwYPXo0BoPpuI5IJGpra/v8aetd+fn5FRUV\n",
    "8vLyRUVFdDr9o7blcDg//fSTr6+vurr6R21oYmKya9euj9pEJoRC4cWLF+Pi4kQikVAoRBDk559/\n",
    "1tPTi4uLKy0t3bt3r56e3tixY8+dO4eujyBIWFjYzJkz8Xg8uiQzMzM1NXXWrFmyy8TAwOPxwsLC\n",
    "7O3tAwIC5OX/a05bW1sjIiLy8/MPHz5saGiIIEhsbOy2bdv27dtHpVIl9/Dq1aukpKTjx4/r6eml\n",
    "pqaeOnXq0KFDysrKkkcQAJCYmBgXFxcaGqqnp8dmsxUUFDpbKOnp06dnz549cuQIhUK5d+/eiRMn\n",
    "jhw5oq2t3W61+vr6e/fuGRoa3r9/39LSsrN2A01Jf/MpCetxU9ARgiB37twxMzPLzMycOnUqDof7\n",
    "xB32K62trR2XoDX84MGDhoaGQqHw7t27ERERu3btIhAIH9xhUVHRX3/95efnp6ioqK6ufuTIkb5J\n",
    "+Mfp7/1DWCx20qRJR48e1dTUBAC0trZiMJi5c+cqKSnhcLgJEybk5+dzuVxZJ7O/KCgoaGlpmTdv\n",
    "Xk5ODvpGkEFJJBKlpqba2tpOmDAhMTERbQ3b3b+K72lKS0s3btzo7Oy8aNGijIyM169fr1mzJi0t\n",
    "zdPT8+TJkwCA4ODg2NjYdevW7dy5s6WlJSMjA73j8fb2Li4ulvxe8b2d+L7c2dl5+/bt6Muu+g8s\n",
    "Fuvk5BQaGoq+D6axsZHNZs+YMQOHwxkbG7u6uqalpUmun5CQYGxsbG5ujv5ZUVERFRXl5uYmg6T3\n",
    "nvr6+sDAQDc3Nzc3t/Pnz7e2tnZWQz4Fn8/n8Xh0Ol0yGAIAFBYWZmVl+fr6UigUDAaDx+M9PDzo\n",
    "dHp0dHS7izeVSg0ICCCTyRgMxsDAoLm5uaGhod0RbGlpSU1NXb16Nbqanp6elpaW1IXtksflcmfO\n",
    "nDlixAgMBjN69Oi2tja0jyo4ODg4OFi82suXL5ubm728vLKzs/uu3airq9u+fXtMTMyXX37p6up6\n",
    "+vRp9CpbX18fEBDg6uoqPlLiTXJzc3fs2IH2poi7gkQiUUJCwty5c2fNmnXjxg3x3d2rV6+8vb2d\n",
    "nJwWLVqE9oS1trZeu3Zt1qxZrq6uAQEB9fX1kulhsVjtmgIAQElJia+vr5OT0/fff48WBYIg586d\n",
    "c3Nzc3V1PX78OI/Hk5q7kpKS169fe3p6slgscbvB5/PDwsLQSvjrr7+i/a8Igly/fn3WrFlubm5/\n",
    "//032lkrLpmFCxcymcyUlJS5c+d++eWX4h673NxctF1atGhRTk4OupW/v39cXNysWbNiYmJEIlFO\n",
    "To64o7Fd2wX+7Sxs17h1dlA4HM727dudnZ23bNlSWVnZMb+FhYUPHz7cunUrWsPl5eWnTZt25MgR\n",
    "AoEgtXmMjIw8f/78nj17vvnmm/T09DVr1ty5c2fGjBlxcXGS/UMdD2K7bHavrvVQf4+HAABkMll8\n",
    "36OgoLBixQoTExP0z5qaGgMDA2VlZdmlrh8RCoX37t0zNze3srKSl5dnMBiyTlFfqa6uzs3NtbGx\n",
    "sbe3ZzAYZWVlQNptInpiR0VFOTo63rlzZ/v27c+ePTMwMAgICKDRaJGRkevXr0fXvHv37q5duw4e\n",
    "PNjc3Pz48eOgoKC7d+/OmTPn/PnzAoGgYwLKysqqqqp+//33xMRECoVy/fr1vs/0x9HX1xffoTY3\n",
    "NwsEAvFNv6KiYllZmbjHvqSk5MmTJy4uLugKra2tV65cmTp1qvgsG6Du379vbW0dGxt76dKl+/fv\n",
    "5+XldVZDPoWKioqurm5oaCiDwZCsKi9evNDT09PT0xMvwWKxjo6Oz58/b2xslLorBEGysrIMDQ3R\n",
    "/pt2R7ChoeHp06eLFi0SX9qlLmy3z4kTJ3p4eKD/bmxsxOFw6M43bdq0adMmdLlQKExNTR01apS1\n",
    "tbW8vHxOTs4nlkkXKioqWlpaLl++fObMmaysrLy8PKFQeOHCBSUlpdjY2MjIyLKyspcvX4rXR8cE\n",
    "xH+iR/Dly5eXLl0KCAi4ceOGiopKRUUFAKCmpub48ePLli1LSkras2fP6dOnS0pKSktL792798sv\n",
    "v8TExKioqLS7rlMolI5NQVZW1r59+27evKmrqxsVFQUAiI2Nzc/Pv3z5cmxsrIKCwsWLFyWTJPbg\n",
    "wQNNTU1ra2sKhZKSkoKuw2QyS0tLr1279ueff9bX16OD+8+fPyeTyX///XdAQACaZbRk+Hz+1atX\n",
    "16xZs3379tra2qioqJUrV165coXP55eUlJw+fXrz5s13797dvn37yZMn0ZGpmpqa0tLS69evz507\n",
    "t6io6OTJk3v27ElKSlq2bFlISEi7uQT19fVSGzepB+W3337T19dPSEjYsmWL1GHWFy9eaGtrS30D\n",
    "Z2fNY2pq6qJFi86cOePo6Hjo0CE7O7uEhISZM2eKN5R6ENtls9O61RsGQDzUmcLCwqtXr86ZM6dj\n",
    "L/HQVF5enpub+8UXX6irq1tZWT18+BBBEFknqk/k5OTIycnRaDQjIyMCgfDPP/90vX5zc3NbWxud\n",
    "Tl+7dq3UodUJEyaQyWQAgLq6+nfffaetrY3BYEaNGlVbW9vU1NRxfQqF8u233w4bNgyDwdja2rJY\n",
    "LPHMm36ISCSqqqpmZWUhCFJWVnb79m3xRyKRKD4+3sbGZtiwYeiS3Nzcuro6V1dXGSW217i5ubm4\n",
    "uMjLy6urq1Op1I63y70Ch8Nt37596tSpAQEB7u7ue/bsKS8vBwAIhUIsFttu4AmLxba7wItFRkZO\n",
    "nz797t27y5cvlzrU0tTUVFRUdPr06aioqIaGhsuXL4tEIqkLpaaTx+OdPn3a3t4ereeSysrKcnJy\n",
    "Jk+eTCQSx40bd//+/b5rN9TV1SdOnCgvL6+tra2rq8vn8xsbGwsKCtzd3fF4vLKy8o4dOywsLLre\n",
    "yYsXL8aOHWtubo7BYKZMmaKrqwsAKC4uJhKJ48ePl5OTGzlypJmZWV5eHgAAQRCBQKCsrLxhwwZx\n",
    "D2gXXFxc1NTU8Hj8yJEjm5qaWlpaHj58OH/+fHShu7v78+fPO45I1NfXJycno22vvb39o0ePxLEI\n",
    "n88XCAQaGhpbtmxBg9ERI0aMGzdOTk7O0NCQQCCgTYe6urqDg4OcnByFQiGTyRMnTpSTkxs1alRD\n",
    "QwOPx8vNzTUzM7OyssJgMFZWVpaWluhvK+FwOGdnZ3SY+8mTJ3Q6fdSoUXJycjY2NioqKuiMW8nC\n",
    "l9q4ST0oJSUlaI+yrq7utGnTOhaU1BqO6qx5tLCwGDlypNRNUJ0dRMls9qn+Pn+oM2VlZSdOnPD2\n",
    "9h49erSs09Jf5ObmqqmpUalUDAZjZ2d36NAhFovVbrLCINDS0pKWljZhwgR1dXUMBmNjY5OYmDhl\n",
    "yhQ5OenB/ZIlS44dO+bh4TFq1Kivv/5aams7YsQI9B8ikSgvL+/y5cvPnz+vqakxNDSUeoERiUT3\n",
    "79+/evVqcXFxfX29nZ1dZ9eh/kBZWdnPz+/QoUNnzpyhUqm2trbiaY91dXX5+fniWzQOh3P58uW1\n",
    "a9cOgj5XHo8XHR199+7d0tJSPp+/cePGPvoiPB4/b948Dw+PysrKX3755dixYz/++KPU0KeLS4in\n",
    "p+e8efMYDMbBgwd37NhhbGzccZ05c+aoqamh/4iOjkavMe0WVlRU+Pv7v3nzxtDQMCQkBJ0Ww+fz\n",
    "T58+TSaTly9f3vHbc3Jy1NTUzMzMMBjMhAkT9u7dW1xc3J3QoQcUFRVVVFQkl3A4nPr6+i6ukR0V\n",
    "FRXJycmhm8jJyaEnfklJSWZmpuQgr5GREYVCmT17tp+fHw6Hmz59upeX1wcrNpFIlPyzubm5vLx8\n",
    "8+bN4iWGhoYduxVfvnzZ0NBgY2MDALC0tDx37tyzZ88cHR0tLS3HjRu3fPlyDQ0NLy8v9DZDTU2t\n",
    "4z28ZMkoKCi0i4kls4zBYAwNDdFYR1VVVfybVCwW6++//46MjBRvNW/ePMmddNa4ffCgSL2H7CK4\n",
    "76x5NDIy6vpASz2I7bLZpwZkPPT69euQkJDly5dbW1vLOi39BY/Hy8rKevXq1aJFi8QL09PTqVQq\n",
    "FovlcDh8Pl9RUREAIBQKW1paBu4MdBaLxWQys7Oz//rrL3QJDod79eqVmZmZ5Go1NTXoPzQ0NA4f\n",
    "PiwQCO7evXv48OGuJ+49ffo0ICDAz8/vf//7X1lZmeQcC0m3bt26evWqv7//iBEjHj9+3A/Hy9rR\n",
    "19cXz5CIjIzk8XjozVZpaamioqK4ramvry8sLPT29hZv+PjxY/FldQBBEOTYsWMqKioBAQFEIjEk\n",
    "JKTjOuIa0iswGIyuru7ixYv37dvHZrNHjhx55cqV8vJy8bCjUChMT08fNWqUuCuu4x4sLCw0NDQe\n",
    "P37cLh5SVlbW19cX90Gi/1BSUuq4UF1dXTxNHoXO+NbW1l62bFm7SU7op/fu3SsoKJC8dqamppqb\n",
    "m2Ox2JqampaWlj5tNzQ0NIYPH96d2wm0twYAYGxs/OrVK5FIhMFg2tra0PlDBgYGNjY2+/fvV1JS\n",
    "ktxqxowZbm5ulZWVwcHBf/zxh2Td7g4lJSUSibRu3Tp7e/vO1kEHHKuqqlasWCFeePfuXXt7ewUF\n",
    "hWXLli1durSoqOjgwYPy8vKmpqYflQCUZJZFItGbN2/QCbWSKBTKrFmz/Pz8Oos5utm4gQ4HRep0\n",
    "9ZEjR0ZGRlZXVxsaGrb7qMfNo9SD2IPnznps4I2XvXz5Migo6LvvvoPBkKSCgoLKysqIiIiEf/n6\n",
    "+jIYjIaGBmNjYyUlpQcPHrS2tra2tqL94QYGBrJOck+IRKKUlBQ6nX7r1q3k5OTk5ORbt27Z2dll\n",
    "ZWWhXbsZGRkIglRUVKDTZltbWxMSElgslry8PIVCQVt2LBYrEAiam5tramraner19fXGxsajR4/G\n",
    "4/GVlZVSJw8BAKqrq8eNG2dqaorBYNDxkX6utLS0pqZGJBIxGIxr1645OTmhjSafz8fj8eLLpImJ\n",
    "SXR0NFqwGzdunDNnzrlz5wZcMAQAEAgEb9++nTx5soaGBpfLRWd04vH4jjXkExUWFvr4+DAYjNbW\n",
    "VgRBHjx4MHz4cG1tbRMTkwkTJoSEhLBYLJFIxOfzo6OjGQyGh4dHu5Di0aNHoaGhjY2NIpGouLj4\n",
    "zZs3Hftm8Hi8o6PjjRs3OBxOQ0NDbGzs2LFjhw8f3nEhWsPFuFzuoUOHqFTq119/3TEYAv8+p3nu\n",
    "3Lnkf23dujUnJ6e+vt7ExERZWfn+/ftou5GRkcHn8zte/D7RsGHDqFRqfHw8OjM9ODj4/v374k+J\n",
    "RGJ5eTk6hzo7Oxt9u8ro0aOZTGZ+fj7aGqDzh4yMjLhcbkZGhkgkamxsPH/+fGlpKYvFunPnDoIg\n",
    "RCKRRCJ1/PYumgKUoqLi+PHjo6KiOBwOevpER0e3i97KysoYDEZQUJC4DIOCgvLz89ls9tOnTzMz\n",
    "M4VCoY6Ozqf0cFhbW798+fLx48cikejx48dPnz51cHBot87YsWOZTCa6TlVV1W+//dZx/lB3Gjfw\n",
    "70FJSEhAzxTJEXYxExMTW1vbo0ePojW8tbU1JSXF29u7tLS0O80jFottbm7m8/lVVVXihVIP4kcU\n",
    "0ycbSP1DWCwWQZC//vqroKDg+++/Fy83NjY+fPiwqqqqDNMmWyKR6N69e2PHjpWcv2lvbx8fH89k\n",
    "Mh0cHDZv3nzy5MmffvoJAGBlZbV169bP0/3Y6+rq6tCXUYn7k3E43Lx588LCwubNmzd37tzDhw/P\n",
    "mDHDwcHB1taWz+djsVgCgbBz586ysjJVVdW1a9eSyWSBQEChUFasWOHg4LB9+3bJ/dva2qakpMyc\n",
    "OZNAIEyePBmPx0u92XJzcztw4MDUqVN1dHQcHBw6GwSROQwGg8ViRSIRi8UKCwurrKwkk8l+fn6W\n",
    "lpboCm/fvlVVVR00M/BaWlr27t07fvx4T09PLy+vAwcOcLlcGxubtrY29Bh1rCGf+I0GBgbTpk07\n",
    "fvx4WVmZnJzcmDFjtmzZgvYAeXt7x8XF7dixg81m4/H4CRMmBAYG6uvrt9vD6NGjGQzG4sWLm5qa\n",
    "yGRyuyFd9AgCAFxcXKqqqr766isAwMyZMz09PTtbKCk1NTUjIyMjI0P8JJ28vHxgYGBKSgoAwNfX\n",
    "NzU1lU6nS04qcnBwuHHjBjrc4+/vHxoaevz4cQCAtbX1zp07O3ZL9Iw4X1gsdtmyZadPn541axYW\n",
    "i128eLG1tTU6ixYAQKFQXFxcfH198Xj88uXL9fT0sFgshULx8vJCz1wvLy90oaam5oYNG0JDQw8e\n",
    "PKiiorJw4UJdXd2GhgYGg3H8+HGBQGBjY7Nt27Z2ydDT0+usKRCHrTNnzqytrf3qq68EAoGZmdm2\n",
    "bdvanew5OTm6urqSUSyNRjM1Nc3IyHB0dPzzzz/37NkDAHBzc3N0dGSz2R0Lod33Su4f/dPAwGDN\n",
    "mjVoNdPR0dmyZYuxsXG76fPGxsarVq0KCAiorKzU0NBYtWpVu2ui1MZNMraTPChLliwJDAycOXOm\n",
    "tbW1tbV1xyFCeXl5b2/vO3fuoK2rvLy8paWlj48PmUzuTvNoYmIiEokWLlw4Z84cLy8vdKHUg9jZ\n",
    "8wftoOe+o6MjOvofGRnJYrHQhwYYDEZYWNjx48c/eGuHYTKZX20Ou/7zVjweP0CvkVKhd4SDKUef\n",
    "wY0bNwAAU6ZMkfrUAPSx0Od1B2VhDuKsgcGeu74ASwwa6KqrqwfeeBkEQRAEQVDvgvEQBEEQBEFD\n",
    "HYyHIAiCIAga6mA8BEEQBEHQUAfjIQiCIAiChjoYD0EQBEEQNNTBeAiCIAiCoKHuvfcxou/sGUwG\n",
    "X44+D/RtIlCvGMSFOYizBgZ77voCLDFoQIP9QxAEQRAEDXXv9Q8Nprc5w/dTfwr4ntleMYhf2juI\n",
    "swYGe+76AiwxaKCD76eGIAiCIAiC42UQBEEQBA15MB6CIAiCIGiog/EQBEEQBEFDHYyHIAiCIAga\n",
    "6gZGPJSdnb1y5UoWiwUAaGpqOn36tIeHx+zZs4OCgurr62Wdun6hqqpq9erVhw8fRhAEAFBXV7d5\n",
    "8+aioiL004KCgvnz51+6dAn9s7Gx0dfX9/Hjx7JKrUykp6e7urrevHnzo7aKjIyMjIzsoyT1HZFI\n",
    "FBkZuXr1avQE4XA4O3bscHV1nTt3bkJCgkgkAgBwudyjR4+6urq6ubn9+uuvfD4f3TAjI2Pp0qVO\n",
    "Tk6LFi3KyMhAV4ZQDx8+9Pf3b2lpAQBwOJwDBw64ubk5OTnNmzfvzz//bG1tBQAgCBIVFbVkyRIn\n",
    "Jyc3N7d9+/aVlpZ23JVIJMrNzV21alXHos7KylqyZMnr168BAK2trTExMfPnz3dycvL29mYymaB7\n",
    "h4nJZHp7ezs5Oc2fP1980CEI6oz8h1eRKaFQeOXKFfQaJhQKAQB37tzBYDCXL18GAERERERGRn7z\n",
    "zTcyTmU/wGAwMBjMmzdvKisrDQwMVFVVSSRSUVGRsbExAODly5daWlrl5eUCgUBBQaG6urqtrU1P\n",
    "T0/Wqf58EAS5c+eOmZlZZmbm1KlTcTicrFPUh1paWsLCwh49ekQgEEQiEYIgP//8s56eXlxcXGlp\n",
    "6d69e/X09MaOHXvx4kWBQBAbGysQCPbt25eUlOTu7v706dOff/75hx9+GDlyJIfDaWlpwWAwss5Q\n",
    "fyQUCn/77Tc1NbWYmBg8Hi9e3traGhERkZ+ff/jwYUNDQwRBYmNjt23btm/fPiqVKrkHDodz8eLF\n",
    "rVu3mpub5+XlBQcHUygUEol08eLFuLg4kUiEtniJiYlxcXGhoaF6enpsNltBQQEA8MHDVFJSEhIS\n",
    "sn79eisrq/z8/AMHDhgbG5ubm3+WsoGgAam/9w9hsdhJkyYdPXpUU1MTXeLh4eHt7Y3H4/F4vKGh\n",
    "YUVFhUAgkG0iZa6lpSUjI2PatGlkMvn+/fsAACwWS6VS8/Pz0Vb1+fPn06dPb2hoaGxsBACUl5fr\n",
    "6uqqq6vLOuGfT0lJyevXrz09PVksVnFxMbqwsLBw//79ly5dmj59enZ29s6dOx8+fIh+FBkZGRYW\n",
    "hv67srJy+/btzs7OW7ZsQd9rJb5ld3Z23r59e397DbqCgsLixYsPHDigqKgIAGhsbGSz2TNmzMDh\n",
    "cMbGxq6urmlpaS0tLUVFRfb29ng8nkAgjB8/Hq0tycnJ8+fPHzVqFAaD0dTU1NfXl3VuPlp9fX1g\n",
    "YKCbm5ubm9v58+dbW1tzc3N37dqFdoBFRkaGhISg58Xhw4fFR/xjCQQCDoczfvx4yWAIAFBYWJiV\n",
    "leXr60uhUDAYDB6P9/DwoNPp0dHRaHwjpqmpeezYsZEjR2IwGPTmpLa2FovFOjk5hYaGou/yaWlp\n",
    "SU1NXb16NZlMRlfT0tLqzmFqaWkZP368paUlBoMZMWKEgYHBixcvAADBwcHBwcE9yzIE9R/BwcGR\n",
    "kZG+vr5OTk7ff/89+gasjud+Z2tK1d/jIQAAmUxGb4na4XA42dnZtra2Uj8dUkpKSlgslpWVla2t\n",
    "bVpaWkNDAwBg5MiRFRUVPB6Py+VyOBwrKys1NTW0Kjx79oxGow2pcnvw4IGmpqa1tTWFQklJSRGP\n",
    "Hbx8+RKPx8fFxY0dO7bd5Qo9lwAAubm5mzZtSkhIoFAov/32m1AoLCsrq6qq+v333xMTEykUyvXr\n",
    "1z93frqExWL19fXl5N6d3c3NzQKBQNx/oKioWFZWBgCYMGFCUlISl8utq6vLysoaP348n8+vqKio\n",
    "qanx9vZ2dnbevHlzeXm5zLLRU/fv37e2to6Njb106dL9+/fz8vLIZDIej29tbRUIBC9fvqysrOTx\n",
    "eI2NjTU1NSQSqWffgsfjTU1NT548mZ6ezuPxxMtfvHihp6cn2fmKxWIdHR2fP3+O3o10JBKJHj58\n",
    "qKysTKFQAAD6+vri/svm5uaGhoanT58uWrTI1dU1ICCgvr6+O4eJSqV+++23WCwWANDS0tLY2Ghk\n",
    "ZAQA2LRp06ZNm3qWZQjqV7Kysvbt23fz5k1dXd2oqCgg7dzvbE2pBkA81FFLS8vu3buXLl2qo6Mz\n",
    "ceJEWSdHxkQiUVpaGoVCMTAwsLCw4HK56LQDPT29tra2ysrKiooKJSUlHR0dU1PTV69eNTU1lZeX\n",
    "jxw5UtYJ/3zq6+uTk5O/+OILdXV1e3v7R48eoSEjAEBVVXXy5Mny8l0NHE+aNElXVxeHw82YMaOo\n",
    "qKi+vp5CoXz77bfDhg3DYDC2trYsFgvte+ifiESiqqpqVlYWgiBlZWW3b99Gl7u5uQ0bNmz27NkL\n",
    "FiwYP378hAkT0OUPHz7cs2dPQkLCiBEjTp06hc5IG0Dc3NxcXFzk5eXV1dWpVGpxcTGRSNTU1EQQ\n",
    "pLa2Fo/HE4lENJ5QVVXt8SvsMRjM119//c0335w9e3b27Nm+vr5oB4xQKMRise1Gr7BYrFAolDqD\n",
    "5+HDh1OnTg0PD1+5cqWqqmrHFZqamoqKik6fPh0VFdXQ0HD58mV0P908TK2trX/88QeZTB5Spzw0\n",
    "FLi4uKipqeHx+JEjRzY1NQFp535na0o1IOMhRUXF/fv3R0dH6+joHDt2DJ3bOGTV19c/ePBg4sSJ\n",
    "ioqKurq6VCo1OTlZKBQSCAQ9Pb3y8vKSkhJ9fX0lJSUTE5OCggIOhyMnJzekJg+9fPmyoaHBxsYG\n",
    "AGBpadnQ0PDs2TP0Iz09PRUVla43F6+goaGBxWLr6+tFIlFWVpafn9+8efO2bdvW2aWun1BWVvbz\n",
    "88vMzJw+ffq+fftsbW0BAAiCBAQEKCsr37x5Myoq6unTp7/99huaC3TgFY3/ampqumg++icej3fx\n",
    "4sXVq1e7ubn9/fffQqFQQUEBjQbKysoMDQ3NzMxevXpVWFhIIpGUlJR6/EXy8vJTpkw5c+bM9evX\n",
    "zc3NDx06VFVVJTX0kRokoWxtbe/evRsUFHTq1KnOBu/mzJmjpqZGIBDmzJlTXFyMBt/tDlNZWdmK\n",
    "FSucnJxWrFhRV1eHbtja2nr16tWamhpfX9/BPWcOGoKIRGK7JR3P/c7WlKq/z6fuAh6PHz9+fFJS\n",
    "Unl5OTpreGh6/vx5aWlpSEhISEgIukRLS6uiooJMJpubmz979qy1tRW99dfT02tqanr16pWOjg6B\n",
    "QJBloj8joVCYmppaVVW1YsUK8cK7d+/a29t3sVVNTY343+KAgMPhCIXC4cOH37p16+rVq/7+/iNG\n",
    "jHj8+HF/Gy/rSF9f/+TJk+i/IyMjeTxea2trRUXFkiVL0Kl48+bNu379OgaDIZPJ4hsMgUDQbgyx\n",
    "/0MQ5NixYyoqKgEBAUQiUXxS6Ovrv337Nj8/Hx0pTkxMBADY2dn1ypcOHz58wYIFmZmZLBZr5MiR\n",
    "V65cKS8vNzExQT8VCoXp6emjRo0aNmyY1M0xGIyRkdHIkSMzMjLGjx8v+ZGysrK+vr649xH9h6Ki\n",
    "YsfDNHz48HPnzklu29raeuHChaqqqm3btikrK/dKTiGo3+rs3O++AdY/JBKJzp8/n5SU1Nra2tra\n",
    "+uTJE1VVVW1tbVmnS2YQBLl7966np2d8fHxCQkJCQsJff/2lpqb2zz//AACMjY3z8/NLSkrQSRLD\n",
    "hg1TUVH5+++/zczMhs5DQ2VlZQwGIygoKPlfQUFB+fn5bDZbcjU8Hq+rq5uRkYEgSEVFheSdelpa\n",
    "WkVFBYIgCQkJxsbGw4cPr66uHjdunKmpKQaDGRAzbEpLS2tqakQiEYPBuHbtmpOTk6KioqKi4v37\n",
    "9xEE4fP56enpGhoaCgoKkyZNSktLe/36NZ/PT0hIMDU1lTqI028JBIK3b99OnjxZQ0MDnTmHLieT\n",
    "yQCA169fk8lkfX39ysrKN2/eoPN1eqampsbPzy8lJUUgEKAFi8Vi9fT0TExMJkyYEBISwmKxRCIR\n",
    "n8+Pjo5mMBgeHh7obB4xFouFdikBAMrKyp4/fz5mzJh234LH4x0dHW/cuMHhcBoaGmJjY8eOHauo\n",
    "qPjBw4QgyKlTp5qbmzdt2gSDIWgo6Ozc776B1D+Edji7urqePHkSDf1Gjx69cePGodPV0VFpaWlR\n",
    "UdHChQvF8Y2amtqsWbOSk5MdHR11dXUVFRVxOBw6SUJBQYFMJufk5Aypx25zcnJ0dXUls0yj0UxN\n",
    "Tdvdi2MwmLlz5x4+fHjGjBkODg62trbim3Jra+vg4OCcnBw6nb5jxw4sFuvm5nbgwIGpU6fq6Og4\n",
    "ODh0NhQic2jCRCIRi8UKCwurrKwkk8l+fn7oY0c+Pj7BwcG///67nJycjY3Nli1bsFispaWlp6en\n",
    "j48Pj8ebOHGir69vu6t4/1RYWLhv3749e/aYmJh4eXkdOHCAy+Xa2Ni0tbWh6cfj8TExMQiCqKqq\n",
    "ysnJqampcTgcNTW1Hn+jhobGl19+ee7cuQMHDrS1tRkbG/v6+qJRl7e3d1xc3I4dO9hsNh6PnzBh\n",
    "QmBgYMdHwMhkMo1GW79+PYfD0dDQmD9//qRJk8SfYjAYNOUuLi5VVVVfffUVAGDmzJmenp4AgA8e\n",
    "JiaTGRMTg46XiRdu2bLl5cuXAAB0SnVkZCSDwdi1axcejy8sLAwODj5w4IC6unpDQ8OWLVu8vb3R\n",
    "oVUI6ufQyq+ioiL13O+4ZmcwTCbzq81h13/eisfjezy1sB9CY8PBlKPP4MaNGwCAKVOmoM/6Qp8I\n",
    "fZpvUBbmIM4aGOy56wuwxKCBrrq6eoCNl0EQBEEQBPU6GA9BEARBEDTUwXgIgiAIgqChDsZDEARB\n",
    "EAQNdTAegiAIgiBoqIPxEARBEARBQx2MhyAIgiAIGureex9jD97n2M8Nvhx9HujbRKBeMYgLcxBn\n",
    "DQz23PUFWGLQgCYHazAEQRAEQUOcvOTvDAymtznD91N/Cvie2V4xiF/aO4izBgZ77voCLDFooKuu\n",
    "rpbrn7+7BEEQBEEQ9Nn8H0t72/mav0kjAAAAAElFTkSuQmCC\n",
    "\" />"
   ]
  },
  {
   "cell_type": "markdown",
   "id": "d0570a7a",
   "metadata": {},
   "source": [
    "<hr style=\"height:0px;border:none;border-top:1px solid #c0c0c0;\">\n",
    "\n",
    "- Salvamento e teste de carga do dataframe em formato pickle."
   ]
  },
  {
   "cell_type": "code",
   "execution_count": 49,
   "id": "a488d5a7",
   "metadata": {},
   "outputs": [
    {
     "name": "stdout",
     "output_type": "stream",
     "text": [
      "Salvo: d:\\jup_ws\\tcc\\bricklink\\df_paises.pickle\n",
      "Tamanho: 21101 bytes\n",
      "Modifificado em: 27/10/2021 11:13:58\n"
     ]
    }
   ],
   "source": [
    "frame2pickle(frame=df_paises, p_pickle=tcc.pckl_df_paises)"
   ]
  },
  {
   "cell_type": "code",
   "execution_count": 50,
   "id": "bacbb2ba",
   "metadata": {
    "scrolled": true
   },
   "outputs": [
    {
     "name": "stdout",
     "output_type": "stream",
     "text": [
      "Lido: d:\\jup_ws\\tcc\\bricklink\\df_paises.pickle\n",
      "Tamanho: 21101 bytes\n",
      "Modifificado em: 27/10/2021 11:13:58\n"
     ]
    }
   ],
   "source": [
    "_ = pickle2frame(p_pickle=tcc.pckl_df_paises)\n",
    "del _"
   ]
  },
  {
   "cell_type": "markdown",
   "id": "d72363a3",
   "metadata": {},
   "source": [
    "<hr style=\"height:0px;border:none;border-top:1px solid #c0c0c0;\">\n",
    "\n",
    "- Criação do tipo de dados categórico."
   ]
  },
  {
   "cell_type": "code",
   "execution_count": 51,
   "id": "3e264013",
   "metadata": {},
   "outputs": [
    {
     "data": {
      "text/plain": [
       "CategoricalDtype(categories=['AD', 'AE', 'AF', 'AG', 'AI', 'AL', 'AM', 'AO', 'AQ', 'AR',\n",
       "                  ...\n",
       "                  'VI', 'VN', 'VU', 'WF', 'WS', 'YE', 'YT', 'ZA', 'ZM', 'ZW'],\n",
       ", ordered=False)"
      ]
     },
     "metadata": {},
     "output_type": "display_data"
    },
    {
     "data": {
      "text/plain": [
       "249"
      ]
     },
     "execution_count": 51,
     "metadata": {},
     "output_type": "execute_result"
    }
   ],
   "source": [
    "cat_paises = pd.CategoricalDtype(df_paises.index)\n",
    "d(cat_paises)\n",
    "len(cat_paises.categories)"
   ]
  },
  {
   "cell_type": "markdown",
   "id": "908dd9bd",
   "metadata": {},
   "source": [
    "<hr style=\"height:0px;border:none;border-top:1px solid #c0c0c0;\">\n",
    "\n",
    "- Salvamento e teste de carga do tipo de dados `cat_paises` em formato pickle."
   ]
  },
  {
   "cell_type": "code",
   "execution_count": 52,
   "id": "c4c8251f",
   "metadata": {},
   "outputs": [
    {
     "name": "stdout",
     "output_type": "stream",
     "text": [
      "Salvo: d:\\jup_ws\\tcc\\bricklink\\cat_paises.pickle\n",
      "Tamanho: 1565 bytes\n",
      "Modifificado em: 27/10/2021 11:14:05\n"
     ]
    }
   ],
   "source": [
    "object2pickle(obj=cat_paises, p_pickle=tcc.pckl_cat_paises)"
   ]
  },
  {
   "cell_type": "code",
   "execution_count": 53,
   "id": "6a48e1cb",
   "metadata": {},
   "outputs": [
    {
     "name": "stdout",
     "output_type": "stream",
     "text": [
      "Lido: d:\\jup_ws\\tcc\\bricklink\\cat_paises.pickle\n",
      "Tamanho: 1565 bytes\n",
      "Modifificado em: 27/10/2021 11:14:05\n"
     ]
    }
   ],
   "source": [
    "_ = pickle2object(p_pickle=tcc.pckl_cat_paises)\n",
    "del _"
   ]
  }
 ],
 "metadata": {
  "kernelspec": {
   "display_name": "Python [conda env:tcc]",
   "language": "python",
   "name": "conda-env-tcc-py"
  },
  "language_info": {
   "codemirror_mode": {
    "name": "ipython",
    "version": 3
   },
   "file_extension": ".py",
   "mimetype": "text/x-python",
   "name": "python",
   "nbconvert_exporter": "python",
   "pygments_lexer": "ipython3",
   "version": "3.8.10"
  }
 },
 "nbformat": 4,
 "nbformat_minor": 5
}
