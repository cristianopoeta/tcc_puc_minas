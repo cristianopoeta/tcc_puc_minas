{
 "cells": [
  {
   "cell_type": "markdown",
   "id": "3279788d",
   "metadata": {},
   "source": [
    "<h1 style=\"background-color:black; color:white; padding:10px;\">\n",
    "    Notebook 02 - Dataset do histórico das vendas\n",
    "</h1>"
   ]
  },
  {
   "cell_type": "markdown",
   "id": "c337f476",
   "metadata": {},
   "source": [
    "<hr style=\"background-color:transparent;height:4px;border:none;border-top:2px solid #c0c0c0;border-bottom:2px solid #c0c0c0;\">\n",
    "\n",
    "### Definições iniciais"
   ]
  },
  {
   "cell_type": "markdown",
   "id": "1be73ba5",
   "metadata": {},
   "source": [
    "<hr style=\"height:0px;border:none;border-top:1px solid #c0c0c0;\">\n",
    "\n",
    "- Habilitação de recarga de módulo editado."
   ]
  },
  {
   "cell_type": "code",
   "execution_count": 1,
   "id": "61d67ec5",
   "metadata": {},
   "outputs": [],
   "source": [
    "%load_ext autoreload\n",
    "%autoreload 2"
   ]
  },
  {
   "cell_type": "markdown",
   "id": "b80fda2f",
   "metadata": {
    "executionInfo": {
     "elapsed": 250,
     "status": "ok",
     "timestamp": 1623709700289,
     "user": {
      "displayName": "Cristiano Poeta Faria",
      "photoUrl": "https://lh3.googleusercontent.com/a-/AOh14GjEcGJ0o6euRypOR-m-qrENp4--CxGFq3-g75o8qQ=s64",
      "userId": "01408965004610225019"
     },
     "user_tz": 180
    },
    "id": "Gmv3PXbEQYqx"
   },
   "source": [
    "<hr style=\"height:0px;border:none;border-top:1px solid #c0c0c0;\">\n",
    "\n",
    "- Pacotes de uso geral."
   ]
  },
  {
   "cell_type": "code",
   "execution_count": 2,
   "id": "8dc809df",
   "metadata": {
    "executionInfo": {
     "elapsed": 250,
     "status": "ok",
     "timestamp": 1623709700289,
     "user": {
      "displayName": "Cristiano Poeta Faria",
      "photoUrl": "https://lh3.googleusercontent.com/a-/AOh14GjEcGJ0o6euRypOR-m-qrENp4--CxGFq3-g75o8qQ=s64",
      "userId": "01408965004610225019"
     },
     "user_tz": 180
    },
    "id": "Gmv3PXbEQYqx"
   },
   "outputs": [],
   "source": [
    "import sys\n",
    "import dtale    # instalado com: conda install dtale -c conda-forge\n",
    "import numpy as np\n",
    "import pandas as pd\n",
    "from itertools import product\n",
    "from tqdm.notebook import tqdm\n",
    "from pprint import pformat # , pprint, PrettyPrinter"
   ]
  },
  {
   "cell_type": "markdown",
   "id": "700d2a59",
   "metadata": {
    "executionInfo": {
     "elapsed": 250,
     "status": "ok",
     "timestamp": 1623709700289,
     "user": {
      "displayName": "Cristiano Poeta Faria",
      "photoUrl": "https://lh3.googleusercontent.com/a-/AOh14GjEcGJ0o6euRypOR-m-qrENp4--CxGFq3-g75o8qQ=s64",
      "userId": "01408965004610225019"
     },
     "user_tz": 180
    },
    "id": "Gmv3PXbEQYqx"
   },
   "source": [
    "<hr style=\"height:0px;border:none;border-top:1px solid #c0c0c0;\">\n",
    "\n",
    "- Funções do pacote `bricklink_api`.\n",
    "- Pacote `bricklinp_api`: https://github.com/BrickBytes/bricklink_api .\n",
    "- Referência da API do Bricklink: https://www.bricklink.com/v3/api.page ."
   ]
  },
  {
   "cell_type": "code",
   "execution_count": 3,
   "id": "4226f6c3",
   "metadata": {
    "executionInfo": {
     "elapsed": 250,
     "status": "ok",
     "timestamp": 1623709700289,
     "user": {
      "displayName": "Cristiano Poeta Faria",
      "photoUrl": "https://lh3.googleusercontent.com/a-/AOh14GjEcGJ0o6euRypOR-m-qrENp4--CxGFq3-g75o8qQ=s64",
      "userId": "01408965004610225019"
     },
     "user_tz": 180
    },
    "id": "Gmv3PXbEQYqx"
   },
   "outputs": [],
   "source": [
    "from bricklink_api.auth import DefaultOAuth\n",
    "from bricklink_api.catalog_item import get_price_guide, GuideType, NewOrUsed, Type"
   ]
  },
  {
   "cell_type": "markdown",
   "id": "a1bcb8ce",
   "metadata": {
    "executionInfo": {
     "elapsed": 250,
     "status": "ok",
     "timestamp": 1623709700289,
     "user": {
      "displayName": "Cristiano Poeta Faria",
      "photoUrl": "https://lh3.googleusercontent.com/a-/AOh14GjEcGJ0o6euRypOR-m-qrENp4--CxGFq3-g75o8qQ=s64",
      "userId": "01408965004610225019"
     },
     "user_tz": 180
    },
    "id": "Gmv3PXbEQYqx"
   },
   "source": [
    "<hr style=\"height:0px;border:none;border-top:1px solid #c0c0c0;\">\n",
    "\n",
    "- Módulos em diretórios fora de `sys.path` ."
   ]
  },
  {
   "cell_type": "code",
   "execution_count": 4,
   "id": "ff06d604",
   "metadata": {},
   "outputs": [],
   "source": [
    "# diretório com módulos utilitários\n",
    "sys.path.append('d:/py_utils')"
   ]
  },
  {
   "cell_type": "code",
   "execution_count": 5,
   "id": "50864305",
   "metadata": {},
   "outputs": [],
   "source": [
    "from pd_utils import (\n",
    "    d_pd, exemplo_linha, resumo_tipos, resumo_categ, resumo_serie,\n",
    "    DisplayPandas, ExemploLinha, ResumoTipos, ResumoCateg, ResumoSerie\n",
    ")"
   ]
  },
  {
   "cell_type": "markdown",
   "id": "fb93e641",
   "metadata": {
    "executionInfo": {
     "elapsed": 250,
     "status": "ok",
     "timestamp": 1623709700289,
     "user": {
      "displayName": "Cristiano Poeta Faria",
      "photoUrl": "https://lh3.googleusercontent.com/a-/AOh14GjEcGJ0o6euRypOR-m-qrENp4--CxGFq3-g75o8qQ=s64",
      "userId": "01408965004610225019"
     },
     "user_tz": 180
    },
    "id": "Gmv3PXbEQYqx"
   },
   "source": [
    "<hr style=\"height:0px;border:none;border-top:1px solid #c0c0c0;\">\n",
    "\n",
    "- Módulos no diretório do notebook."
   ]
  },
  {
   "cell_type": "code",
   "execution_count": 6,
   "id": "04252d89",
   "metadata": {},
   "outputs": [],
   "source": [
    "from tcc import (\n",
    "    ofuscar_params, frame2pickle, pickle2frame, object2pickle, pickle2object, coletar_dict)"
   ]
  },
  {
   "cell_type": "markdown",
   "id": "6e9fad80",
   "metadata": {
    "executionInfo": {
     "elapsed": 250,
     "status": "ok",
     "timestamp": 1623709700289,
     "user": {
      "displayName": "Cristiano Poeta Faria",
      "photoUrl": "https://lh3.googleusercontent.com/a-/AOh14GjEcGJ0o6euRypOR-m-qrENp4--CxGFq3-g75o8qQ=s64",
      "userId": "01408965004610225019"
     },
     "user_tz": 180
    },
    "id": "Gmv3PXbEQYqx"
   },
   "source": [
    "<hr style=\"height:0px;border:none;border-top:1px solid #c0c0c0;\">\n",
    "\n",
    "- Utilidades de exibição e resumo de objetos `pandas`."
   ]
  },
  {
   "cell_type": "code",
   "execution_count": 7,
   "id": "1bb3cc52",
   "metadata": {},
   "outputs": [],
   "source": [
    "# primeiro item, 4 items intermediárias, item final e dimensões de objeto pandas\n",
    "h1s4t1 = DisplayPandas(head=1, sample=4, tail=1)"
   ]
  },
  {
   "cell_type": "markdown",
   "id": "e3ee1578",
   "metadata": {
    "executionInfo": {
     "elapsed": 250,
     "status": "ok",
     "timestamp": 1623709700289,
     "user": {
      "displayName": "Cristiano Poeta Faria",
      "photoUrl": "https://lh3.googleusercontent.com/a-/AOh14GjEcGJ0o6euRypOR-m-qrENp4--CxGFq3-g75o8qQ=s64",
      "userId": "01408965004610225019"
     },
     "user_tz": 180
    },
    "id": "Gmv3PXbEQYqx"
   },
   "source": [
    "<hr style=\"height:0px;border:none;border-top:1px solid #c0c0c0;\">\n",
    "\n",
    "- Outras definições."
   ]
  },
  {
   "cell_type": "code",
   "execution_count": 8,
   "id": "39e25acc",
   "metadata": {
    "scrolled": true
   },
   "outputs": [],
   "source": [
    "d = display\n",
    "pdod = pd.options.display\n",
    "pdoc = pd.option_context"
   ]
  },
  {
   "cell_type": "markdown",
   "id": "f9958182",
   "metadata": {},
   "source": [
    "<hr style=\"background-color:transparent;height:4px;border:none;border-top:2px solid #c0c0c0;border-bottom:2px solid #c0c0c0;\">\n",
    "\n",
    "### Módulo `tcc`: variáveis comuns a mais de um notebook"
   ]
  },
  {
   "cell_type": "code",
   "execution_count": 9,
   "id": "3b343253",
   "metadata": {},
   "outputs": [],
   "source": [
    "# módulo `tcc.py` na pasta do notebok com variáveis comuns aos notebooks\n",
    "import tcc"
   ]
  },
  {
   "cell_type": "code",
   "execution_count": 10,
   "id": "7a91531b",
   "metadata": {
    "colab": {
     "base_uri": "https://localhost:8080/"
    },
    "executionInfo": {
     "elapsed": 8,
     "status": "ok",
     "timestamp": 1623709718009,
     "user": {
      "displayName": "Cristiano Poeta Faria",
      "photoUrl": "https://lh3.googleusercontent.com/a-/AOh14GjEcGJ0o6euRypOR-m-qrENp4--CxGFq3-g75o8qQ=s64",
      "userId": "01408965004610225019"
     },
     "user_tz": 180
    },
    "id": "OhuNTJaZhmxE",
    "outputId": "768ff264-d56d-41eb-98dd-5de29edc69a0",
    "scrolled": true
   },
   "outputs": [
    {
     "data": {
      "text/plain": [
       "WindowsPath('d:/jup_ws/tcc')"
      ]
     },
     "metadata": {},
     "output_type": "display_data"
    },
    {
     "data": {
      "text/plain": [
       "WindowsPath('d:/jup_ws/tcc/bricklink')"
      ]
     },
     "metadata": {},
     "output_type": "display_data"
    },
    {
     "data": {
      "text/plain": [
       "WindowsPath('d:/jup_ws/tcc/bricklink/params_autent.json')"
      ]
     },
     "metadata": {},
     "output_type": "display_data"
    },
    {
     "data": {
      "text/plain": [
       "WindowsPath('d:/jup_ws/tcc/bricklink/df_guia_precos.pickle')"
      ]
     },
     "metadata": {},
     "output_type": "display_data"
    }
   ],
   "source": [
    "# caminhos\n",
    "d(\n",
    "      tcc.p_dir_tcc    # diretório inicial TCC\n",
    "    , tcc.p_dir_bricklink    # diretório dados Bricklink\n",
    "    , tcc.p_arq_autent    # parâmetros autenticação API Bricklink\n",
    "    , tcc.pckl_df_guia_precos    # arquivo pickle dataframe\n",
    ")"
   ]
  },
  {
   "cell_type": "code",
   "execution_count": 11,
   "id": "d901dbd3",
   "metadata": {
    "executionInfo": {
     "elapsed": 248,
     "status": "ok",
     "timestamp": 1623709730970,
     "user": {
      "displayName": "Cristiano Poeta Faria",
      "photoUrl": "https://lh3.googleusercontent.com/a-/AOh14GjEcGJ0o6euRypOR-m-qrENp4--CxGFq3-g75o8qQ=s64",
      "userId": "01408965004610225019"
     },
     "user_tz": 180
    },
    "id": "TnJqwWpI0yMO"
   },
   "outputs": [
    {
     "data": {
      "text/plain": [
       "{'consumer_key': '********************************',\n",
       " 'consumer_secret': '********************************',\n",
       " 'token_secret': '********************************',\n",
       " 'token_value': '********************************'}"
      ]
     },
     "execution_count": 11,
     "metadata": {},
     "output_type": "execute_result"
    }
   ],
   "source": [
    "# conteúdo ofuscado dos parâmetros de autenticação\n",
    "ofuscar_params(tcc.params_autent)"
   ]
  },
  {
   "cell_type": "code",
   "execution_count": 12,
   "id": "6b1929d2",
   "metadata": {
    "scrolled": false
   },
   "outputs": [
    {
     "data": {
      "text/plain": [
       "'14716 22886 2356 2357 2453 2453a 2453b 2454 2456 2465 3001 3001f1 3001old 3001oldb 3001oldf1 3001special 3002 3002f1 3002old 3003 3003f1 3003old 3004 3004f1 3004f2 3005 3005f1 3005f2 3005f3 3006 3007 30072 3008 3008f1 3008f2 3009 3009f1 3009f2 3009f3 3010 3010f1 3010f2 3010f3 30144 30145 30400 3065 3066 3067 3245b 3245c 3622 3622f1 3754 3755 4201 4202 4204 46212 49311 6111 6112 6212 6213 700 700e 700eD 700eD2 700eX 702 702old 733 733eX 772 bhol01 bhol02 bhol03 bhol04 bhol05 bhol06 crssprt01 crssprt02 crssprt03 crssprt04 x1214'"
      ]
     },
     "execution_count": 12,
     "metadata": {},
     "output_type": "execute_result"
    }
   ],
   "source": [
    "# string com códigos de peças de interesse que comporão o dataset\n",
    "tcc.txt_nos_bricks"
   ]
  },
  {
   "cell_type": "markdown",
   "id": "4a939904",
   "metadata": {},
   "source": [
    "<hr style=\"background-color:transparent;height:4px;border:none;border-top:2px solid #c0c0c0;border-bottom:2px solid #c0c0c0;\">\n",
    "\n",
    "### Autenticação para API do Bricklink"
   ]
  },
  {
   "cell_type": "markdown",
   "id": "8115eb9b",
   "metadata": {},
   "source": [
    "- Referência API: https://www.bricklink.com/v3/api.page?page=auth"
   ]
  },
  {
   "cell_type": "code",
   "execution_count": 13,
   "id": "af1a975e",
   "metadata": {
    "executionInfo": {
     "elapsed": 248,
     "status": "ok",
     "timestamp": 1623709730970,
     "user": {
      "displayName": "Cristiano Poeta Faria",
      "photoUrl": "https://lh3.googleusercontent.com/a-/AOh14GjEcGJ0o6euRypOR-m-qrENp4--CxGFq3-g75o8qQ=s64",
      "userId": "01408965004610225019"
     },
     "user_tz": 180
    },
    "id": "TnJqwWpI0yMO"
   },
   "outputs": [],
   "source": [
    "default_oauth = DefaultOAuth()\n",
    "default_oauth.set(**tcc.params_autent)"
   ]
  },
  {
   "cell_type": "markdown",
   "id": "66fb1f76",
   "metadata": {},
   "source": [
    "<hr style=\"background-color:transparent;height:4px;border:none;border-top:2px solid #c0c0c0;border-bottom:2px solid #c0c0c0;\">\n",
    "\n",
    "### Históricos de vendas das peças de interesse"
   ]
  },
  {
   "cell_type": "markdown",
   "id": "8e4fe002",
   "metadata": {},
   "source": [
    "- Referência API: https://www.bricklink.com/v3/api.page?page=get-price-guide\n",
    "- Para obter o histórico de vendas dos últimos 6 meses, parâmetro `guide_type` tem que ser `\"sold\"` (`GuideType.SOLD` na biblioteca `bricklink_api`).\n",
    "- Para diferenciar vendas de peças usadas de vendas de peças novas, é preciso usar o parâmetro `new_or_used`, valores possíveis `\"N\"` e `\"U\"` (`NewOrUsed.NEW` e `NewOrUsed.USED` na  biblioteca `bricklink_api`). Não utilizar esse parâmetro na obtenção do histórico de vendas equivale a pesquisar vendas de peças novas.\n",
    "- Os detalhes das vendas realizadas não informam a cor da peça vendida. Para diferenciar vendas por cores, é preciso usar o parâmetro `color_id` com todas cores da tabela de domínio de cores de peças."
   ]
  },
  {
   "cell_type": "markdown",
   "id": "94c58b83",
   "metadata": {},
   "source": [
    "<hr style=\"height:0px;border:none;border-top:1px solid #c0c0c0;\">\n",
    "\n",
    "- Exemplo de resultado da função `get_price_guide` ."
   ]
  },
  {
   "cell_type": "code",
   "execution_count": 14,
   "id": "ec40a61b",
   "metadata": {
    "scrolled": true
   },
   "outputs": [
    {
     "name": "stdout",
     "output_type": "stream",
     "text": [
      "{'meta': {'description': 'OK', 'message': 'OK', 'code': 200},\n",
      " 'data': {'item': {'no': '3005', 'type': 'PART'},\n",
      "          'new_or_used': 'U',\n",
      "          'currency_code': 'USD',\n",
      "          'min_price': '0.0003',\n",
      "          'max_price': '1.0000',\n",
      "          'avg_price': '0.0461',\n",
      "          'qty_avg_price': '0.0429',\n",
      "          'unit_quantity': 7155,\n",
      "          'total_quantity': 171839,\n",
      "          'price_detail': [{'quantity': 3,\n",
      "                            'unit_price': '0.0300',\n",
      "                            'seller_country_code': 'US',\n",
      "                            'buyer_country_code': 'IT',\n",
      "                            'date_ordered': '2021-05-01T10:54:24.000Z',\n",
      "                            'qunatity': 3}, ... ] }\n"
     ]
    }
   ],
   "source": [
    "print(\n",
    "    '\\n'.join(pformat(\n",
    "        get_price_guide(\n",
    "            type_=Type.PART,\n",
    "            no='3005',    # brick 1 x 1\n",
    "            color_id=1,    # white\n",
    "            guide_type=GuideType.SOLD,\n",
    "            new_or_used=NewOrUsed.USED,\n",
    "            currency_code='USD')\n",
    "        , sort_dicts=False).split('\\n')[:16]),\n",
    "    '... ] }'\n",
    ")"
   ]
  },
  {
   "cell_type": "markdown",
   "id": "f7051f27",
   "metadata": {},
   "source": [
    "<hr style=\"height:0px;border:none;border-top:1px solid #c0c0c0;\">\n",
    "\n",
    "- Definição e exemplo de resultado da função `frame_price_guide_part_sold_usd`."
   ]
  },
  {
   "cell_type": "code",
   "execution_count": 15,
   "id": "f9ebd97e",
   "metadata": {},
   "outputs": [],
   "source": [
    "def frame_price_guide_part_sold_usd(no, color_id, new_or_used):\n",
    "    '''Dataframe de histórico de vendas de peças com valores em USD.'''\n",
    "    resp = get_price_guide(\n",
    "            type_=Type.PART, guide_type=GuideType.SOLD, currency_code='USD', \n",
    "            no=no, color_id=color_id, new_or_used=new_or_used)\n",
    "    if resp and resp['data']['price_detail']:\n",
    "        df = (\n",
    "            pd.DataFrame.from_records(resp['data']['price_detail'])\n",
    "            .drop(columns='qunatity')\n",
    "        )\n",
    "        return df"
   ]
  },
  {
   "cell_type": "code",
   "execution_count": 16,
   "id": "f16ea3c4",
   "metadata": {},
   "outputs": [
    {
     "data": {
      "text/html": [
       "<div>\n",
       "<style scoped>\n",
       "    .dataframe tbody tr th:only-of-type {\n",
       "        vertical-align: middle;\n",
       "    }\n",
       "\n",
       "    .dataframe tbody tr th {\n",
       "        vertical-align: top;\n",
       "    }\n",
       "\n",
       "    .dataframe thead th {\n",
       "        text-align: right;\n",
       "    }\n",
       "</style>\n",
       "<table border=\"1\" class=\"dataframe\">\n",
       "  <thead>\n",
       "    <tr style=\"text-align: right;\">\n",
       "      <th></th>\n",
       "      <th>quantity</th>\n",
       "      <th>unit_price</th>\n",
       "      <th>seller_country_code</th>\n",
       "      <th>buyer_country_code</th>\n",
       "      <th>date_ordered</th>\n",
       "    </tr>\n",
       "  </thead>\n",
       "  <tbody>\n",
       "    <tr>\n",
       "      <th>2324</th>\n",
       "      <td>4</td>\n",
       "      <td>0.0400</td>\n",
       "      <td>US</td>\n",
       "      <td>US</td>\n",
       "      <td>2021-06-26T17:37:58.787Z</td>\n",
       "    </tr>\n",
       "    <tr>\n",
       "      <th>4869</th>\n",
       "      <td>2</td>\n",
       "      <td>0.0250</td>\n",
       "      <td>US</td>\n",
       "      <td>US</td>\n",
       "      <td>2021-09-02T08:19:30.060Z</td>\n",
       "    </tr>\n",
       "  </tbody>\n",
       "</table>\n",
       "</div>"
      ],
      "text/plain": [
       "      quantity unit_price seller_country_code buyer_country_code  \\\n",
       "2324         4     0.0400                  US                 US   \n",
       "4869         2     0.0250                  US                 US   \n",
       "\n",
       "                  date_ordered  \n",
       "2324  2021-06-26T17:37:58.787Z  \n",
       "4869  2021-09-02T08:19:30.060Z  "
      ]
     },
     "metadata": {},
     "output_type": "display_data"
    },
    {
     "data": {
      "text/plain": [
       "(7155, 5)"
      ]
     },
     "metadata": {},
     "output_type": "display_data"
    }
   ],
   "source": [
    "d_pd(\n",
    "    frame_price_guide_part_sold_usd(\n",
    "        no='3005',    # brick 1 x 1\n",
    "        color_id=1,    # white\n",
    "        new_or_used=NewOrUsed.USED)\n",
    "    , sample=2\n",
    ")"
   ]
  },
  {
   "cell_type": "markdown",
   "id": "46fe768a",
   "metadata": {},
   "source": [
    "<hr style=\"height:0px;border:none;border-top:1px solid #c0c0c0;\">\n",
    "\n",
    "- Lista dos códigos das peças de interesse.\n",
    "- Quantidade de peças de interesse.\n",
    "- Peças de interesse são da categoria *brick*: https://www.bricklink.com/catalogList.asp?catType=P&catString=5"
   ]
  },
  {
   "cell_type": "code",
   "execution_count": 17,
   "id": "ab5b944f",
   "metadata": {
    "executionInfo": {
     "elapsed": 298,
     "status": "ok",
     "timestamp": 1623709735492,
     "user": {
      "displayName": "Cristiano Poeta Faria",
      "photoUrl": "https://lh3.googleusercontent.com/a-/AOh14GjEcGJ0o6euRypOR-m-qrENp4--CxGFq3-g75o8qQ=s64",
      "userId": "01408965004610225019"
     },
     "user_tz": 180
    },
    "id": "EYm4d_V58SP3",
    "scrolled": true
   },
   "outputs": [
    {
     "name": "stdout",
     "output_type": "stream",
     "text": [
      "['14716', '22886', '2356', '2357', '2453', '2453a', '2453b', '2454', '2456', '2465', '3001', '3001f1', '3001old', '3001oldb', '3001oldf1', '3001special', '3002', '3002f1', '3002old', '3003', '3003f1', '3003old', '3004', '3004f1', '3004f2', '3005', '3005f1', '3005f2', '3005f3', '3006', '3007', '30072', '3008', '3008f1', '3008f2', '3009', '3009f1', '3009f2', '3009f3', '3010', '3010f1', '3010f2', '3010f3', '30144', '30145', '30400', '3065', '3066', '3067', '3245b', '3245c', '3622', '3622f1', '3754', '3755', '4201', '4202', '4204', '46212', '49311', '6111', '6112', '6212', '6213', '700', '700e', '700eD', '700eD2', '700eX', '702', '702old', '733', '733eX', '772', 'bhol01', 'bhol02', 'bhol03', 'bhol04', 'bhol05', 'bhol06', 'crssprt01', 'crssprt02', 'crssprt03', 'crssprt04', 'x1214']\n"
     ]
    },
    {
     "data": {
      "text/plain": [
       "85"
      ]
     },
     "execution_count": 17,
     "metadata": {},
     "output_type": "execute_result"
    }
   ],
   "source": [
    "nos_bricks = tcc.txt_nos_bricks.split(' ') \n",
    "print(nos_bricks)\n",
    "len(nos_bricks)"
   ]
  },
  {
   "cell_type": "markdown",
   "id": "64f7b933",
   "metadata": {},
   "source": [
    "<hr style=\"height:0px;border:none;border-top:1px solid #c0c0c0;\">\n",
    "\n",
    "- Coleta dos históricos de vendas das peças de interesse, em um dicionário, com todas combinações de modelo da peça (`no`), cor da peça (`color_id`) e estado da peça (`new_or_used`), permitindo retomada das consultas somente para combinações de parâmetros ainda não coletadas."
   ]
  },
  {
   "cell_type": "code",
   "execution_count": 18,
   "id": "939c28e6",
   "metadata": {},
   "outputs": [
    {
     "name": "stdout",
     "output_type": "stream",
     "text": [
      "Lido: d:\\jup_ws\\tcc\\bricklink\\df_lista_cores.pickle\n",
      "Tamanho: 8494 bytes\n",
      "Modifificado em: 27/10/2021 11:13:00\n"
     ]
    }
   ],
   "source": [
    "# carga da lista de cores, para montar todas combinações de `(no, color_id, new_or_used)`\n",
    "df_lista_cores = pickle2frame(p_pickle=tcc.pckl_df_lista_cores)"
   ]
  },
  {
   "cell_type": "code",
   "execution_count": 19,
   "id": "f4ee45f2",
   "metadata": {},
   "outputs": [],
   "source": [
    "# todas combinações (produto cartesiano) de `(no, color_id, new_or_used)` para pesquisa\n",
    "params_guia_precos = list(product(nos_bricks, df_lista_cores.index, NewOrUsed))"
   ]
  },
  {
   "cell_type": "code",
   "execution_count": 20,
   "id": "acac28a8",
   "metadata": {},
   "outputs": [],
   "source": [
    "# dicionário `dct_guia_precos` armazena resultados de todas consultas realizadas com \n",
    "# `frame_price_guide_part_sold_usd` para todos parâmetros em `params_guia_precos`\n",
    "dct_guia_precos = {}"
   ]
  },
  {
   "cell_type": "code",
   "execution_count": 21,
   "id": "6791bc19",
   "metadata": {
    "scrolled": true
   },
   "outputs": [],
   "source": [
    "# função `coletar_dict` só consulta parâmetros ainda não coletados e exibe barra de progresso.\n",
    "# coletar_dict(\n",
    "#     dct_coleta=dct_guia_precos, \n",
    "#     iter_tqdm=params_guia_precos, \n",
    "#     desc_tqdm='Importando históricos de vendas', \n",
    "#     unit_tqdm='histórico',\n",
    "#     fn_postfix=lambda tpl: dict(no=tpl[0], color_id=tpl[1], new_or_used=tpl[2].value), \n",
    "#     fn_chave=lambda tpl: (tpl[0], tpl[1], tpl[2].value), \n",
    "#     fn_coleta=lambda tpl: frame_price_guide_part_sold_usd(\n",
    "#               **dict(no=tpl[0], color_id=tpl[1], new_or_used=tpl[2]) )\n",
    "# )"
   ]
  },
  {
   "cell_type": "markdown",
   "id": "3b761b06",
   "metadata": {},
   "source": [
    "<img style=\"float:left;\" src=\"data:image/png;base64, \n",
    "iVBORw0KGgoAAAANSUhEUgAAAnUAAAA0CAIAAABjDlnjAAAVtklEQVR4nO2dP2jszHbAz4S8VO/r\n",
    "tbAuFNykcLNFWC3cZsEhTSBXemuwFAIfTnc7427lLXalzri7XcxNwpMWvGgdSBNyYZsLqyWBbVy8\n",
    "xkSFBav+e1VeMSmkkUbSSPvX1/58z68ys5qZMzNnzpk5M5IJpRQQBEEQBDkof/baAiAIgiDIOwT9\n",
    "K4IgCIIcnj9/bQEQAf/5v//1b3/4/S9/+uW1BUG+Bz/95qd//Kt/+Nu//JvXFgRBkEOC+9e3CDrX\n",
    "H4pf/vTLv/3h968tBYIgBwb961sEneuPBo44grw/0L8iCIIgyOEp+tdorJEzN3oVWTZnYRNi+xs8\n",
    "6I8IGZUe3Dg797zmhhuXjyB7E401klDS1YVdnKShq5Ue80dEG2dPpQXyifFj9gIAIveMVSicMutr\n",
    "jNyzuKg1NaYPc3X5tqix/qhaJHGuNCWlfqavqZdvzt65hCVwDy/SNLG1qVOJ3HBE7pmgz7c1Vv6I\n",
    "iH1B6GoVEq4tcIOe+U4UZkemaeWmiSYXwEZ+5BX2r2/chZe0MHJvl86zpzdfTSTkh2NhN/TWnFJK\n",
    "6Xxodvj5srCJYuYeDl3tyJjmC/BHpDPIPfNJB+eZ0mcH9E+cBYmCR1Vugj9qGCdJhdagk7POG9UY\n",
    "uWcNY7JJjRmWT+m1AgD+qGMO50lj2eyLxlrn0VkJRUraWM6l9GnKyumB6l4ogpprSgBY2J2BNaeU\n",
    "+papCAzobrnyfZWUQJ+dpaK5IUDoasrSeaaU0pULxpFgUVWpEiIF2BLfLiwLQvfm0Vnd69JexfIk\n",
    "mvYWKMwOTtNKnV/Zt75dmBQifsj4cLtPab9m1uWR9PtK56pcJwYCQQ4Jp6LKqQWTIACAePGnLK2h\n",
    "mj4YjTVyZLSGFpfZtwnpPFpWL0uKvnnTntZtAjT1q+HU+8aMczjzQOs2eU1WukOYPgWweY2hq5GG\n",
    "cWLxQlTWKMCfDcA6VQBA+dlRB7PYugVPUziRpZJI9bk4OT8Z4Hw+FzgItpESl+B/NWHYVQCgfeH0\n",
    "zFlxy7VbLo5w5k2sedzbTd2jnt7k/gCQPmgqLIPCiqRCJUQKIGY7Y9XUvSrnyom6BUzTXhvB7JDO\n",
    "Pcoay3d+Td9G45tlTy2nF6j2rwubENtlEQl7UYp+lB7gG5BLDF2N2PaIEELsf7Yb+hQmRiNef4Vu\n",
    "GvJgu8bIPSPayGbp2VIiE+ArJ2dWQlXIImCBL/ZAtq8vxsSisdYZAAw6iTDlwvm2LHKbXUEsSyRb\n",
    "9tgb3sQjb4fMcAPA6ZxS7+KY+1m+WlHaP81l6fqU3l/IXArnqwAg81XRNw8+dvNmNPMfG9coXz1T\n",
    "et3lk6pqFBAGS+B3Nol1k49VeAyivEjRWGNzU5wrbcWdPrUuix4inn2zU9pvV5UQBY+gHstcagTA\n",
    "Rci3yiUi+uZNe7Jc9TO/NKkgpxIiBQAAgFkhiJ0ZK87qsqOBjglgKonFzgLRqY1a2OTMts8IIZr7\n",
    "P3x8WBDoFmTnNW1dGDwhdDWi2SNWFBdTLFlazoxzwvgjzn1wZ3zl2VFJVd+G7qcH7fNla20B9ftX\n",
    "04PPlNKVq5oKmZ3GoQkwb9NeM42nK5qERGLpI/ess3RX+UQAMJfHK0pp/5/6K1eFXhx5iNxLo+XT\n",
    "OE6iDm7S7p4O4CqJ8LAITBp+oSv5Md2Y+/ZRUoI4qAIAAw9uY8mnxmXOpUXjTywmtnIeO/YCpHNv\n",
    "PgQYzum1Ul04a0ubLyqNMKycxziWJcq+sNNAxPzE+CQ4l0IQxsImhHQGqvNzYkuVdnH/IbWV0iZD\n",
    "UdrFJIDM+svH2bo7eJq2MicYm6SO2XMuWAkb1dhUFJEzENZYQSvxWE05NVrSuUcvgwYhhNzIz8l0\n",
    "k849bhMmyBUTjW/4VgDnWfMzV1wC6xNJPmFJ7T7N9nMb56riRA6Eh7WhqxHSEK0MEkoqIVIAAICp\n",
    "HnQLJjQhZ3WXiu2DpN/PLQDLp/02H4heOWA00rwTEy4ppZ7e4IpKrX0a6K7IzjTNt1kYnPqtgkEu\n",
    "N8KM/cCzow46qe8vnRpI+j0t0G+Dcp0G8H1bMS0/3nOLZ0eK/8VIFzdVfet/MVpVA5Sn3r9aV+cS\n",
    "AEhyC8DqtgGKU4UNc/vC6U29bxGEM2+iah+kXCIAAEvMIen3TNfDgI9xs1OTTFO5JZukX7IN+2Jm\n",
    "MsGk8ysLRGGZ4VUcyhBP8sSpc5KkVBZebks0e5iqyT5A0u+pdy5VZp8YdwsAAOWaeqLgFYIktPuJ\n",
    "GTra5TrJBvizQaKiMcp1svJrvIHgij8i5FZeUUrpZ7gUXpKqgp+PEO9vbkpr4tdk0Ik9fX4TEode\n",
    "Y19VcRVoY5Uom1CeZI/U1L3SSVnR0maB95yqAEDO2rOgcUV2XtOmxhc/acua813mX7J1DD+yyoWr\n",
    "Th9mNWqhXM+tQYeQjjmcbzL00VjrDFTntlaqhd2BjUqDvc9f2TouHcUwmGaJ68l2+rfL2iVuPvzS\n",
    "lNUkdQm1kZZ6pHNv5YJxJA5WbFN4EEyA3wdUZm/3qW+ZimjpiiBCcuvU3UkjtMETW8qGwVKk4crP\n",
    "jjrxZnt7dEGNlbDobhgskxR/NgC2jZP0S2uq35WiU+VcSYXBhF8ES/o9vXpqiGacuAQW3Y2Cxw2l\n",
    "3SQXR7q3Fg5uU78agvm1+o7UXioh6fcrB4yG+JSqGOiuQ2DtK7Jnmqb0aezzilHfzRBY2qr4MADE\n",
    "PhiAnXbXEo21hg7rrrJG7u0yDR6sZU//mp55MJVqyoKT+SpC92agJrGCW632UUk+4Y5w2GZXklvp\n",
    "Of9uSOcepeLo8TaFy3KveOJSmb2d3HBcueq6e4YIAhU2ZTsKwZvYAooOXwFg61Xy5jWKKUZ3N6u6\n",
    "JtdiZpYKibfm3a+c8RWXUNzwFXt+t1wcUjGYLXAY65zcniqRBlTn1qRwSpW3tPUIrL04e17T2B1v\n",
    "Luq7MQJLWxUfBkgusavFCLmAaKw19NZ87b2tcOZNpsmWTDEBzE7tKfKe/pWtoRZ3RrxgbHa1Ximx\n",
    "toR4ePwva+6XK6cWi+WC/5Wdv7a7adw1Gt+Y5QhGLfztJPlY5a9jbFm41P2YRSqSYkXZ+XeTJLm1\n",
    "z+Ybec9wr9btoNhlpA9acr8hdG8G8ayMZg+QTk9uLkTuLXd95pA1VqF0h0nM0P9iTJOqlW521UMo\n",
    "kjAXQBw6qpA/9bL2orIE5ZTtlRd3xqTc87vl4mh3LXZIlD3Mv1QqtJwHUwn+VRxZ7hX9tHKaBnXX\n",
    "aQJv7VmxouycpvHNbMot2PaNHd7S+nc6fwpQJnIvDXA/e/dzq96RL+yGDs7zBi+VxAF8msT2Aax6\n",
    "l7zn9/2t1lODEAAAy6d6EwAk/X4ekAbRucS8e5c+aKpuNEgwp/2rodFRiAlg+XNr0AlCgCpZ2/2V\n",
    "qzWOiAGgDi22Nlb6z452FIugbtRBHMr1yjlL5Aew5lSBWL2UDnl0Vvf65oVL5978iTSIAQDQc1b3\n",
    "CgAIsvOPgeo89/EAFhEQa3uimlsrtoCm/tn1kunjrvQmAATBpNW9T37PzYWes9r/rTNBjZUo13OL\n",
    "dMgA0mmYipRMluTKIURjrfF0Ff8tzAVJOPqqtrrkaXEJ7f58SDrEBADLZ6kLm9zK8fugu+Xi6+/T\n",
    "uU1Sy+ApANDUPT8gR4lpYOaUa+/BVIK3mQDDOW1DvJrpKGTprrxzrqI1mpCz9qq78toAUM7uZ5qW\n",
    "b6bqrvpNAPBtciNv9o2BnKUdzmnlFZbIPWsY4KzOJQCp71tE0aqqiDdsBpMK0qtemyMeaCB05/+v\n",
    "vrCJAvMtXiRFNuXv/v3ja4uAfG/+4+8fXluE70nknjWCyzdz4eiliNzRrHt9wK80vE+isT370P81\n",
    "f8NHPNA/5PclEARBvgPhLDiuCWAiMdHsSX4Dn57Yg4qBRv+KIMjrYCrv/fPdTb2P7+CtR9J/7Vv8\n",
    "ioHe4/y13d85tIwgyI+NpN9T/bWFQJAXBfevb5GffvPTa4uAfFdwxBHk/bHn/WHkRfjdkfov//2v\n",
    "f/y/P762IMj34Ld/8dvf/fX6b4UjCPLrYo/7wwiCIAiCVIDxYQRBEAQ5POhfEQRBEOTwoH9FEARB\n",
    "kMOD/hVBEARBDg/6VwRBEAQ5POhfEQRBEOTwoH9FEARBkMOD/hVBEARBDg/6VwRBEAQ5POhfEQRB\n",
    "EOTwoH9FEARBkMNT51+jsUbO3Oi7yfIylfojoo258kJXI4QQkq/Ft+NEYqf/jjIaxw9qbsilvO9/\n",
    "V4n8yojcs7x6b0voapyGb16sPyIMLvvCFiRmk2s/Ud8BC5u3MGX8UfEf4pZT1rJDlo3KJMReQDTW\n",
    "dhnEspotbCJQvC1FOlAza51O5J4RQnas653vX/0R6Qz4hMi9NMBdUbpywPjEFMUfdczhnFI6H5qd\n",
    "uB9D95PemlNK/ZZxGXe9f6e35tfK924DgrwxorHWeXRWlFJKVy4YR7YPAKGrKUvnOZ8IkXvWWbor\n",
    "Sil9dkBv2ItXFv7H4WAeKHRvHp0VXcm3pKGD9mH/f4UeubdL59nTmweQTlzBwfZpkn5PV+6O/97q\n",
    "HftX3yak82hZPS4tnHkTVfsgAUj6pTV9mMWOczYA61QBAOVnRx3MEpXsyTKXNRrfLN0L9K7Iu6Kp\n",
    "e3RrMyede/Rej62s9EFTYRmEuaKyRJD0e+qdSwAAza7Wg2XwY29hXx7lmtLDbgOaunevSyDp95Ru\n",
    "ry1JCbmMkn7/gs717VD2r2w7TLS7Jy41CZYSwaIgF/TgIktpJDaNA4SuRjR7xJKztZW4UlEMKn0y\n",
    "y14Vtu36lN5f8D4SwmAKLTkd10kQAEAYLEHNEhO7wH4FgBNZAv9Ob12d779wQ5DNKE8ffkaIFL78\n",
    "qz8i2sjWhNM2q4WfnvEcvwtYkWloVxT4rST65k17WrdgQLPVbQULmxDbZq3g4pCZGPYCYiPA9sG+\n",
    "Tfi/a8UTW6SkxqqNNb8L5HZFAkMEFQOUJtpfISunwK4bzaxGNsSxwNFY6wwABh0y8vPhWb7HuFYI\n",
    "jsY4tcm6jhe1MC5QqTC8ANkhQsV5wf6av7Ab+hQmRiOWXyz89p5uB2ielatCL478zC2A5G/fArDm\n",
    "lFJK50OA4TyfaW4BWD6NQ0AqqM5zPjHN/uyowLI/Oyp7oLLSJDGrdOWqrPaV02Pl17FyeqDG4al8\n",
    "mfTZUTOpLNakuZXIn8YEVOeZrlw1KwRBXhzB9ClMEzU+5mDqLfqVzocAmW6LyCYsN1N8CwA2VPj5\n",
    "ELI5Rdkch8LcXDlxGKloOvLw9foWlAVj0mZ2wLfUXvZ3TpKSpBZvcDiLVN9S3uKlnSw0RNwQFDoz\n",
    "HoK4E+qGo2xdRfaWI28ks0FPTrt4Y5uYtWI/cK0oCZyWwBnbSoVJyxeR8wvsSa4ivsWbaX7eKZS6\n",
    "vZBYEn6tp1s5vfy416tuBYX9azR7mKofuxIAgHLBgs7+V1NlodFcBDVB6Q7B/BofWwbT4ZXeBFjM\n",
    "zJ5z0QYAgPaF0zNnyQJHdX5WAACacqu2Umj3WQwqCh652gY3Los79dvbLSa2Qjr3KKWUenoz2byy\n",
    "VVLdDQUEOQCLmQlWN5k+fUr7SmmasNONmOpfh92NYoX85rJ94fTWPR/XOtY6A9W51bM9aVP3KKXP\n",
    "zlLhd4RxaHHlPHbWbdSsJErUlNVMsDRRvxpOvW+RJLfgMYgAomDZuryyHoMoNlNJD4jgulQ6v7Ig\n",
    "s0g7HigWDVE0e5hal3FXZMdP/leTDYGkX1q7VFTPxLhbAAAo1ywOvzHSucciyUEwSRI5gdNQM2ds\n",
    "w2AaP1dUmKn3bZP9ntJngeIoWAp+30nzy93Ot1IgfLWnyw1W0dNtTcG/BsEEWnIySFLiAaPgEaZ6\n",
    "I9k1HxnTNILKSJ2u/9WMDzKjYAkTg+VpGJOacxdhpfym/pPHHpXOvZULxlExerAFadQ362vIYsKh\n",
    "YMyTk9fkkJ+u3GUHbxEjL0kULAvH/4VpUqL+1w3IHZ1I8kn8R118OBprDR3Et1Sa+lW65s7YyWaF\n",
    "wRTMDqu+M4DpUwDtrjXxZmE0ewC5KcvgzcIoeKzzlKIu3R2RIQqCCZgKE1QxYRIEEAWPoB6zatmi\n",
    "oSo+LB+r8bphU9p96ltppVvfHctCtTfLZEWVF5iRBWBvl2zdkz9rYw+uO1DIItKfHgQS7ab5pW5f\n",
    "J3y1pyu3fR8K/lWWuQsIbH0hySeFEEppRjW7Ws+cLfzZgK0Q5VYhVlO9thJWCv4XY5psyb2rk+xp\n",
    "tq2k8+GU3ezdmHRRHBMPZLaTjikoDTt5Zf44XTsjyAshya2SmchNkxL1v25AU1azdXMaMVL6xYgX\n",
    "23yMtYbemlfedhGbql2cXFNWC1HEawVA6Q6nQRgEoHWbUvcjBN9mHpROfDlEXboXJUMky8UTq74C\n",
    "knwC0ydWbWpDWN58o8psYPHbyRCtXNVUtgqtRe6tyQz7Z401KydwIrZ7M2BB3Vv2YE5hUioVJmFx\n",
    "Z0yS0fQuW1BiN80vdfs64as9XbHt+1Hwr1L3ozrV7+KL9bOHZIOnnFosMV55lUdR6n5UTaWT3bBt\n",
    "dy0WuIh3otVrK3GlAJC4sdC9Ye/Y8HcN5GMVTrZcsTe7Ws+8GUeJbrH4QHc4Nb74kDj1XDwtuzac\n",
    "rj2D5db1IshWtLtZADO5GyJ1P6aRMf9On+ZjofW/bkCzq/WSWQDhzJvUPrywGzo4z0VDxt1huTOS\n",
    "4CH/Ku3OgsVzFuLtUVyafKyatzfLE1kCkOTW8sGD+pK5Lo3GN1kQch3yscr23Jl1EhkiqftRNW+5\n",
    "S0ZnbgSgnFoskgz+V7O+LumDpk6y9wa5bhTDv4Uiya3KtUtTbgGL3y5mvBCJO1ncGWzEldMsxsCV\n",
    "P41dqf/FSLqg2dXSmPA6OfPEXjlyb0W9sZPml7s9T0n4ak+XjrV7a256tlJDcbWR3IkAALCG2eE5\n",
    "9wJQxTl27gg9TWF58tcT4nos7hKEoNI0e8+Z5w+rGck6qPbwOX+/KV8slzq38mVy6VkKE7L2wgiC\n",
    "HARu+pSnieBaiuDXdbdjqGBKxhVaw7pbP1lFBQl9q5iSK5YTRngXib/wIhaMK4G/mlQ2PpWNzRux\n",
    "jTKmtauOa9UYonzPZImp8VSHVnEvXick5I0tdzOIF25YfDgb9Hg40gtZSQc62X2fdLyG8+I1rnwr\n",
    "Mvvs83Y7G5c1V03zt6ISaf2Kzt9I83O6Lej2pBBrXin8Ok/H6efO95sIpRQQBEG+K5E7mnWvdYwD\n",
    "bU40tmcf+t/ntVF/pAU/H+4V1dDVjjztJT8o8aJEY63xdLXDW8Xv+PsSCIK8VcJZcLxloPhHJ5o9\n",
    "yTUHzIdFuf4Ml3t9v7BE+TLU+wf9K4L8ACxK9zp3voF/EJp6/2W+1sJ9lIZj/bcC+C8tFK/1vg0k\n",
    "/Xtt96OxRkjDqL0vtl1pR8V7Lb8eIveMNPTp+gdFYHwYQRAEQQ4P7l8RBEEQ5PCgf0UQBEGQw4P+\n",
    "FUEQBEEOz/8DcV3vWZAKUPwAAAAASUVORK5CYII=\n",
    "\" />"
   ]
  },
  {
   "cell_type": "markdown",
   "id": "4923e2bc",
   "metadata": {},
   "source": [
    "<hr style=\"height:0px;border:none;border-top:1px solid #c0c0c0;\">\n",
    "\n",
    "- Carga de `dct_guia_precos` a partir de arquivo pickle, ao invés da coleta online."
   ]
  },
  {
   "cell_type": "code",
   "execution_count": 23,
   "id": "c228203a",
   "metadata": {},
   "outputs": [
    {
     "name": "stdout",
     "output_type": "stream",
     "text": [
      "Lido: d:\\jup_ws\\tcc\\bricklink\\dct_guia_precos.pickle\n",
      "Tamanho: 73119862 bytes\n",
      "Modifificado em: 30/07/2021 20:12:57\n"
     ]
    }
   ],
   "source": [
    "# depois da importação inicial (demorada), dicionário foi salvo em arquivo pickle\n",
    "# e pode ser carregado desse arquivo a qualquer tempo sem necessidade de nova coleta.\n",
    "dct_guia_precos = pickle2object(tcc.pckl_dct_guia_precos)"
   ]
  },
  {
   "cell_type": "markdown",
   "id": "f5366ae8",
   "metadata": {},
   "source": [
    "<hr style=\"height:0px;border:none;border-top:1px solid #c0c0c0;\">\n",
    "\n",
    "- Dataframe `df_guia_precos` com histórico de vendas das peças de interesse.\n",
    "- Troca:\n",
    "    - de `seq`: número de sequencial de um item de pedido dentro do grupo `(no, color_id, new_or_used)`\n",
    "    - por `ord_itm_id`: número de sequencial de todos itens de pedidos reordenados por `date_ordered` (mantendo ordem da coleta original dentro da mesma `date_ordered`)."
   ]
  },
  {
   "cell_type": "code",
   "execution_count": 24,
   "id": "bd20fd2f",
   "metadata": {},
   "outputs": [],
   "source": [
    "df_guia_precos = (\n",
    "    pd.concat(dct_guia_precos, names=['no','color_id','new_or_used', 'seq'])\n",
    "    .sort_values(by='date_ordered')\n",
    "    .pipe(lambda df: df\n",
    "        .assign(ord_itm_id=np.arange(df.shape[0]))\n",
    "        .reset_index(level='seq', drop=True)\n",
    "        .set_index('ord_itm_id', append=True)\n",
    "    )\n",
    ")"
   ]
  },
  {
   "cell_type": "markdown",
   "id": "b8a57d79",
   "metadata": {},
   "source": [
    "<hr style=\"height:0px;border:none;border-top:1px solid #c0c0c0;\">\n",
    "\n",
    "- Amostra e dimensões do dataframe."
   ]
  },
  {
   "cell_type": "code",
   "execution_count": 25,
   "id": "0adaecad",
   "metadata": {
    "scrolled": false
   },
   "outputs": [
    {
     "data": {
      "text/html": [
       "<div>\n",
       "<style scoped>\n",
       "    .dataframe tbody tr th:only-of-type {\n",
       "        vertical-align: middle;\n",
       "    }\n",
       "\n",
       "    .dataframe tbody tr th {\n",
       "        vertical-align: top;\n",
       "    }\n",
       "\n",
       "    .dataframe thead th {\n",
       "        text-align: right;\n",
       "    }\n",
       "</style>\n",
       "<table border=\"1\" class=\"dataframe\">\n",
       "  <thead>\n",
       "    <tr style=\"text-align: right;\">\n",
       "      <th></th>\n",
       "      <th></th>\n",
       "      <th></th>\n",
       "      <th></th>\n",
       "      <th>quantity</th>\n",
       "      <th>unit_price</th>\n",
       "      <th>seller_country_code</th>\n",
       "      <th>buyer_country_code</th>\n",
       "      <th>date_ordered</th>\n",
       "    </tr>\n",
       "    <tr>\n",
       "      <th>no</th>\n",
       "      <th>color_id</th>\n",
       "      <th>new_or_used</th>\n",
       "      <th>ord_itm_id</th>\n",
       "      <th></th>\n",
       "      <th></th>\n",
       "      <th></th>\n",
       "      <th></th>\n",
       "      <th></th>\n",
       "    </tr>\n",
       "  </thead>\n",
       "  <tbody>\n",
       "    <tr>\n",
       "      <th>3005</th>\n",
       "      <th>80</th>\n",
       "      <th>U</th>\n",
       "      <th>0</th>\n",
       "      <td>10</td>\n",
       "      <td>0.0250</td>\n",
       "      <td>PL</td>\n",
       "      <td>PL</td>\n",
       "      <td>2016-12-13T18:42:52.050Z</td>\n",
       "    </tr>\n",
       "    <tr>\n",
       "      <th>3010</th>\n",
       "      <th>11</th>\n",
       "      <th>U</th>\n",
       "      <th>1</th>\n",
       "      <td>2</td>\n",
       "      <td>0.0550</td>\n",
       "      <td>SE</td>\n",
       "      <td>CA</td>\n",
       "      <td>2016-12-14T18:03:46.683Z</td>\n",
       "    </tr>\n",
       "    <tr>\n",
       "      <th>3065</th>\n",
       "      <th>12</th>\n",
       "      <th>U</th>\n",
       "      <th>2</th>\n",
       "      <td>1</td>\n",
       "      <td>0.0700</td>\n",
       "      <td>SE</td>\n",
       "      <td>CA</td>\n",
       "      <td>2016-12-14T18:03:46.683Z</td>\n",
       "    </tr>\n",
       "    <tr>\n",
       "      <th>3003</th>\n",
       "      <th>156</th>\n",
       "      <th>N</th>\n",
       "      <th>800205</th>\n",
       "      <td>1</td>\n",
       "      <td>0.0700</td>\n",
       "      <td>US</td>\n",
       "      <td>US</td>\n",
       "      <td>2021-05-04T08:21:18.383Z</td>\n",
       "    </tr>\n",
       "    <tr>\n",
       "      <th>3001</th>\n",
       "      <th>2</th>\n",
       "      <th>U</th>\n",
       "      <th>992748</th>\n",
       "      <td>4</td>\n",
       "      <td>0.1200</td>\n",
       "      <td>UK</td>\n",
       "      <td>UK</td>\n",
       "      <td>2021-06-01T13:26:22.820Z</td>\n",
       "    </tr>\n",
       "    <tr>\n",
       "      <th>3005</th>\n",
       "      <th>150</th>\n",
       "      <th>N</th>\n",
       "      <th>1134553</th>\n",
       "      <td>3</td>\n",
       "      <td>0.0910</td>\n",
       "      <td>AU</td>\n",
       "      <td>AU</td>\n",
       "      <td>2021-06-26T01:28:31.253Z</td>\n",
       "    </tr>\n",
       "    <tr>\n",
       "      <th>3622</th>\n",
       "      <th>85</th>\n",
       "      <th>U</th>\n",
       "      <th>1332486</th>\n",
       "      <td>200</td>\n",
       "      <td>0.0690</td>\n",
       "      <td>CZ</td>\n",
       "      <td>IE</td>\n",
       "      <td>2021-07-29T00:36:49.513Z</td>\n",
       "    </tr>\n",
       "    <tr>\n",
       "      <th>6111</th>\n",
       "      <th>86</th>\n",
       "      <th>U</th>\n",
       "      <th>1332487</th>\n",
       "      <td>2</td>\n",
       "      <td>0.7500</td>\n",
       "      <td>US</td>\n",
       "      <td>US</td>\n",
       "      <td>2021-07-29T00:41:34.067Z</td>\n",
       "    </tr>\n",
       "    <tr>\n",
       "      <th>30145</th>\n",
       "      <th>11</th>\n",
       "      <th>N</th>\n",
       "      <th>1332488</th>\n",
       "      <td>1</td>\n",
       "      <td>0.4051</td>\n",
       "      <td>AU</td>\n",
       "      <td>AU</td>\n",
       "      <td>2021-07-29T01:37:47.683Z</td>\n",
       "    </tr>\n",
       "  </tbody>\n",
       "</table>\n",
       "</div>"
      ],
      "text/plain": [
       "                                       quantity unit_price  \\\n",
       "no    color_id new_or_used ord_itm_id                        \n",
       "3005  80       U           0                 10     0.0250   \n",
       "3010  11       U           1                  2     0.0550   \n",
       "3065  12       U           2                  1     0.0700   \n",
       "3003  156      N           800205             1     0.0700   \n",
       "3001  2        U           992748             4     0.1200   \n",
       "3005  150      N           1134553            3     0.0910   \n",
       "3622  85       U           1332486          200     0.0690   \n",
       "6111  86       U           1332487            2     0.7500   \n",
       "30145 11       N           1332488            1     0.4051   \n",
       "\n",
       "                                      seller_country_code buyer_country_code  \\\n",
       "no    color_id new_or_used ord_itm_id                                          \n",
       "3005  80       U           0                           PL                 PL   \n",
       "3010  11       U           1                           SE                 CA   \n",
       "3065  12       U           2                           SE                 CA   \n",
       "3003  156      N           800205                      US                 US   \n",
       "3001  2        U           992748                      UK                 UK   \n",
       "3005  150      N           1134553                     AU                 AU   \n",
       "3622  85       U           1332486                     CZ                 IE   \n",
       "6111  86       U           1332487                     US                 US   \n",
       "30145 11       N           1332488                     AU                 AU   \n",
       "\n",
       "                                                   date_ordered  \n",
       "no    color_id new_or_used ord_itm_id                            \n",
       "3005  80       U           0           2016-12-13T18:42:52.050Z  \n",
       "3010  11       U           1           2016-12-14T18:03:46.683Z  \n",
       "3065  12       U           2           2016-12-14T18:03:46.683Z  \n",
       "3003  156      N           800205      2021-05-04T08:21:18.383Z  \n",
       "3001  2        U           992748      2021-06-01T13:26:22.820Z  \n",
       "3005  150      N           1134553     2021-06-26T01:28:31.253Z  \n",
       "3622  85       U           1332486     2021-07-29T00:36:49.513Z  \n",
       "6111  86       U           1332487     2021-07-29T00:41:34.067Z  \n",
       "30145 11       N           1332488     2021-07-29T01:37:47.683Z  "
      ]
     },
     "metadata": {},
     "output_type": "display_data"
    },
    {
     "data": {
      "text/plain": [
       "(1332489, 5)"
      ]
     },
     "metadata": {},
     "output_type": "display_data"
    }
   ],
   "source": [
    "d_pd(df_guia_precos, head=3, sample=3, tail=3)"
   ]
  },
  {
   "cell_type": "markdown",
   "id": "fe26325e",
   "metadata": {},
   "source": [
    "<hr style=\"height:0px;border:none;border-top:1px solid #c0c0c0;\">\n",
    "\n",
    "- Resumo técnico."
   ]
  },
  {
   "cell_type": "code",
   "execution_count": 26,
   "id": "caf2d431",
   "metadata": {},
   "outputs": [
    {
     "name": "stdout",
     "output_type": "stream",
     "text": [
      "<class 'pandas.core.frame.DataFrame'>\n",
      "MultiIndex: 1332489 entries, ('3005', 80, 'U', 0) to ('30145', 11, 'N', 1332488)\n",
      "Data columns (total 5 columns):\n",
      " #   Column               Non-Null Count    Dtype \n",
      "---  ------               --------------    ----- \n",
      " 0   quantity             1332489 non-null  int64 \n",
      " 1   unit_price           1332489 non-null  object\n",
      " 2   seller_country_code  1332489 non-null  object\n",
      " 3   buyer_country_code   1332489 non-null  object\n",
      " 4   date_ordered         1332489 non-null  object\n",
      "dtypes: int64(1), object(4)\n",
      "memory usage: 102.1+ MB\n"
     ]
    }
   ],
   "source": [
    "df_guia_precos.info()"
   ]
  },
  {
   "cell_type": "markdown",
   "id": "d3d7d601",
   "metadata": {},
   "source": [
    "<hr style=\"height:0px;border:none;border-top:1px solid #c0c0c0;\">\n",
    "\n",
    "- Salvamento e teste da carga do dataframe em formato pickle."
   ]
  },
  {
   "cell_type": "code",
   "execution_count": 27,
   "id": "045bb027",
   "metadata": {},
   "outputs": [
    {
     "name": "stdout",
     "output_type": "stream",
     "text": [
      "Salvo: d:\\jup_ws\\tcc\\bricklink\\df_guia_precos.pickle\n",
      "Tamanho: 91964293 bytes\n",
      "Modifificado em: 27/10/2021 13:31:45\n"
     ]
    }
   ],
   "source": [
    "frame2pickle(frame=df_guia_precos, p_pickle=tcc.pckl_df_guia_precos)"
   ]
  },
  {
   "cell_type": "code",
   "execution_count": 28,
   "id": "5bc25c37",
   "metadata": {
    "scrolled": true
   },
   "outputs": [
    {
     "name": "stdout",
     "output_type": "stream",
     "text": [
      "Lido: d:\\jup_ws\\tcc\\bricklink\\df_guia_precos.pickle\n",
      "Tamanho: 91964293 bytes\n",
      "Modifificado em: 27/10/2021 13:31:45\n"
     ]
    }
   ],
   "source": [
    "_ = pickle2frame(p_pickle=tcc.pckl_df_guia_precos)\n",
    "del _"
   ]
  }
 ],
 "metadata": {
  "kernelspec": {
   "display_name": "Python [conda env:tcc]",
   "language": "python",
   "name": "conda-env-tcc-py"
  },
  "language_info": {
   "codemirror_mode": {
    "name": "ipython",
    "version": 3
   },
   "file_extension": ".py",
   "mimetype": "text/x-python",
   "name": "python",
   "nbconvert_exporter": "python",
   "pygments_lexer": "ipython3",
   "version": "3.8.10"
  }
 },
 "nbformat": 4,
 "nbformat_minor": 5
}
